{
  "cells": [
    {
      "cell_type": "markdown",
      "metadata": {
        "id": "nzulb1cniZG3"
      },
      "source": [
        "# Imports"
      ]
    },
    {
      "cell_type": "code",
      "execution_count": null,
      "metadata": {
        "id": "MpmIh0VTNues"
      },
      "outputs": [],
      "source": [
        "import numpy as np\n",
        "from numpy import random\n",
        "import tensorflow as tf\n",
        "from tensorflow import keras, concat\n",
        "from keras.layers import Conv1D, Conv1DTranspose, Lambda, Input, Bidirectional, LSTM, Dense, UpSampling1D, Concatenate, ZeroPadding1D\n",
        "from keras.activations import sigmoid, relu\n",
        "\n",
        "import librosa\n",
        "import scipy"
      ]
    },
    {
      "cell_type": "markdown",
      "metadata": {
        "id": "677DovUOibZl"
      },
      "source": [
        "# Custom Model Components"
      ]
    },
    {
      "cell_type": "markdown",
      "metadata": {
        "id": "E5NdIDP49HYi"
      },
      "source": [
        "## Custom Layers"
      ]
    },
    {
      "cell_type": "markdown",
      "metadata": {
        "id": "wthpgGE3iehC"
      },
      "source": [
        "### GLU (Gated Linear Unit) Layer\n",
        "\n",
        "![Gated-linear-unit-GLU.png](data:image/png;base64,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)"
      ]
    },
    {
      "cell_type": "markdown",
      "metadata": {
        "id": "Y_Opm2d7ihen"
      },
      "source": [
        "The GLU is essentially a sequence of three functions: a linear transformation, a sigmoid function, and a matrix product. We implement this in keras below.\n",
        "\n",
        "This activation function does the following:\n",
        "\n",
        "- Splits its input matrix into two matrices\n",
        "- Applies an identity (or linear) transformation to one half\n",
        "  - For the sake of simplicity, I've gone with an identity transformation\n",
        "- Applies a sigmoid function to the other half\n",
        "- Returns the element-wise product of these two new matrices\n",
        "\n",
        "Given the nature of gradient descent and back propagation, this will ultimately allow our learning algorithm to use the sigmoid function as a mask, or a gating function.\n",
        "- The values uphill of the sigmoid function will, in time, learn to return values closer to zero to where factors correspond to irrelevant features and noise. \n",
        "\n",
        "Note that this behaviour that will have to be learned by the learning algorithm...which is pretty cool! We're basically dropping a functional architecture into the model and hoping it learns how to use it!"
      ]
    },
    {
      "cell_type": "code",
      "execution_count": null,
      "metadata": {
        "id": "K4GbIJMRid-P"
      },
      "outputs": [],
      "source": [
        "class gokaf_glu(tf.keras.layers.Layer):\n",
        "  def __init__(self):\n",
        "    super().__init__()\n",
        "    pass\n",
        "\n",
        "\n",
        "  def call(self, inputs):\n",
        "    # split the inputs into two groups, then  assign variables for both groups\n",
        "    these_puts = tf.split(inputs,2,axis=2)\n",
        "    lin_puts = these_puts[0]\n",
        "    sig_puts = sigmoid(these_puts[1])\n",
        "    # get the matrix sum of these groups and return it\n",
        "    outputs = tf.math.multiply(lin_puts,sig_puts)\n",
        "    return outputs"
      ]
    },
    {
      "cell_type": "markdown",
      "metadata": {
        "id": "_EocbcAa9Kmv"
      },
      "source": [
        "### Pad / Concatenation Layer"
      ]
    },
    {
      "cell_type": "markdown",
      "metadata": {
        "id": "HQeBCkdLEc8v"
      },
      "source": [
        "![numpy-concatenate_featured-image.webp](data:image/webp;base64,UklGRugiAABXRUJQVlA4INwiAABwHgGdASoOBJwCPm02lkkkIqIhIHLJqIANiWlu/CgMKP4wDiTVfv/Tu/0lO/R/+of0T+F/3vv+/wv9i/WTrgPF3sf/af2c+HD9g/Kb0HxIPkn1W+4f4D9wPzE+Mf6X+K/5g+y/qD9QL8d/mn9v/IT81fWc/EnxEgAfkf8p/uH+H/cP+zedh/j/3n1Q/Lv7N/qPzC+gD+a/2b/afmJ/gv//87/6f/B/2LyMPtf/C9gD+S/1z/of6v8m/pT/df+j/sf9R+uvsv/QP8l/2P8b8BP8q/qf/A/uv+f/Z75jP//7YP3D///uZfsX///+iIyMMvHyFwy8fIXDLx8hcMvHyFwy8fIXDLx8hcMvHyFwy8fIXDLx8hcMvHyFwy8fIXDLx8hcMvHyFwy8fIXDLx8hcMvHyFwy8fIXDLx8hcMvHyFwy8fIXDLx8hcMvHyFwy8fIXDLx8hcMvHyFwy8fIXDLx8hcMvHyFwy8fIXDLx8hcMvHyFwy8fIXDLx8hcMvHyFwy8fIXDLx8hcMvHyFwy8fIXDLx8hcMvHyFwy8fIXDLx8hcMvHyFwbe3DQgn5LrvLnWPIAJVhwaRj5ePkLhl4+QuGXj5C4ZePkLhl4+QuDyb84cUc4+dq2qXH1Bzj5/pYATthgR2zQAgOghbhufIXDLx8hcMvHyFwy8fIXDLYQCcYc4aAFuJ16s4BtL4dLyaNxluG58hcMvHyFwy8fIXDLx8hcMvHyE6TNpb3tgWCNDps4X+Baa61yry66+WsC5MfIXDLx8hcMu+/JscIDWFkxgepOcmOcfOECthoSds0JH8lwA3wz5QmxRbOIHvcuAMHcmmEUBAoiVYH7Qaz98NRlMfIXDLx8hcMvHx59+VRhG8OpIZbEd48+/KeiP+HUkMtiO8hcMvHyFwy8fIXCBLogoB+JhjV7JJW/7C1gPitk2aRyWGoedAlF3kAQAEqw5zQgn5LrvLnWPDFg3i4bnyFwy8fIXCBLlmo5c7ISXXvKFhnosrB65BWzjLZ0IBvefkJza575awLkx8hcMvHyFwy8BwQHolho28nJHBAdsNxIN2nuHzuaBX2bRCWjtW+vVFKsaADlDzoIW4bnyFwy8fIXCBNWe+WsCmF0EEZTP0eKIjFgjPs5RUJ4G9HPVCfIXDLx8hcMvHyFrs4M1GS3RZMXvjCHWPIAIBhzmf29SFoamSWuOzteRGhTlmxM/v0a4301E2CE+BNnzoKIak6WbTJTNTqjAxu63tQtd5MmpwsIIajjWVXCkWbBDkQeeoeh6GiMkGA6bFF0ZSy1nV/Ubnh1Mpn6POgVChcIBdBBGSB4asgoqr/WsoHbT867Uz5aNFKFHqBeDgs3aEs/rQncCuXeeLCQrXNgqT9EMkCxNI4pa7AQWX6rlF4dZYJUENmRc+yMSuAQsKoQMkq9t/pwFPrDGObe10077qORFEAqmHhyeICJdEE4D3J2yQWWBSSgZCIoUk3kNMNHHtswdHmAEFmu6Kdqe2NRkC6sZROlQqrenr+HlezNRlL7S+xyoOcfNmt1TVsmOcfNmq39kgEckAjkgEckAjkgDbpzeytKvTE68CexBKSGMArngO2UlOZAJG9ACjVwojMZqTjVRDwAmofM1ARpCvEVm4y3Dc+QuGXj5C4ZePkLhl4+QuGXjj8e49B5awLfRH+pQuGMqE+QuGXj5C4ZePeK9BGU7BoQT8l13lzrHkAEqw5zQgT3H+N73FW3aNjE0DbiCfkuu8udY8gAlWHOTQppiSogHQQtw3PkLhl4+QuGXj5C4ZePeUiZfANh0rotgs7hoEbw6khlsR3kLhl4+QuGXj5C4ZePkLhl4+QuGXjnzIhnSKGswk2jWH1zvb7nPOME2HxNv4ySYbiQLSDfe558FyXIIdVCTtmhJTziypTeJWsPgQqLaz5C4ZePkLhl4+PPtzMeiiSJjUHvCKc1DUk35AUyFexoAlAtwYbcel+yOTDqAiJiwaPfoA7xkNmRDOwLfp1JziBNWfIXDLx8hcMvHyE6TIHfgvYdxb6+Jd8tE155cF4ehHdHx6fpMyUDzl3Ec3f0FW2pFwSm5ZDCbzBB5yOdc10M1TYiO+cGYhniKkIB0ELcNz5C4ZePkJ0oqmAuDCAXQQRlM/R4kiU7FY0IkaCVn+WROxPU9bKqG9trCA4OpBAFKj4i/n35VMfIXDLx8hcMvHGHZ4E/Jdd5c6x5ABKsOc0ID1yNwvANxls6EA53cDeHXgbnyFwy8fIXDLx8efflUYRvDqSGWxHeO73CXxqwovEr0ZzQgn5LrvLnWHGW4bnyFwy8fIXDLwHAiPd/o8NRzyrylLhwLTHTj+pzFhTlyWfgRnBDekaJ0Fg4PNORsTE1Zz5xWuuF5Q+inx75awLkx8hcMvHyFwy8BwIdgYwSE+QeJ01vY2+mOz9odZGfyxH6pylrMRLwg4Cas58yd/ATsOAqnLVevcp0JgN62XHnqHjgp4r6oT5C4ZePkLhl4+QtmjKY55y4FEf8OvA3A4D634oZZiGrNh5JExVRmqXsodT6jwsxkhHYJGOExUzc2IodeBufIXDLx8hcMvHx2wXPoUuu8udY8gAlWHOaEE9ffGKeBTJdHYBazUAI+N2jo1LmTGieEuwIKo9HnQQtw3PkLhl4+QuEEuWnwXLT0Plp8FywCC5afBcrhhjKhPfLWBb6I/4deBufIXDLx8hcMvHyFwy8fIXDLx8hcMUmHV2BHbM7ftKZuXn+3bosmL5OwceoOcfUGDlNkqmPkLhl4+QuGXj5C4ZePkLhl4+QuGXj5C4ZePkLhl4+QuGXj5C4ZePkLhl4+QuGXj5C4ZePkLhl4+QuGXj5C4ZePkLhl4+QuGXj5C4ZePkLhl4+QuGXj5C4ZePkLhl4+QuGXj5C4ZePkLhl4+QuGXj5C4ZePkLhl4+QuGXj5C4ZePkLhl4+QuGXj5C4ZePkLhl4+QuGXj5C4ZePkLhl4+QuGXj5C4ZePkLhl4+QuGXj5C4ZePkLhl4+QuGXj5C4ZePkLhl4+QuGXj5C4ZePkLhl4+QuGXj5C4ZePkLhl4+QuGXj5C4ZePkLhl3wAD+/5YgAAAAAAAAAAAAAATUo2HHta40/BRcI9OSvLu5dD42WQoALof3/SpuYYH/yabxRj0/jZPnb1Znx9YOP+9RBtZIMbkQD1DZjw+UARmW16dlLl+rLppPzZxw5ClzmBfS+ApIISEDx07Uh6szmylhfmAvI83vNnIhEdcExiuoiJqUVB/IqaaS9+AXtk2p0gz/T2mE/4B6/Y4i/cph63DYf8LtEB+tpDpJMp9g/5elRsluHzNPb7QEVoLlNORr9B8irhjjPlzV2N0/Wa6eV6mtHhezn92Rj9x/s3/4kyM1hKv14vHKN4Acci1Wd0bxZtiCs9oWHIPzQK6c+tIQYVMa2GfSEQDWFBaUJX+2xqKBXcfb25NWo9XMDAvT2Dzy1UQaPEf/dkY/RsqV7scgwGA+nkqiH+T2CpkQTY3Ny33d5AO6NFv0yAUjZt7jarTU/pCgrGf7yw4tMPcnv/8jj2TIzH5LG+bF2AIPk5KqYBNIISEDxyp2IEYxkv/LQ7V9mrR3nttscDOu9zi4aIFt0//I2/zGdb8T6aJG1mWcIvqw6trMS1yF38OfaDnDMKhbvItwSM0DlV31U1UYxkhFvjN/FQQTztMgPUN8Thmsq2vIMvgZjxt281gp4xZCiU7yNEuI2IaUbbX9fzkyiormJeu/8xkTRATTkx1HsmtGVkuP2gPa08BppIA3qpjjPDnbYiRcIfVVilJVWslhASUpd5xO/G9IpI5lBZq+6ZNUL0PjEYwghIQPGRix2ivAzVaErq16x666Yu7neQ0+VABHaTwuvfPJ4IDByIIZr1vS9t31v9qqU4ZzuuROitW3R52NhPLaWpVgNL4bX8+dpoZVrufWKfmuwP+SW5u63Hbld9yugAtxYWJV5ekdTKmgc+rvmDA+De+w1ZGsUDDH4BDiX+dCkBtWXNQHaT2pHBtdEGewRJP0C1UtWTbZw7U7QlvlqupbDzBmz+42BQ2Cwi05BPd7mXNGz2v74/yoZVRFFJAbVl9VzZh2KROOFp1xC1UdJ2vkzUdWSYxfaQTYR48toljNctN/jvEyrrqkX+5+l4fJAmQmjp1rd1vpeBuVoQ4v8jwxx6kQFIwOZ9NOwRiSBKf6gBk4EqAySGinqWJplbfUyqiKKSA2rL6rmzDsUickfpQIjDYy8KShNDTO+5dhhnxcqZ3RrNjUv47qnSL8/RxKH4xHVVgALSOw332iMaw3aUV1iYSKvozg4KVo31wDFvK1kJft7no++k/8v6RFNwE+ER6UU3n4NwMA8mPVpCFwER8jLuNIRQLDfq+q8u/IrBu8Zt3W9CLTEplEiMSQDKbJUlohyunPj1OaV1Txdh58g/VNlr/RK+le1RmSfhD3/VkYMv/Z/UmxZK47jqwntwmp9ayVUwAfAAPQfp0BeoCp/y/pEXjdm//ElE6HwXTFA4viQNP9V7R0Bxonl9q7TeXf4Q0KIxxDQe8WolVmu0tyX/l/SImrrDTHXkwAJnK/uyMfiyTe0zJUXDwOMghoNsnnjAFLdD7HwNr3EvlkhEQAl/aTBVUzWCq8OJvJpGzbVroBYH9Y0JEA9YEhiQtUPIZF1zudwJzkR7HAg4Ue0n/5u/BX4Vf9k0gML2mEemrCv/b++RDvlHF3wLBwn+OVrrvIbCRV9Gjbdx2B6SDJYmXEsvYIJ4uNoHmUuclG4j72khOT6RhQEzA99xR1qmT1Jt4c1bqLn4x2riHAz998RdqXBxcGcoSqxDnvBwMq1V2Y3Hh4nK/HVOW4uhKSPer6GC1mKJC9dn5lkZeObFVCeXSGqB9EREd9zxi59V1Y1C8z4GdIykiLmdwZUh+tr+irC8AeVlKhhtHKcOi3VkqVHGigbU8h0DPCarvKfiqx0vP22Sxga2psBp+icdT58jsBP0aILzLgOJzXJpsGl8JWuJvUUoHedQZ1m/9TUuc5fNQGRHzjDh7ZtOHyy4epyWQ3VDpXtFO2lrJV88lnZTwPRazOXPrgfAMhSfL0qpj0ULhOt8rDPCPne8pLcA2q9WVqLnhljRELtEHNdbYeyNziFvKSSC+irGXanK/T3SoL42VJcoqDfBEkTfNeH05eF6S2Bczt8mnc4Y6UjJJ3v0Cyso/RYYXC90LQdsCUHCcsMNdjiDYQL6SELQ7/G/HmgyfpZb7gdavjchrv2WLTtdzUtfY6T+NKe0qpuALtCHFMJm+pULSRtkHHNTBESGJVzzGY4w1xh4b9SYnuHPhckmfyBtl0rjkSzyyMfeWdId0Ww+R8mAAa+TRIw9IlzVgq8i5YGdJcfgQPY+NmsvjHM33dThAor/wYYJbo6l6q+nlyXREd/JWdm4u2KaFKg+0X81LAZDyjvd4yZkdNYAEMsSh7uyzcXODITd7GIPO+1eWnrsHkXy/KfTpTBLUfqRmpzlMt55+oTj7n+2MEISoQMvZUXytDBfo0bVPmb4mD5SvICjIOjo5Cr06Zx/XxYd8FLcXg7BhvvG7DKmJL1NYTrtba9x1IE3S4/H2WeJzdeJE2OFSCw3U3g8bhFQCzro3oi6qSlNMZXA9MLxYjDBfy7n55Q5YAt3DMYoZvS2f0h3JFdDqkYcwrYf1TQt5H5xYBPgPV2kcjtXulJWpp8Vybm9Ze2NXIbuaiLkIpz53EJE7/ZrUIqIRQhjYPmOsrSlpigtG8qjORze3PHKB2IuRP8tVX/q6TVM75Ryqw7q42N9eeFtXLJXVsNN2piMizENFdwyvRNWT41iDeDl/jA6JuviCWs3zkS8kCdrqwnz86yitUeeLXQfJCQwHpaB1HktHn6VLxhdWhOkxySQhyQUzze+zHPfMADlMoJxwla5sxidQOvHC8ibKc4X3LUIP0SBCovR3/E4R7L0rvPz8GUk1fzxj4mBSltPjGpcDLe8DfBC3z1hbtl6ddtmQtqtDgs4PsK0tEVNTc+QTF/8tfPZS73fSG8oOBXVBuGwvnBIB+hS2DY9f30iyhtXzqnbks+qL/ItleAtXRH9Wl3tmdoeE+2gz9icdpwWsxfyCvVkKWFw2oMYW5zWxh6Z2Hxk3hsoI6it0U/kZW79R1aiCH8uCqJnEhcNM7Ha0+GYW/CuS/+YJmtcX6o+6qsvxSbLzMmJrr5/Ha0YXWrvT48hyS5j1qQ7M+UwqX7KI3X6jMbCNx0v4HogjvQrfUYu6YtlFohcy8C8CF/thLSMf89V2/kA+viRO+dW+YLUzytR9IIo1krX9HDe6/9iyZ6G7s9pr1Ajc87AScvHspdPswlZeAA1vrEbgWWLrN0afRp5YzJQMzJkUmzTb5zM7RdqLY9gqMR4KNOPl28Kyyo5Atf9Pbk2JUKCPpka2Ggeb3ze5vrxqkdPBL5HHfV2KOwbBgRT1ukNXT+Ogj+IWl68v7WXgzwH9Mzwawv8R8WpjxP2B4GPlG/Q8jvHX4NoCyN0fU6qWJzsWBSNSTskK6Y/3e+hh1Qf6zP9ngfIVkyf5QLBCim66WKaZ2kgIwquNNnPV8M15bsCh65l3MVeeoELPYh6YrLtEQDTKAEKothCz5GNZU98I3/xgPD0CY64MsMWh3kiGV68cw47F9iiGe72tQ5h3zhBp/Us52s8+zfWH/MspYXMKsYadcXrUb+LqnDG+/ZZqXAsHocZCwJbOfWC32cWbLFbTXk0DFEas5OdJ6pUJ7sTHxXg4g11l8cpgNcuxlrK8TtvzxlIo6SJ2tKRXqblWBIgVhRkQdDxJH6BLtc4e7hNDERKH0avL6WB8aFAc7ojqns+vo9bMnC2yz6PQgOHE843jOVP5pVYecc+ltLhLxtb8ZoGHNTleNuCsQN4yeLBy4b8Gn2vLGWoXVYNBwCBwxIJscy7ze5xJ9GyHuuNtgO2Rah9IGxXh3q95FrCK6AMbGocR33ysFeMcXA09taBUmDDuYCo8cdML7PYjX4JFfv+HP1rml37FS5ydNx/yihJYyBkh8Vr4zafa3ys07NOAPrE6JCNbWGiaqqxA8tV6XRwP6OUs7kwHNwFC9EyG8l8z8QNRZk9jU/rKc9W86+pZsd0t4Wtlh4/U++qefJi0hc5VvfXh7HRGYmDtZ7EmlNyx/fnA4olQpALPuLPqGMOj8omZm1lqtiCZkYHXZISNvWix4ZIDX9KRuRM8Pefq79w50yFGpPJsJY7IW8VLMOtuM2bhWXo0rGjDyqZctTbN4N0ZZ+iDtp6ZQ+8mnGDzzdX8QKC3q/S+fffGqQjz6byiOG374R3ciFgIM+zb6EYCdGMWRBgbAQGtD0z8ufKupsv2jPMptb9Is8u/NZ/+4K0VKNfVi26vjpDG5nKa9DO3Sq71krAUYoH30dkMQs7+CgzPLMkEMGU3vZ8I6LZDEqMexrRCWL4dVW2RvLdH5cX47zbwp83hQ9RR83gt6UZD2LsL5jHipK0IszrMgij6FdDPWWlIgSFU7heWd4agRCjAQbqYCPePyol0iNkifURRSQG4pgqdtpp7UvKhICQAEszYkTztUDwCtcJ6O8ABQkbkRxDOIBNhIqC04bj2/vIrvkj1SjT6g5w8J7Xjr8uLPKNkFrn5BTr//GTzsSat16LwIxLOAK+qoqX9h1/q2oLyzmdr++P29RcRm6yboVIYycgU/uRloEZi1DwZ4hwX1XjQeDTbzSRR2eZw8NohNAKjL9Q2f43/XuixMrhWwgBar3tD9pgcOKEhFtKhd23QBD9OevOk3DaW5CQ6LqfxkNu3UMGaHkNjvgLg8TMhOabRymr5Nq2UfA+Hgi+kyM9Is1A2ir/TKJd4FvqekwOX5vijnQedDbx2Ydifs5hZFFJAbVl7LVfJEh6mNKXLQktTBxcmVxofLjjV3v8N8k2x0UkZ+jp1rc03wMdNowSp9ICte1lF9uBoXuBwJw/qS9eytTAHjhUa11zuUO+DEeTw5o82V755PBAT9kZWaALVkiQkGWPSk4GE2bCP4KybLFbQ6AAcgsMFnvJc6u6+HsZrAjObwheXIgedw6v8eaRMjs5adzu+0FhIBFRp1gGI72hLhCvHehzC70VPruj9xon5B6lUBoID1IbLD6CDZHLv+087+O2tSKPA4bbVzS5Gu44RggwitRJ0vr4kqLdAVpDr+StQmID5GwxfUFiXqLhnOUq2Xt/6KnaC2J5LjgTOGzeAS+cJ8mYmIm9jCSsJY7yw8Nm7zBfeu3NVFcjRUWoIW0AAVFXj+eP8MIhxlQsdOsNNmU/FTTAdByweVYWYAaADzXTmTSZyBU46T66pIXRKQE8IH9zaLolWahyDDry3vHQf27ADgEj7+3YAcAlGGwmK7Tg2IcMH6rAkzOSWKfuCE8Xps4LTXddLj//7xoDs2o9z+PiAlN5rDcGXhpf0kxhY980MqeYvgn/Y4xxWfvZLxVTjdmauNe4hw010yoM93ZZuLbHj2UVcboA73maXYZryXSxs/os+srwwbI6G8zeko3imrpI0oNQCI3iObYpUdSxzc3oNyDLxKXeRKHreGssDpfH0PCgyYbKgjUUG6rihVpc7XvtABKg/jVVcHwgD9Pefk0bbfkewjQJD0v5ktzMx77EcTfSFaCjLcB1LPNgNDmpThV8OZ/e2shd+QQs8s33SDZ7Jv+YZP7ZT9AZh7O7uvSGlvM876bK6BcSUXuvWocvOAiDISzr6rRhMyjJqp6tCo42R/bXKoB75Wq5XIALBlTghVXSlHp44v6qnwsi1swF/ZMSqVK7PBl9o2PzGHeEnU8xeRM9W7ST3pwBXZbrSCQaZVyusxd84IUW5l0XPdHQP59pOPySL8Qo4IMnYxqv822dfseyo7C1/s+v9FZuvEUW/fW49jRrROdu9FY0+6Fys+aVRA6LSJYFQlV3bRgbUbhFC4pQ1p1IDkq+NwikgzQwlqabKL/TWr4DGFfH7PrrC7tAY526jXTx/xEfrjX1YSPfgJdQ6TEH0tmhnoFAg+cNQ8yCbmuwy3/bZsI60v2Y63MeT33dvq7TvnyTcNFS/V4LemPmsOmnhV2b5qf5G/kvfL8EBkV1AbD0tpdw2T2qtxCpoqBKnjc0Et2rZkiLV4uq1GmK7/EFFf7GrLsI1QkgNThkz6Yad0HtzZDzNvHAMDe8C4pcOu6UDjDCOtPScx7JUHcZN5YhWczQeR+0xuydi90akKHHNMWyhg6VuMKJ3SMe2dll1sORZpawlF1QSTOegNX21jdSPA3+h+EfG+vnQBGN54aH5sC4CfwKKyWyv0UNKQw0hL/ZiPcoE5c2ZG00yjHo6f3tOn4J4HdGpChxzTFspAlJIRQVqiZHMCc+Ch90FuuPe2+fZgtw/iV9jjAjMF5dgZuUrQbyLdU9bCoQ0UeYbCKO566BeT1VNHy+sIa+/EmPIwYOTEM4QKXWu+iZGq616t1SOHXI3Mc4ekYnI9FqsXlJUyAkNmUjN43yBSbmTi54abjNLH1BJ1gC4S0dunWsW1+TPkwx8SbJ1bRr3o3FJbzr0nt1SJv0V/4qcL52T5u3R34UWpjcosRag2HGucXbS2pecUSQlE5EaioflylqOhhpA2t6VTOzmFzdq3dn/Fn0Ky30hj7DO9c4qSqRr9qCUN0V1vCEs4wEBB1FiMEr3CflJrRyu9uvvm/yIjOs1+FM+qecTiNx7uvTV7cjw9HetgRWpdI+OOvgw8nxRTtI2RiNqCskaLj5b4ZwlCwf+DnbBB4wyq/tTLmW9iW+M2Cp7GNGe3+rLNMm1dQDFUa1YRkTenUbVXErxaGswVMhNJ/SZMqFbsXvEVKBo2uSg43R60jcwKAnWwxQG5aQfBgL60uxnlxaB8pmfA82IRy8g6MdogD9n4DYsbkkTZ/R8/xWoTgGTRlyQgge7ybaYTHd7t+x/rSu7ar3DEbcT074qsSfrYxwYPBYedBvPl2u0Hl1n9kj/rpj+XW+p9EeyyyyqBDj43KIkbpZFbmhOPvg+evHaz7CXJ4vSdDcqF1fYxUGQqMn2+R35NoS1Ylb+pFyQ0feWO9O1vZzkU+viUoTdT4NZLublZK11KQQMlJtJviMF3QkHqIG1imT8nwL75wWgAWkhn5bcqgQV3NjC/djZ2qiuRoqBFw3A7unXj+fVgrjRsdKm5hgf/WamZgpxhGep+PJbP6h/56HG/3vhlzNoE3JSmZY7E0mUEK97LEup6Do+UmcQUBBD1+EpIuW5fy0vCFSV6zp+X9ASNC2A8c/LYsBwDc2G0uv9betT4tz58fr2iJKA4rv6p6Pt6txsNGYxTK0v7eluHjK/2YCRlb2ZecTUTQIVSL4BMAYtejpVfjW6kYkaWKI3OW9y4zGjL+iRBjCWJQW68VZtgbBkD+ePaEWo6Nl6UTDo659ZWbZRT/Rw91KOkjcPXnqp8JARnT0hWdltEVxbxWczLynOdDjoZRVXU84rxmNE1wK/kGU8raa+UPfu0d/sy1KUDsn7iZVc23YHyFccyWhKAStuQ2uG2Vn/QtrbyFB405bKc+BuIopK4w1LRGusIND3Oc0nw/rmIUeEA30D9pxxzSfcfVdnPKZLkTzweB0th7W1howtYkGrXQt4ScoAQw9Kj383AITkR783M4JVuzi40kvIfxijzF1hndjysDaoptxj5FZGcHXw99QXfcBPgl3th5YaK0U0lnUlKqAHvQP5SuHRoz6bhj6ZwDKJduwkJzkKlefWcGrl3Qma8VHOsIVU3695XBJvWpFyYrNrVulT/Q1XNI3MwhVEXoLqNnidD3QwCRfgHMwoCHbkeJKfek/ZdLlyX5JNgL80nL3yEGcvvuyOmlgpmpzFLrQ3EmJRK9CLKVwcjR9yZZI2RYluYdcGNs+5FL0x44ucA8hoXujFefi/XvEWV3+3GKJ42s3tlgTZsj7pGFCZtfRcgcX4BTHn7dBJe6DRwceoOUpMHfi31hwQOMpL0y6fDxfAoqQGDnxrqm1AuC+FvU6kfS0JRbEnAOFHnfP67hsWt5vErZuV7htrDJX5Bb4wcHLZszHjWafhv93rULFJaSsvog6meUpzUPc/hNRGxxd2RGREV+ALMqukTdqHl5bgghJIUH8vfa8XJRoxhM+gLpcHmA/KdkErp3aMHkgIe6HwPC3qdSPpBlpl6950WgMh9XcMKJvRXTfhTim9Wp8O1kgA5Swby02AWys86Xn3T+B5OWIYH7oSWjsFzPhm0PrYvWcVPVdosjvAZPxKa89s8u/aJs5TNlGtgDGnDWisqz8carDZ/HXywK6pAwkitQYDiNy+qCjrmV07oaKd6ZMKzOmsC6IGe7H4eNUXYv3lPjArdEGwVXHQE7WASStbToSbmySSfGyUeXGbirmkjfSC3Bc1Jkoq+VtQso5IsMIpB18Oysb0dyujRKsj7GTd0NKyg6TUcmJSuzCI/34eGgXHpm4a2l93IsWL4XSoTrnt1UtLY/fSzGbn0HEz9l79kfrhjYu4lDvFrl6yxSKk3M2cZoT14s3XD1sGXDLrBoqT0ZF60kitQYDiNy+qCjroHCflGoPUbbZtosNEcLW917kjVqdOzN9/MLmv0YpyNL88VJv8FnF23uPfkm9jCSsHO3m59vQpxjnSPwKMsEBz9PDqnRZ3yn7uk3hk3MclUdSvGGwduZS4bguqZsSVLou+1u1sfVOyxwt0BUm8tRSwDyY9WkIT/PeZvmSc//20P7pfRKvOM3pyQszf8cquzeEjab1GeF00oUETH11RDZgl7PJnAszya4YBRlggOfp4dQaY1CFphdiJZmYvWjGxh2ZuIlYTX9fe1/Lv3LiqkGsn5fE12Ff3eR2GMTQAAtfACP0GTYL42qxZ0Aut1OW9IaOQiOrROVYiKiolmbV6fxJmBUHUMEWwD6P2DqnoeF0hA9doSK23auFnVdaSQAAAAAAAAAAAAAAAAAAAAAA==)\n",
        "\n",
        "Combining skips with deconvolution/transpose convolution layers will lead to some problems; we will often run into problems matching the dimensions of the tensors we are trying to concatenate.\n",
        "\n",
        "This function pads two tensors to the size of the larger of them, and then returns them packed into a concatenation layer. Easy peasy!"
      ]
    },
    {
      "cell_type": "code",
      "execution_count": null,
      "metadata": {
        "id": "8TCdM-l99RW5"
      },
      "outputs": [],
      "source": [
        "class gokaf_padcat(tf.keras.layers.Layer):\n",
        "  def __init__(self, **kwargs):\n",
        "    super(gokaf_padcat, self).__init__(**kwargs)\n",
        "    self.concat_layer = Concatenate(axis=-1)\n",
        "\n",
        "  def call(self, inputs):\n",
        "      # get input shapes\n",
        "    size1 = tf.shape(inputs[0])[1]\n",
        "    size2 = tf.shape(inputs[1])[1]\n",
        "\n",
        "    # get maximum size\n",
        "    max_size = tf.maximum(size1, size2)\n",
        "\n",
        "    # get require padding\n",
        "    padding1 = max_size - size1\n",
        "    padding2 = max_size - size2\n",
        "\n",
        "    # pad both tensors, exhaustively because we're lazy\n",
        "    padded1 = tf.pad(inputs[0], [[0, 0], [0, padding1], [0, 0]])\n",
        "    padded2 = tf.pad(inputs[1], [[0, 0], [0, padding2], [0, 0]])\n",
        "\n",
        "    # concatenate & return them\n",
        "    result = self.concat_layer([padded1, padded2])\n",
        "    return result"
      ]
    },
    {
      "cell_type": "markdown",
      "metadata": {
        "id": "h3cf69UVnWTc"
      },
      "source": [
        "# Model Building Functions"
      ]
    },
    {
      "cell_type": "markdown",
      "metadata": {
        "id": "fyllqhbnnHfp"
      },
      "source": [
        "## Encoder Components"
      ]
    },
    {
      "cell_type": "markdown",
      "metadata": {
        "id": "IRYDhOH9nRJd"
      },
      "source": [
        "### Encoder Convolution Layers, Encoder Block"
      ]
    },
    {
      "cell_type": "markdown",
      "metadata": {
        "id": "VZ0PhmedFfkm"
      },
      "source": [
        "![encmap.jpg](data:image/jpeg;base64,/9j/4AAQSkZJRgABAQEAeAB4AAD/2wBDAAMCAgMCAgMDAwMEAwMEBQgFBQQEBQoHBwYIDAoMDAsKCwsNDhIQDQ4RDgsLEBYQERMUFRUVDA8XGBYUGBIUFRT/2wBDAQMEBAUEBQkFBQkUDQsNFBQUFBQUFBQUFBQUFBQUFBQUFBQUFBQUFBQUFBQUFBQUFBQUFBQUFBQUFBQUFBQUFBT/wAARCADsAj8DASIAAhEBAxEB/8QAHwAAAQUBAQEBAQEAAAAAAAAAAAECAwQFBgcICQoL/8QAtRAAAgEDAwIEAwUFBAQAAAF9AQIDAAQRBRIhMUEGE1FhByJxFDKBkaEII0KxwRVS0fAkM2JyggkKFhcYGRolJicoKSo0NTY3ODk6Q0RFRkdISUpTVFVWV1hZWmNkZWZnaGlqc3R1dnd4eXqDhIWGh4iJipKTlJWWl5iZmqKjpKWmp6ipqrKztLW2t7i5usLDxMXGx8jJytLT1NXW19jZ2uHi4+Tl5ufo6erx8vP09fb3+Pn6/8QAHwEAAwEBAQEBAQEBAQAAAAAAAAECAwQFBgcICQoL/8QAtREAAgECBAQDBAcFBAQAAQJ3AAECAxEEBSExBhJBUQdhcRMiMoEIFEKRobHBCSMzUvAVYnLRChYkNOEl8RcYGRomJygpKjU2Nzg5OkNERUZHSElKU1RVVldYWVpjZGVmZ2hpanN0dXZ3eHl6goOEhYaHiImKkpOUlZaXmJmaoqOkpaanqKmqsrO0tba3uLm6wsPExcbHyMnK0tPU1dbX2Nna4uPk5ebn6Onq8vP09fb3+Pn6/9oADAMBAAIRAxEAPwD9A9X+Nv8AYn7R3h/4WXWi7INc8P3Os2et/avvzwTKklr5OztG4k37/bb3r1Cvl79sE/8ACE/FT9nj4mj5YtF8XHQLx+0drqkDW7O3+yrpH+JFfUNABRRRQAV5b8Cfjh/wuT/hObS60X/hHtZ8I+JLvw9e2JuvtG/ytpjuFbYnySo4YDHHIycV6lXy1op/4VP/AMFBte08/udI+KvhiLUoc8K+qaafKkRR6m2dXJHXHPrQB9S0UUUAFeTfHj48D4DXngi81TQ/tXhHW9YTRtU14Xfl/wBjPKMW8rx7DviZ/lZi6bMg/NnFes1yfxY+GejfGT4b+IvBPiCHztJ1uze0mwAWjJGVkXP8SMFdT2KigDrKK+df2NvilrGteF9U+GPjqUr8Tvh3Iuk6sJDzf2wH+iX6Z5ZJYgpLddwJONwr6KoAKKKKACiiigAooooAKKKKACiiigAooooAKKKKACiiigAooooAKKKKACiiigAooooAKKKKACiiigAooooAKKKKACiiigAooooAKKKKACiiigAooooAKKKKACiiigAooooAKKKKACiiigAooooAKKKKACiiigAooooA8P8A22fh7P8AEz9lj4i6PZKx1OHTW1Ox8v8A1n2i1ZbmMIezFogv/Aq734L/ABDt/i18JPB3jK2ZTHrmlW1+yr0R3jUun1Vtyn3BrsWVZFZWUMrDBUjII9K+Xv2EXPgfSfiX8HJ2Ky/DvxTdWtjCx+YaXdk3Vmx+okkH/AaAPqOiiigAr5r/AG7fC+oxfDHSPif4ctzN4r+GGqR+J7VE4ae0T5b63J7I8Bct6+WK+lKgvrKDUrOe0uoUuLW4jaKWGRdyujDDKR3BBIoAoeEvFGneOPCuj+ItHnF1pOrWcN9aTD+OKRA6N+IYVrV8s/sS6jN8N5/HfwC1eaQ6j8P9SeTRWnOXutCuWMtpICfvFCzxtjhcKtfU1ABRRRQB80ftWfDjxD4b8R6B8d/hxp73/jfwjG1vq2j2/Da/orHdPa4/ikTmSPr8wOAx2iva/hX8UPDvxm8A6N4y8KX66joeqwiaGQcMh6NG6/wurAqy9iCK6yvj7x9o+p/sR/ErVvib4Y0641H4LeJJ/tHjPw/YoXfQ7skA6rbRjrGw/wBci9MbuQAEAPXviv4x8Xah8TvDnw/8C6xY6FqM2n3Gt6tqd9p325ba1RlihQReZHlpZWbB3cCF6rf8IT8a/wDor+h/+EUP/kyqX7O93H8QtU8c/FVW8618Ual9j0eXBwdKst0EDKDyBJL9pm9xMK9poA8j/wCEJ+Nf/RX9D/8ACKH/AMmUf8IT8a/+iv6H/wCEUP8A5Mr1yigDw/xJp/xY8IaPPqur/GnQbLT4ceZO3ggsFycZIW8JxXDab8X9f1jSF1Ww/aL8MX2lsCy31t4FkkgIBIJDi6K8EHv2r6a17/kB6j/17Sf+gmvjH9iX4na74W/ZT+Dum2fg3VpbLUNU/s+XXWe0azijkvptzbRP5wJ+4CYsbiM8Yyo3lJx84pf9vNr9By92Kl6/grntPhGH4o+PvDllr/h344+GtY0a9Utb31r4NDxygMVJB+2diCPwrY/4Qn41/wDRX9D/APCKH/yZWN8U/G13+zP4P0+68OaNZ69pN34njtr21a6ME9s1/eKcQoqFWIedjhmTgjrXR6b8XNSsvjIngDxHpdlaTXWgSeILa+sbppI1SKZYpYZA6LyPMRg44IJ+Vccu6lqttfwXM/uWoneO/wDScuVP5sq/8IT8a/8Aor+h/wDhFD/5Mo/4Qn41/wDRX9D/APCKH/yZWB4f/aF8S+NPAdt8QvDfg2TW/CN7qS2en2FmWk1O7tjceQ16RwkSDDSbDuJRcllJwOm0H4s6v8RtZ8YQeCtP064sPC+ovpE11qdw6fbb2NFaaGPYp8tELqplO7LBgEwMk/r8v8183bfQP6/P/J/LXbUg/wCEJ+Nf/RX9D/8ACKH/AMmVy66t8RW+IH/CEf8AC8/D6+KTatejTW8DOGaFdoZ1Y3e0gF1zg960oP2rNE1j4f8AgnW9F02a+1zxfqh0TTtDnmETR3sbOLhJpAG2pD5UhZwrZCjAO4Cue1O81o/tr/D+HXLSxgMfg/WXiuLGdnSRTcWeQVZQVK49SCCDxyA18ai9ve/CLl/l8mD0i310/GSj/n80dv8A8IT8a/8Aor+h/wDhFD/5Mo/4Qn41/wDRX9D/APCKH/yZXCt+2Hb3Xw31T4mWMGkyeC9PvJY1s5L8DU7uzim8qW7ROi4Id1iIJdVB3ITitjW/jx49X4reK/A3h3wRpWvX2n6DB4g0yQau0C3cMkskaxyF4gI5C0YwMlcEkt8uCu3n/lf8vya3TG1a9+n+dvza+9dGdF/whPxr/wCiv6H/AOEUP/kyqWtaH8XfDmkXmqan8aPD9lp9nE009xL4LAWNFGST/pld54g+KHh/wdbg+Ib5dNuo7P7dd28aPcG0hH3pJTGp2Rghh5jYU7TzxXE/G7Ul1vxh8JPCayCTT9d15r26CnKzQWdtJdIvupmSA+4WizvZd7fja/yFdWu+zf4X/r1ItJ8M/GvVtLtb3/ha2lWYuI1lEF14HCSoCMgMv207Tjt1HeuNb4geNWubuK2+OukanFZu0d1e6X8Ori8s7Zl+8stzDcNFGVwd25xtwc4qX9rPxVqviDxr8L/gto15caYPHt9O+s31q5jmTSrWMSXESMOVaUEJuHIG71r6F0PQdM8L6HZ6RpNjb6bpVlCsFvaW0YSKKNRgKqjgAChe8nNbXaXy3fp09U9raj91qL3tf+vz9Lb308b8NQfFHxlb3dxofxy8NarbWty1pLPaeDQ8YlUKWQMLzDEbhnBODkdQRWx/whPxr/6K/of/AIRQ/wDkytX4YeC/D/wB8EaR4WtZlW2u9TuTbGC2ba81zNLcbcLu2qASMkgYUcivR6fp/T6h1/ra+h5H/wAIT8a/+iv6H/4RQ/8Akyj/AIQn41/9Ff0P/wAIof8AyZXrlcX4n+IWqeHtWksrX4f+J9fhVVYX2lmw8lsjOB5t1G+R0OVH40gOX/4Qn41/9Ff0P/wih/8AJlH/AAhPxr/6K/of/hFD/wCTK0x8XNcJA/4VN43H46X/APJ1ejxsZI1Yo0ZYAlGxlfY4OPyp+YHi82i/Fm31i20mX43+GItUuY3mgsX8IoJ5Y0IDuqfbdzKu5ckDAyPWjWdF+LPh2xa91b43+GNMs1YK1xeeEUhjBJwAWa9AyTxXIa94a0jw/wDt3fD6XS9KsdNlvfCetz3T2dukTTyG4tcu5UDc3J5PPNU9e8Xat4q/bwTwxDpkWrW3hPwiuqWNreXBgtorq4nKSXLMEc7xGojTCkjzH6ZJpR95U/73N/5Lzf8AyP4jl7rn/d5f/JuX/wCSO30/Tfipq2ktqtl8c/Ct5pihma9t/CUbwgLncS4vccYOeeMVB4fj+Jfi3zv7D+PfhHWfJCmX+z/CsU+wNypbZfHGcHGeuK8Q+I3jLw7dfDWPQfDmn3Oi3WtfF+y0TxlplzeyXZ+0vcpJcKJHPzQypHHtACgo2Nq8rXo37S3iy6+HP7QXwe1jSx5c99p3iCwu1UYE8MVkLmNW9QskSkemT6moc1GHtHt/9opad07pLbv5DUW5umt9/lzNff7rv9x0vmfEb+3v7E/4aA8G/wBteZ5X9nf8IvD9o37d23y/t27O3nGOnNbv/CE/Gv8A6K/of/hFD/5Mr57kmlH/AASzXxGJWGuLoA8S/wBoD/W/2h5/2n7Ru67/ADed3Wvsrwlqsmu+FdG1KVdst5ZQ3DqOzPGrEfrW8oOEpwe8XZ/O/wDk/wADJSUlGS2le3yt/mvxPOf+EJ+Nf/RX9D/8Iof/ACZXAt8QPGrXN3FbfHXSNTis3aO6vdL+HVxeWdsy/eWW5huGijK4O7c424OcVL+1n4q1XxB41+F/wW0a8uNMHj2+nfWb61cxzJpVrGJLiJGHKtKCE3DkDd619C6HoOmeF9Ds9I0mxt9N0qyhWC3tLaMJFFGowFVRwABWS1jz9L2Xy3fpfT1T2tro9Go9bX/y+fX0tvfTxvw1B8UfGVvd3Gh/HLw1qtta3LWks9p4NDxiVQpZAwvMMRuGcE4OR1BFbH/CE/Gv/or+h/8AhFD/AOTK6X4N/C3TPg74Dt/DWkmNrOO6u7wNFHsUme4kmIAyeB5m0c9FFdvVC7/16Hkf/CE/Gv8A6K/of/hFD/5Mo/4Qn41/9Ff0P/wih/8AJlep6nqdpoum3Woahcw2VjaxNPPc3DhI4o1BLOzHgAAEkn0qS1uory2iuLeRZoJkEkckZyrqRkEHuCKQHlH/AAhPxr/6K/of/hFD/wCTKP8AhCfjX/0V/Q//AAih/wDJldX4q8fan4b1T7JaeA/EviKLYH+2aUbHycnPy/vrmNsj/dxz1rG/4W7rn/RJfG/56X/8nUbgZv8AwhPxr/6K/of/AIRQ/wDkyvQfh9c6hb6fLo+v+KNO8T+JbIh7yWxtVsyiSEmLdAJJCmQCASfm2k1rWszXFtFK8Mlu7oGMMu3ehIztO0kZHTgke5rxDUL3UP2Wfhn4x1SfVp/Huu6xrl1eaFpZtEguLm6unzBYLsy0uGz+8PIQE4CpgKT5Xr/w7ukkvN9PS3VDS5rW/pa6/L9b9D6Eori/D3xV0bWPF7eDbqQaf40t9It9YvNHbc/kwysUysu0I4Eispwc8A4AIrQuPiR4Yt7jWbYa7Y3F5ozwx6hZ20yzT20k2PJjeNcsHkyNq4y2RgHNP0/rW356C/r9fyOjJwMmvn7Wr3x3H4suNLi+PPg/Tbya5KW+jz+HIWuY9xykWDehmbaR/CCeuK6tPizfX37R118Ols4otMtfCsWvPcMSZXmku3hCegVVjJ75Le3PyN4j+OWreAPDXiv4WePdMhfwXrOrXemab8WLWOSTS4zPO7MbshDtuYmcgMp2GRMFl2MwFq4pdb2+UuW33j736Wv81zX+4+jJ7L4u2vii20G4+MGjW97dwNcWrSeCAI7gIf3iI323l1BUlTg4bIyA2Nj/AIQn41/9Ff0P/wAIof8AyZVb9p27/wCEf+Da+LbOYy3nhW9sdZtbkNksscyLKMjqJIHmQ+oc17LT6O+9/wCn+nyJWqT7r+v68zyP/hCfjX/0V/Q//CKH/wAmUf8ACE/Gv/or+h/+EUP/AJMr1yikM8j/AOEJ+Nf/AEV/Q/8Awih/8mVp/BHxt4k1DXPGvgzxpfWmp+JvDd5C6X1lZ/ZI7ywuIg8Ewi3vtO9Z4z8xGYj616TXjnxIf/hX/wAdfh543X5LDWi/g3V27fvj51hIf924Rogf+nqgD3OiiigAooooAKKKKACiiigAooooAK+WPiB/xZn9ujwH4tX9zoHxN0qXwnqbdI11K2zPZSN6u6eZCvsK+p68P/bM+FeofFX4B61DoBZPF+gSxeI/D00YzJHqFm3mxBP9pwHjH/XSgD3CiuG+B3xUsPjd8IfCfjrTdq22uafHdNEpz5MuMSxZ9UkDofdTXc0AFFFFAHyx+2Npd38KPE3gz9onQbaSa68Gv/Z3ie2t1y994fncCYED7xgciZR0HzE9K+nNJ1Wz13S7PUtPuY7ywvIUuLe5hbcksbqGR1PcEEEH3o1bSrPXtLvNM1G2jvdPvIXt7m2mUMksbqVdGB6ggkEe9fLv7KusXfwJ+Imv/s4eJLqSWDS0bV/AuoXTEm+0V2JNtuP3pLZyUI6leQAq0AfVtFFFABXlv7S/iy88L/B/V7fSCv8AwkWvNH4f0hTzm7u3ECNj0QO0h9ozXqVeJfHLwV8QvEnxE8Aa34U0zw/rGk+G2ur2Sx1vVJrPzL2SLyYpBst5QRHG8+M45lz/AA8gHoXgnwlYeAfB+ieGtLj8vTtIsobG3XHOyNAgJ9yBk+5rbryT+2fj3/0IvgL/AMKy7/8AlfR/bPx7/wChF8Bf+FZd/wDyvoA9boryT+2fj3/0IvgL/wAKy7/+V9H9s/Hv/oRfAX/hWXf/AMr6APQvGC6vJ4bvotCs7G+1OWMxxw6hdvawnIwS0iRSkYB7Ic+1eFfs3/DH4qfAb4F+HPAdzoHgzXbvR1mxdr4kuoo5Wad5VODpzFcbwO/TNdn/AGz8e/8AoRfAX/hWXf8A8r6P7Z+Pf/Qi+Av/AArLv/5X0lpe3W34Xt+bG9beR5/42+C/xV8afC+z0+7TwjJ4suvF1v4n1Nl1W6js4kt7qKSCCFvsjPJ+5gjjLMqYIzhq6nVPhn441r9o3RPHNzpvhxfDlv4auPD93bjWLhrk+fNDLJIi/ZArBTGVALruBByvStf+2fj3/wBCL4C/8Ky7/wDlfR/bPx7/AOhF8Bf+FZd//K+iyslbRX/GPJ/6SrfjuJ3d3fV//Jc35/5GT8Hfhf44+C/w7t/h1pcmk3ejabLLFpPiCW4cXEFm8rOoltjEVaWMOVGH2vtBO37tT+Cfhf4p+DWsePE8J2uk61o3ifWJ/EECajfSWslleToomR9sMgeIum8MMMNxXacbqv8A9s/Hv/oRfAX/AIVl3/8AK+j+2fj3/wBCL4C/8Ky7/wDlfTd27t6tWb7rT9UnfcNNul7/AD1/za7HCab+yNN4R8A/DeHRNVt7vxh4L12bxCLq8DRW2oT3Jk+2RNtDNEjiZgrAMV2JkNznc1bwB8Q9d/aQ8G+PZdH0CDw/p+i3ujXlo2qym5QTywuZVxBtc4iwE+X1L84Xf/tn49/9CL4C/wDCsu//AJX0f2z8e/8AoRfAX/hWXf8A8r6Ot/X01jyv5culgeqafX9Jc3/pWpgfCn4M+Jvgv4Il8B6JaaFqOjW11cnR9cu5WFxaW80rSBZoPKIkeIyELhwHCjOytLRvh7440/8AaW1rx1NaaA/hu/0O10NduqzfbVWGaaXzjF9lCZbzcbBJgY+8elXf7Z+Pf/Qi+Av/AArLv/5X0f2z8e/+hF8Bf+FZd/8AyvppvmUuq/yt+Tf57g9U13/zv+aX/DHjPi6bVfCHjL9pTV7/AF9tN1M21nfaBp80cLx6hCtgEij8uRWM6NOJIvLX+J2/iZSPTficL6OP4M/EHU7H+zptD1OJtYth0s4r20e2kz6LHLLFk9lVielac198dLiWKWX4ffD6SSE7o3fxVdEoTxkH+z+PwpuoXPxx1awubG9+Hvw9u7O5jaGaCbxVdskiMMMrA6fgggkYqY+6kt7cv/kv/wAl1/AbtJ/f+Nvy6E3xo+EWqeKvGXgXx/4Wks18YeDp7g29rqLtHbX9rcR+XPbvIqs0ZICsrhWwy8qQTjauI/GHj+wfS9T0eDwlpNwvl30n28XN3NGRh4ogihUDDI8wtuAzhASGXm9Jm+Omi6Xa2Ft4G8Dtb20Yij87xjeyvtAwAXawLNx3JJq5/bPx7/6EXwF/4Vl3/wDK+notOn9f8PbbfuxXej2f9f1ff7kZXjDxVqGg/tGeBvDttrU1npEtlNdT6dHEBE8Xy28MCrzvcyyGVmH+rS37AsW818WeMfGGneGvjRrMXi/UpY9H1W20HQNpWGJNUkSBJJ2PP7lJrlV8tmMYET7gScj17+1/jyWDHwH4B3DgH/hLLvP/AKb6Q6r8eGUqfAXgAq3Uf8JZd4P/AJT6Ffr5/i0/wV1667oeiei7fgv8/wAND03QdUi1vRbO/gkM0NxGHSUoU8wf3gD2PUexFc14o+FNh4q1eTUZ9c8UWEjqqmHS/EF3aQDAxkRxyBQfXA5rmf7Z+Pf/AEIvgL/wrLv/AOV9H9s/Hv8A6EXwF/4Vl3/8r6HZu5MfdVjRHwH0oEH/AISjxwf+5sv/AP47XpEcYijVAWIUAAsST+JPWvJv7Z+Pf/Qi+Av/AArLv/5X0f2z8e/+hF8Bf+FZd/8Ayvp+QzA8VfDn4j6p+0h4b+IVlpfhZtH0TSb/AEhbe4125S4nW4lidZSBZMqECIZXc33vvcc7fiL4Z6rofx2g+KXh6zh1We70L+wNW0t5xBI6LN50M8TsNpZSXVlbblWBByuDJ/bPx7/6EXwF/wCFZd//ACvo/tn49/8AQi+Av/Csu/8A5X0l7qil9m9vne/38z+/0B+85N9bX+VrfdZfcebL+yPqWoeBfF91d3tjb+Pdd8ZReOYPLd3s7O6glRre3L7QzJsj2M4UHMjELwAe81T4Xap8VPi14U8W+KdLi0bSvC+n30FrppuVnlubq7jWKWRio2iJIwyrzuYyElU24N3+2fj3/wBCL4C/8Ky7/wDlfR/bPx7/AOhF8Bf+FZd//K+lZW5badv+3eX/ANJSXyvuO7u5dX1+fN+bf3s88P7Pfipv2dR8B9lt/YOf7N/4SX7SP+QT5+/Hk43faPL/AHW37mfn3/wV6zqF94s8PfFXwho+nLoh8A3OnzW89uwl/tKKeJCySIR+78gKEQ553SLWT/bPx7/6EXwF/wCFZd//ACvqD7Z8cvtovP8AhXvw9+1iPyhcf8JTdeZsznbu/s/OMgHFVzO93rffz0t/wfXUmytZfLy1T0+77lYl+NHwi1TxV4y8C+P/AAtJZr4w8Gz3Bt7XUXaO2v7W4j8ue3eRVZoyQFZXCthl5UgnG1cR+MPH9g+l6no8HhLSbhfLvpPt4ubuaMjDxRBFCoGGR5hbcBnCAkMuP/bPx7/6EXwF/wCFZd//ACvo/tn49/8AQi+Av/Csu/8A5X0lordP6/q22/dj636/1/V9/uRjeMvHZs/ivrHh/WtYk8J+DNB0C3vreO1m+zz6tcSvKu2Nx85WERIBHEQWeVQcjaDyek+OPHmk3XwPm8b64/h+61O0uLvXYrpUgiCQ2zkxS/wmeRpoGIAG3yJNoGTXobat8eWZSfAfgEleQT4su+P/ACn0Nq3x4kxu8BeAWwcjPiy7OD6/8g+hXS8/+H/z/BIHb5bfgl+l/meIeKPHFz8YP2VYzqut3gufFPiOLTp5kkNtFZWV7fcQSsMDEdmwBDdGIB5r6z8HtZN4Z0/+zpbmew8vEEt2WMjpk7WJbkgjkE9sV51/anx42lf+EC8AbSclf+Eru8ZznP8AyD/Wn/2z8e/+hF8Bf+FZd/8AyvpqyTS7/hZK35u/mD1af9au79OmnkdT4r+F1j4u1T7fca34l0+TYI/J0nXrqzh4zz5cbhc89cc1jf8AChtK/wCho8cf+FZf/wDx2s/+2fj3/wBCL4C/8Ky7/wDlfR/bPx7/AOhF8Bf+FZd//K+lsB6ta262ttFArSOsaBA0rl3IAxkseSfc8mvmzxL4V/aOl+KGp+JNJ0v4U31pEz2+if21qmpGaxtjwcLHbbVkkwC7DJ6KDtUV3v8AbPx7/wChF8Bf+FZd/wDyvo/tn49/9CL4C/8ACsu//lfS3fMPZcpjWfwm8UeF/iJ4Q+IuYPEPiOHwwPDniS2in2G6+dZlnt3kABKyiQbXK5STOQVwbPgH9n23+2eNte8ZQJNrfi3XE1iW3sLyVBZLDCILaJZkKMzLGCWIwN0jAZABOh/bPx7/AOhF8Bf+FZd//K+j+2fj3/0IvgL/AMKy7/8AlfVenn8ry5n/AOTa/wDAJ/4HzsuX8tDz/wAPfs3+JNH/AGmrzx59h01PDEmkRaTBCPFmpTXsRSd5PPKvBtfIfHks+0EZya6HS/hn4s0z4LP8JLjw/o+r6cunPo0Wt3F3/o0tsVKLNNblN/nBSGKLlWYZ8xc8b/8AbPx7/wChF8Bf+FZd/wDyvo/tn49/9CL4C/8ACsu//lfUcqcPZvVfnq3+r+/0tfM1PnWj0/BW/Rf1cx/jp4Tjh+B+g/C7TpJLmfWZtO8O2xkOZGt43ja4lb/dt4ZWJ9QPWvc68Ra1+NcniJNck+H3gKXU47c2sU0ni+9YRRltzBFOn4UsQu4gZO1QfuitP+2fj3/0IvgL/wAKy7/+V9aOTldy1bbf9fn8zNRUUox2S/r/AC+R63RXkn9s/Hv/AKEXwF/4Vl3/APK+j+2fj3/0IvgL/wAKy7/+V9SUet1xPxq8Av8AE74W+I/DcEv2a/u7UvYXOceReRkS20v/AACZI2/4DXNf2z8e/wDoRfAX/hWXf/yvo/tn49/9CL4C/wDCsu//AJX0Adx8G/iAnxU+F3hrxUIvs8+o2avdW+MG3uVyk8R90lWRD/u12deO/s5+B/G3gVPG0fiyy0XTbPVtbk1jTrHRtQlvFtjOoa4Qs8MXBmDyDC9ZmHbn2KgAooooAKKKKACiiigAooooAKKKKAPlP9m1v+FE/tCfEr4H3X7jRNRlfxv4Pzwn2S4fF5ap2Hkz5KqMna5Y8V9WV80/tueE9V0vwz4Z+MfhW0a68W/C+/OsfZ4eHvNLddmoW30aH5v+2fHJr33wb4u0rx/4S0fxLod0t7o+rWkV7aXC9HikUMp9jg8jscigDZooooAK8P8A2rvgfqXxZ8Habrfg+4TTPif4Puv7Y8Lak2ABcKPntpD3inUeWwJx90nIGD7hRQB5h+zr8ddM/aC+Gtr4itLeTS9Wt5X0/W9EuMifS9Qi+We3kB5BDcgkDKlTgZwPT6+Tfj34Y1n9mn4nXP7QHgfT5tR8PXkccHxE8M2a5a6tU4TU4V6efACdw/iTPT5mr6c8J+LNI8deGdM8Q6BqEOq6Lqdul1aXlu2UljYZDD/A8g5B5oA1SccngV4zH+2P8G5l3w+N7aeMkgSQ2tw6Ng4yGEZBHuKv/tPeJb7RfhPeaTo03keI/FVxD4a0p16pPdt5bSj/AK5RebL9IjXa+GPDtj4Q8N6VoWmQ/Z9N0y0israIfwRRoEQfgAKAPPf+GwvhB/0OUX/gDdf/ABqj/hsL4Qf9DlF/4A3X/wAar1WigDyr/hsL4Qf9DlF/4A3X/wAao/4bC+EH/Q5Rf+AN1/8AGq9VooA8q/4bC+EH/Q5Rf+AN1/8AGqP+GwvhB/0OUX/gDdf/ABqvVaKAPKv+GwvhB/0OUX/gDdf/ABqj/hsL4Qf9DlF/4A3X/wAar1WigDyr/hsL4Qf9DlF/4A3X/wAao/4bC+EH/Q5Rf+AN1/8AGq9VooA8q/4bC+EH/Q5Rf+AN1/8AGqP+GwvhB/0OUX/gDdf/ABqvVaKAPKv+GwvhB/0OUX/gDdf/ABqj/hsL4Qf9DlF/4A3X/wAar1WigDyr/hsL4Qf9DlF/4A3X/wAao/4bC+EH/Q5Rf+AN1/8AGq9VooA8q/4bC+EH/Q5Rf+AN1/8AGqP+GwvhB/0OUX/gDdf/ABqvVaKAPKv+GwvhB/0OUX/gDdf/ABqj/hsL4Qf9DlF/4A3X/wAar1WigDyr/hsL4Qf9DlF/4A3X/wAao/4bC+EH/Q5Rf+AN1/8AGq9VooA8q/4bC+EH/Q5Rf+AN1/8AGqP+GwvhB/0OUX/gDdf/ABqvVaKAPKv+GwvhB/0OUX/gDdf/ABqj/hsL4Qf9DlF/4A3X/wAar1WigDyr/hsL4Qf9DlF/4A3X/wAao/4bC+EH/Q5Rf+AN1/8AGq9VooA8q/4bC+EH/Q5Rf+AN1/8AGqP+GwvhB/0OUX/gDdf/ABqvVaKAPKv+GwvhB/0OUX/gDdf/ABqj/hsL4Qf9DlF/4A3X/wAar1WigDyr/hsL4Qf9DlF/4A3X/wAao/4bC+EH/Q5Rf+AN1/8AGq9VooA8q/4bC+EH/Q5Rf+AN1/8AGqP+GwvhB/0OUX/gDdf/ABqvVaKAPKv+GwvhB/0OUX/gDdf/ABqj/hsL4Qf9DlF/4A3X/wAar1WigDyr/hsL4Qf9DlF/4A3X/wAao/4bC+EH/Q5Rf+AN1/8AGq9VooA8q/4bC+EH/Q5Rf+AN1/8AGqP+GwvhB/0OUX/gDdf/ABqvVaKAPKv+GwvhB/0OUX/gDdf/ABqj/hsL4Qf9DlF/4A3X/wAar1WigDyr/hsL4Qf9DlF/4A3X/wAao/4bC+EH/Q5Rf+AN1/8AGq9VooA8q/4bC+EH/Q5Rf+AN1/8AGqP+GwvhB/0OUX/gDdf/ABqvVaKAPKv+GwvhB/0OUX/gDdf/ABqj/hsL4Qf9DlF/4A3X/wAar1WigDzHT/2tfhJqepWVhB4ytvtV5cR2sCy21xGryyOERdzRhRlmA5I6169XB/FjwDB8UPhr4j8KzyeR/allJBFcDIME2MxSj3SQI491FJ8CfiBP8TvhN4c1+9j8jV5bc2+p2/QwX0LGG5jx22zRyD6AUAd7RRRQAUUUUAFFFFABRRRQAUUUUAMmhS4heKVFkidSrI4yrA8EEdxXyl+y/cP+z38YvF/7POpSNHoeZPE3gOWUnD6bM5NxZKT1a3lLYHLFWLcACvrCvBP2vvg/rPxA8E6Z4s8EgQ/E/wACXX9ueG5gOZ3Ufv7NvVJ4wUK5AJ2Z4zQB73RXB/Az4w6N8evhX4f8b6GSlrqkG6W1c5ktJ1O2aB/9pHDKfXGRwRXeUAFFFFADZI1mjZHVXRhtZWGQQeoIr42voLz/AIJ++OJdStI57v8AZx8R3u68tY1MjeDL6Vv9aijn7FIx5UfcY8dg/wBl1k+LF0dvC2sf8JDFbTaB9jmOoR3iB4WtwhMgdSMFducg9qAPHZ9Stfiz+0ppLWNzFqHh3wLow1Jbi3cPFNqOoIVgKsMhtlosjAjtdKe9e0V4J+xP8MdN+G/wLsJ9O0s6MniS5l14WLOztbQTEfZYCzEt+7tlgTk9Qa97oAKKKKACiiigAooooAKKKKACiiigAooooAKKKKACiiigAooooAKKKKACiiigAoorlfiH8P4viJpunWUuua5oK2Wo2+oibQb02sspibcIpGAO6JujL3HcUdUHc6qisLxz4TTx14P1fw/LqepaNHqVs9s2oaPc/Z7yAMMb4pMHaw7HBq9pOkLpOg2elrd3V0trbJbC6upTJcSBUC73f+JzjJbuSTS1sx9i/RXMfDXwHF8NPBtj4dh1rWvEMdoZCNQ8QXhu7yTe7P8APKQN2N2BxwAB2rp6p+QgooopAFFFFABRRRQAUUUUAFFFFABRRRQAUUUUAFFFFABRRRQAUUUUAFFFFABXkHwvb/hAPj54/wDBjfJp3iKNPGOlL2EjFbfUIx9JVglx63Jr1+vG/wBoxj4P/wCEM+J0XynwdqyNqDDvpd1i3vM+yB4p/wDt3FAHulFIDnkciloAKKKKACiiigAooooAKKKKACiiigD5D1r/AIwz/aO/txP9H+DXxS1BYtTUcQ6F4gcYS49EiuQNrHoHGSQAAfryuX+J3w30D4v+Adc8G+J7MX+h6xbNbXMPRgDyrqf4XVgrK3ZlB7V4Z+yz8SvEHhHxNqnwD+Jd611428MQCfRNam4/4SPRs7YrkE9Zo8eXIOTlc5b5jQB9N0UUUAFeLftR3Mmv+F9B+HNo7LeePNUj0ifyzhk05QZ79/p9njeP6zL617TXgvxF8G/FGT482njPw3ovhjXdH07Qm0vT7fWNans5IJppVkuZtqWsoywigQc5AQ/3sUAezwwx28KRRIscUahURBgKAMAAdhT68j/tr49/9CH4D/8ACtu//lfR/bXx7/6EPwH/AOFbd/8AyvoA9coryP8Atr49/wDQh+A//Ctu/wD5X0f218e/+hD8B/8AhW3f/wAr6APXKK8j/tr49/8AQh+A/wDwrbv/AOV9H9tfHv8A6EPwH/4Vt3/8r6APXKK8j/tr49/9CH4D/wDCtu//AJX0f218e/8AoQ/Af/hW3f8A8r6APXKK8j/tr49/9CH4D/8ACtu//lfR/bXx7/6EPwH/AOFbd/8AyvoA9coryP8Atr49/wDQh+A//Ctu/wD5X0f218e/+hD8B/8AhW3f/wAr6APXKK8j/tr49/8AQh+A/wDwrbv/AOV9H9tfHv8A6EPwH/4Vt3/8r6APXKK8j/tr49/9CH4D/wDCtu//AJX0f218e/8AoQ/Af/hW3f8A8r6APXKK8j/tr49/9CH4D/8ACtu//lfR/bXx7/6EPwH/AOFbd/8AyvoA9coryP8Atr49/wDQh+A//Ctu/wD5X0f218e/+hD8B/8AhW3f/wAr6APXKK8j/tr49/8AQh+A/wDwrbv/AOV9H9tfHv8A6EPwH/4Vt3/8r6APXKK8j/tr49/9CH4D/wDCtu//AJX0f218e/8AoQ/Af/hW3f8A8r6APXKK8j/tr49/9CH4D/8ACtu//lfR/bXx7/6EPwH/AOFbd/8AyvoA9coryP8Atr49/wDQh+A//Ctu/wD5X0f218e/+hD8B/8AhW3f/wAr6APXKK8j/tr49/8AQh+A/wDwrbv/AOV9H9tfHv8A6EPwH/4Vt3/8r6APXKK8j/tr49/9CH4D/wDCtu//AJX0f218e/8AoQ/Af/hW3f8A8r6APXKK8j/tr49/9CH4D/8ACtu//lfR/bXx7/6EPwH/AOFbd/8AyvoA9coryP8Atr49/wDQh+A//Ctu/wD5X0f218e/+hD8B/8AhW3f/wAr6APXKK8j/tr49/8AQh+A/wDwrbv/AOV9H9tfHv8A6EPwH/4Vt3/8r6APXKK8j/tr49/9CH4D/wDCtu//AJX0f218e/8AoQ/Af/hW3f8A8r6APXKK8j/tr49/9CH4D/8ACtu//lfR/bXx7/6EPwH/AOFbd/8AyvoA9coryP8Atr49/wDQh+A//Ctu/wD5X0f218e/+hD8B/8AhW3f/wAr6APXKK8j/tr49/8AQh+A/wDwrbv/AOV9H9tfHv8A6EPwH/4Vt3/8r6APXKK8j/tr49/9CH4D/wDCtu//AJX0f218e/8AoQ/Af/hW3f8A8r6APXKK8j/tr49/9CH4D/8ACtu//lfR/bXx7/6EPwH/AOFbd/8AyvoA9coryP8Atr49/wDQh+A//Ctu/wD5X0f218e/+hD8B/8AhW3f/wAr6APXKzPE3h2x8X+G9V0LU4ftGm6nay2VzEf44pEKOPxBNebf218e/wDoQ/Af/hW3f/yvo/tr49/9CH4D/wDCtu//AJX0Aan7MXiS+1r4T2ek6zMZvEXhW4m8Naq7dXntG8tZT/11i8qX6SivWK8P+C/gv4i6H8V/HHiPxVpXh3RdI8SW1nK1no2rTXrC+gUxGb57eIAPD5SnrzAvqce4UAFFFFABRRRQAUUUUAeB/sc/FzV/H3w9vfCvjNvK+JngS6/sDxJA5y0skYxDdjP3knjAcN0J344Fe+V8oftQafc/s9/FTQP2i9Dt5H0iFI9C8fWNupY3Glu4EV6FH3pLZyOepQ4yFBr6n0/ULbVrC2vbKeO6s7mJZobiFgySIwBVlI4IIIIPvQBYooooAK8U/ae+Adz8YvD+laz4X1BfDvxO8JznUvDGu44inxh7eX+9BMo2OvI6HBxg+10UAeQfs0/tAQfHjwfdNf6e3h3xzoNwdN8TeG5z+9069XIYAd4nwWR+QR3yDXr9fNX7Rvwb8T+H/Glr8cfhFbo/xD0m3+z6xoGdkPinTVwWtnx0nQDMUnXICnI2ges/BL41eGvj58PbDxd4XuGe0nJiuLSddlxY3C8SW86fwSIeCO/BGQQSAbvjnx74f+Gvh2bXvE2qQ6RpMLxxPczZI3u4RFAUEklmAwBXnP8Aw2F8H/8AodIP/AO5/wDjdVfiI3/Cwf2hvA/hJf3mmeFLd/F2qL1U3Db7bT4zjvk3UuD3hQ16/QB5V/w2F8H/APodIP8AwDuf/jdH/DYXwf8A+h0g/wDAO5/+N16rRQB5V/w2F8H/APodIP8AwDuf/jdH/DYXwf8A+h0g/wDAO5/+N16rRQB5V/w2F8H/APodIP8AwDuf/jdH/DYXwf8A+h0g/wDAO5/+N16rRQB5V/w2F8H/APodIP8AwDuf/jdH/DYXwf8A+h0g/wDAO5/+N16rRQB5V/w2F8H/APodIP8AwDuf/jdH/DYXwf8A+h0g/wDAO5/+N1Xt/wBpjw9efEDVvBFtoXie48T6XbpeXdjHpTZSBzhJNxbaVYjjBrovB/xi0nxh4wv/AAuuma3o+tWdot81vrGnSWwkhZym+Nz8sgDDB2k4yM0L3rW6/pv+T+4H7t79P12/NGL/AMNhfB//AKHSD/wDuf8A43R/w2F8H/8AodIP/AO5/wDjdeq0UAeVf8NhfB//AKHSD/wDuf8A43R/w2F8H/8AodIP/AO5/wDjdeq0UAeVf8NhfB//AKHSD/wDuf8A43R/w2F8H/8AodIP/AO5/wDjdb3xZ+LWk/Bvw9BrmuWWpXOmPcxWsk+nW4mEDSyLGjSfMMKXdRnnrXb0dL/1/WoHlX/DYXwf/wCh0g/8A7n/AON0f8NhfB//AKHSD/wDuf8A43XqtFAHlX/DYXwf/wCh0g/8A7n/AON0f8NhfB//AKHSD/wDuf8A43Xqtc74U8ZQ+MLrV2sLdm0qwuWsk1At8tzNGSswjGOVRhs3Z5ZXAGFyTyDzOM/4bC+D/wD0OkH/AIB3P/xuj/hsL4P/APQ6Qf8AgHc//G61tS+NGkR+KLzw3oWn6n4x16xIF/Z6FFG62RIyFnnleOGNyORGZN5HO3FHhj41aD4o8dS+C44NQsfFdrZNf32lXkAWSyiDoimRlZkO8v8AIUZgwVuflNC961uoPTcyf+Gwvg//ANDpB/4B3P8A8bo/4bC+D/8A0OkH/gHc/wDxuvVaKAPKv+Gwvg//ANDpB/4B3P8A8bo/4bC+D/8A0OkH/gHc/wDxuvVaKAPKv+Gwvg//ANDpB/4B3P8A8bo/4bC+D/8A0OkH/gHc/wDxuvVa5D4ifF3wZ8JtLkv/ABd4k0/QoEiM2y5lHnOgIBKRDLvyQPlU9aBnM/8ADYXwf/6HSD/wDuf/AI3R/wANhfB//odIP/AO5/8Ajdeh654k0vwzoN1rWq30On6VaxefNdXDbURPU/4dSTisvw98RtB8TatJpVnc3EOqJbi7+w6hYz2U7Qk7fMVJkRmUHALKCASAcE0dbE30v0OQ/wCGwvg//wBDpB/4B3P/AMbo/wCGwvg//wBDpB/4B3P/AMbrfHxn8Hm88j+1m8v7f/Zn277JP9i+1b9nk/atnk79/wAmN/3/AJPvcV21G6uPrY8q/wCGwvg//wBDpB/4B3P/AMbo/wCGwvg//wBDpB/4B3P/AMbr06+vrbTLOe7vLiK1tLdGlmnmcIkaAZLMx4AAGSTXnek/HSy8T2bap4c8LeJfEXh0DcNcsrSKO2lQdXhWaWOWdMchoo3DfwlsildAVf8AhsL4P/8AQ6Qf+Adz/wDG6P8AhsL4P/8AQ6Qf+Adz/wDG66n4a/FDw98XNCudb8L3bahpEV5LZJe+WUjneMgOY88lQ2VyQOUbtyesqgPKv+Gwvg//ANDpB/4B3P8A8bo/4bC+D/8A0OkH/gHc/wDxuvVaKQHlX/DYXwf/AOh0g/8AAO5/+N0f8NhfB/8A6HSD/wAA7n/43XqtFAHlX/DYXwf/AOh0g/8AAO5/+N0f8NhfB/8A6HSD/wAA7n/43XqtcdefGDwVY+NtM8HyeJdPfxPqM0kFvpUEvmz744zK4dUz5eEUn58fmRR1sHS5zf8Aw2F8H/8AodIP/AO5/wDjdH/DYXwf/wCh0g/8A7n/AON12nijx5o3hCa2g1CW6lu7hWkis9OsJ764ZFwGfyoEd9gLKC2MAsBnJFVPDPxW8JeMPCNx4n0nXbW60O2aSO5um3Rm3eM4kjlRwGjdTwUYBh6UeYeRy3/DYXwf/wCh0g/8A7n/AON0f8NhfB//AKHSD/wDuf8A43XXaN8SNB1zWo9IhmvLXU5YWnhtdS065snnRcbmjE8aeZt3LnbnbuGcZFS+EfGUPiiTVLR4GsNX0m5+y31jI24xMVDI6txuR0KsrYGQcEBgwABxn/DYXwf/AOh0g/8AAO5/+N0f8NhfB/8A6HSD/wAA7n/43XqtFAHlX/DYXwf/AOh0g/8AAO5/+N0f8NhfB/8A6HSD/wAA7n/43XqtFAHlX/DYXwf/AOh0g/8AAO5/+N0f8NhfB/8A6HSD/wAA7n/43XqtFAHlX/DYXwf/AOh0g/8AAO5/+N0f8NhfB/8A6HSD/wAA7n/43XqtFAHlX/DYXwf/AOh0g/8AAO5/+N16f4T8WaR468N6fr+gX8OqaPqEQntbyA5SVD3H/wBf0qavIfgG3/CD+OviN8NZP3dvYX//AAkWjIeB9gv2eR0Qekd0l0vHQMlAHt1FFFABRRRQAUUUUAUdc0Ww8S6Lf6RqlpFf6Zf28lrdWsy7kmidSrow7gqSD9a+X/2Ytd1D4AfEjUP2cfFd3Lc2drC+p+ANWumyb/SckvZsx6zWxyMdSnIAVRn6urxf9qj4F3Xxp8B21x4cu10f4ieGLpdZ8K6xwDb3sfIjY/8APKUDY4ORggkHaBQB7RRXlH7Nfx4tPj98OY9Xe0bRfE+mzNpniLQZsibTNRi4mhYHnbn5lPdSO4IHq9ABRRRQAV8q/Gj4W+KPgP8AELUfjh8INObU/tgD+NvAsHyprcK5Ju7YdFvEGTwP3gz1YkP9VV5H+1Fr17ZfCyXw7pEzQa/4xu4fDGnyL96NrklZpR/1ygE8uf8ApnQBg/sw3D+NtF8SfFO4glgm8d6k1/Zx3ChZItMhXyLFGAJAzGhlwCeZ25Ne1VQ0HQ7LwzoenaPp0K22n6fbR2ltCvSOKNQqKPoABV+gAooooAKKKKACiiigAooooA+QdPvPEln/AMFBPig/hnSdL1e7/wCEL0vdFqmpyWKD96+MMlvMTk+oFe0+AzqmueCfB+sa/PDo3xIu9GmtVM8ZlSOV9kkymMFPMCtCp6rwO2a5nS/2f/G+j/HnxP8AFC38d6A19rmmW+ktp8vhecxRRQuWRgw1AEscnJ6ewrp7H4cePpvHz+J9a8c6LffZdKnsNK02z8OS29vbTSvGzXEu69dpjiILtDJgE4IycqP8OMXv73yu5vT1TS/4A5fxJSW3u/P3Yr8LM8a0f9oz4iw/sr2vxe1OfRprizvxb3OmQ2LpHeQjUfskjbvMJjYrkqBkAgbt2cD1XUPidrXjD4+al8NPDl1Fo1toOkQarrGqvAJ52ed2WC3hVjsX5UZ2dg3BVQAckcS37JXiZv2a5fhCfH+lfZJLs3B1X/hG5PM2G7+1FPL+24z5nG7P3eMZ5r0Gf4NavY/EuH4h6Prtha+KrnSk0jW4pNOc2OpRxuXidYxNvhkQswDb3BViCDwRXVX2u/8A0nT/AMm/qwujtv0/8CX/ALbf/hzl7f4yePF8SeAPh5rml6b4f8d+IzqV3d3Eb/a4bXT7R8LKihgDLKHiwCdqksSDjbUuv/tFN8IvGnjbw14ykXU4tC8KN4ws9QtYRFLcWkbvHLDImdvmh1XDLtVhIPlG0k9Jr3wRvNY8QeFvF6+Igvjrw/NdPDqU1mXtZYLkBZrUwCQERYVNuJNysgYlssGib9nuw8UeJPF3iHxxcw6/qfiPRP8AhG5IbW3Nvb2mnEszwxgu7FmdyzSE84XAXHOcubk93e0r+tny2+fLf0l0ava5ebXa6+66v+F7eq6ps8c/aQ1rxp4p/ZHtfFOs3elW8esT6JeT6PbWj4to5r+2eNEmLks67lDMV2tg4VK9J8QfHK61T47a58OtNvjoVn4e0q3vtS1OPT3vJ5Li4LGGGNQCqKEQszMCTuCrtwTWf49/Zv8AGPjD4G2vwxh8dafDp+n/AGFbTUrjRmkuJI7WeKSJJwJwrECJQzIF3HnCcg9i3wf1XTfiMfiBo2tafaeKNQ0qHS9dhk092stRETFopVQTb4XQs4B3uCrYIyAw2ly8z5fh5pfdypL8V/SMo83J73xWX33V/wAL/wDAPLNf+PnxOg8G/D/VoLGw0vU9R8ZjwjqNjqGlTxx3gaWWOO9gLyK0cTKiyBSGyGIDcZPr2m+NNf8ABFvbaV41msNf8UarqN2mjWXh1BBJd2kY3qWWeRUEiJy/z7emMnrh/Er4IeKviBa+EFXxvY2t1ofiCHxHLNd6LJcrPPEW2RRqLqPyoQGxtyzcZ3ZyTrfGfx8/w18N6TqLeGdQ8V+JGc29pPovh271BbSRkxJOyQJLJFHjPy7stkLu6sM78sHfe/6R+XxKXon22prmnptb9Zfo193cj1f43abrXwS8eeL/AA8Z0u/DtnqMdzZ3kXlz2d7bRMXhkXkblIHIJBBBBIINeffEjxtefs5/sFya9oXzarpPhe0jtZiN3+kzLHH5x9T5kpkOep610fwS8H6P4k+DfivR49M8QWUPiC6vhqV94m02XT77U57iMefdNbyorRqWcoq4wFjGOOateBvCOn/F79m//hXnjO2Mk1vp3/CNa7aq21454UEZdT23bUmRvR0bvUzi3CpHq1D8pc1uyu1a/dX1LhJKdOT2Tl9142v3dk/xOi/Z5+GNr8I/g94a8PQ5lvFtVudRvJDulvL2UB7ieRjyzNIzHJ9h2rXt/Duh2fjbxH40sw99rbafBpN3HbbXZVtzLMsagc7z9p6E8/J0rn/CvhX4neH9DtPD9z4o0LULWziW3j16TTpft0kajapeHzPLMuAMybtpPPl4+Wud/aC8E3WnfA250bw4urXF9cXMdubi0DzTB7mURzX0yxqXcxCWSb5RgMinGFGNqsuablHrt89Pkraf8AxoxagoT+fy1+euv/BPaNLvjqWm2l21tPZNcRJKba6ULLFuAOxwCQGGcEAnkVarwPxT4R1Lxp8XPhiwh8RWekJp11fasZZXjQRxxLFDZysvG6V7gyOhJLeQM8LW5+zHNrB8EaimsaZqWlSSare3cNpqEDwraQy3MrRWsauAdscQj+6NmXIU8EBbt9tfwdv8/u9LvWy76fir/wBevqeg+MNQ8S6fZwP4Z0TT9buWfEsOo6m9iqLj7wZYJdxz2wPrXKf8JP8AFj/on/hj/wAK6b/5X11fjDwD4c+IFnBaeJNFs9btoH82KK8iEio2MZGehxXJ/wDDNPwr/wChB0L/AMA1qNSztPC95rl9pKy+INLs9H1EuwNrY3zXkYXsfMaKI5Ppt49TXjH7en/Jo/xF/wCvWD/0pir2fwt4R0XwRpK6XoGl2ukaertILa0jCJuPU4Hc1wX7Rnwh1r46fDbVfBdh4ksfDenapEsV3cXGkvezfLIjgxkXEQX7mDkN17US12HTfLJNnA/tlX89v4H+FVkjEWmpePvD9rdr2eLz/M2t7Fo0/Ksr9q3Xb7wv8evglqOlMyXr2viWBinVoxpvmhT6jzIoz9QK9a8efCG8+J/wzXw54j1m0bWLa6t9QsNX03TmgS1ureRZYJBC80hbDJ8w3jcpI461Enwnv/FXxM0Lxp4ym0+efw/YXNlpmnacjmFZLgKtxcOz8ksiBFTGFDNlnJyJnFyjKCe7k7+sEvzVvn6kU/c5ZNbRSt5pvX8b/L0Pm2TH/DpUXW8m4Hg4Xwmz832jf5vmZ/veZ82fWvsvwXfz6p4N0G9uubm5sIJpc/32jUt+pNeLn9mW+b4Rj4QHV7Q/Dn7RjzPKf7f/AGf5/nfYeuz/AKZ+dnOzjZu+au51i08RWvxp8KHTPE/l+Gf7NuIb7wqtjGVIUZS78/O9CH8uMJjBDMexrolJTqTklZSd15WUn+N0vlfbUlRcYQi3dxvfzvyr9G/n30PJP2srq68f/F/4L/BpmePw54ov7rVdfRSQLu0sY1lFq3qkjkbh3CivpySS20uxZ2MdraW8eSThEjRR+QAA/SvPfi58Hv8AhYmqeFfEek6mug+MvCt1JdaTqclv9oixInlzQTRblLxSJwQGVgQpBGObX/CK+LPF1uLPxdqGkwaSSPtGn6LDLm8A/gklkbiM/wAUarkjgvgkHGOkOXrdv/L7lZW8m+ppK3OpdLJfnf797+i6G18OvBmkeAfCdtpOhZOmmae8RiQd7TzPO7cADBaRscdMV0teGeOG1Kb4vayfEmk6tq3g6w0GBtC0nTrSaeC/vneYTmURgqZFCwKglIVQ7OMcsOR0zwr428JXXwOn8W3Ot6he6da3Euu3Vj516EljtnWG0PlqS283B3O2fMNsmT0pppq/T/h/8vxXV2E7ptdf1sn+vXrf1Po3xT4m03wX4b1TX9ZuRZ6TpltJeXdwylvLijUszYAJOADwBk1dsbyPULO3uodxhnjWVN6lTtYZGQeQcHoa+QtS0HXviJ+zLZaZ4m8Oa9calrHimGXV/t1pO81nb3N/51wqR4L+XFA3kfKNo5xwCa+rfCcVvD4dsUtNMk0e1CfurGVQrxLk4BXJ2kjnHUZweaaWjb72/BN/np6MHukvP87L8nf1XzxfFWteO7DVPK8O+FNF1nT9gP2m+1+Syk3c5Xy1tJRgcc7ufQVjf8JP8WP+if8Ahj/wrpv/AJX1seK/g34H8dap/aXiDwtper3+wRfabu3V32jOBk9hk1jf8M1fCv8A6EHQv/ANaleY35Ho1q0z20TXEaRTlAZI43LqrY5AYgZAPfAz6Cvn748f8nPfs4f9f+t/+m819A2trFZW0VvbxrDBCgjjjQYVVAwAB6AV4/8AEr4K+LPHXxW8E+MbPxho+lxeEp7qexsJ/D8twZPtEHkuJZBeJnAyRtVecZzVfaVtrk/Ya62f5HSeJvCHh7wz49n+LGra5qOmNp2iPptzC14V09rcSGUSPDj5pAxIU5/iwASa+cdC+F2p2vwZ+NHinxJqF54AuviF4iTW9FtIoPNutPkEkS2G6D+KeWVIi0X+0FODnHtHxq+EPxG+JOqeHLnw58TNN8IW2kgTyWk/hZdSS5ux92ch7lQAn8CkNtJ3biQpWrpvwB8Wah4R1O28Z/EZfFPiyXVLPVdP12DREsYrJ7VleBDbLKwdd4ct8ylhIRlSAaiK0fTp8nJNted1dbbedlTeq69fmotK/lbR7/hr5d8Mfip491H44eBfCnx68Of8Ir4ms4LiXw9qOloJNM1y6aBlkJlDsIpVhL/uOhJZs/cFev6hctof7W+jRQ/LF4i8IXYulHRns7uEwsfcLeTD8a3ZPAWv+MNf8Oah4wudJNv4fu/7QtLXSoZMzXXlSRLK7yN8qhZXIjAJyQS5AwcvRdPbxj+0XqvieMbtK8MaMfD8E38Mt5PKk90FPcRrFbKT/eZx1U1onecG+nNf05Wk/vaXZabbKGrRkls+X7+ZXX3K/wB++561RRRUlBRRRQAUUUUAFFFFABXjfxjb/hAvid8OPiMn7u0jvT4X1pxwPsd8yLC7n0ju0tuT0Er17JXLfFLwHbfE/wCHXiPwpdv5UWrWMtqsw6wyFf3co/2kfaw91FAHc0V598A/H1z8SvhL4f1nUU8nXFiay1aDvFf27tBdIR2xLG+PYivQaACiiigAooooAKKKKAPk/wDaM8Mar+zt8Sh+0R4JsZrzTWijs/iH4ftFydQ09eEv417z245J7oCMqAxP054X8T6V408OaZr+h30Op6PqVul1aXlu2UmidQysPqDWjNDHcQvFLGssUilXjcAqykYIIPUV8d6PNL+wV8UodBu5H/4Z78Y35GlXUhJTwlqcrEm2dj920mbJVjwjZzj5mYA+x6KSloAK+a/ix41m039pjw/c6p4S8Yap4d8LaLNPZXOieHLy/hl1K7by3O+KNlzFboy9etyw7V9KUUAeIf8ADTGlf9CL8Sv/AAiNS/8AjVH/AA0xpX/Qi/Er/wAIjUv/AI1Xt9FAHiH/AA0xpX/Qi/Er/wAIjUv/AI1R/wANMaV/0IvxK/8ACI1L/wCNV7fRQB4h/wANMaV/0IvxK/8ACI1L/wCNUf8ADTGlf9CL8Sv/AAiNS/8AjVe30UAeIf8ADTGlf9CL8Sv/AAiNS/8AjVH/AA0xpX/Qi/Er/wAIjUv/AI1Xt9FAHiH/AA0xpX/Qi/Er/wAIjUv/AI1R/wANMaV/0IvxK/8ACI1L/wCNV7fRQB4h/wANMaV/0IvxK/8ACI1L/wCNUf8ADTGlf9CL8Sv/AAiNS/8AjVe30UAeIf8ADTGlf9CL8Sv/AAiNS/8AjVH/AA0xpX/Qi/Er/wAIjUv/AI1Xt9FAHiH/AA0xpX/Qi/Er/wAIjUv/AI1R/wANMaV/0IvxK/8ACI1L/wCNV7fRQB4h/wANMaV/0IvxK/8ACI1L/wCNUf8ADTGlf9CL8Sv/AAiNS/8AjVe30UAeIf8ADTGlf9CL8Sv/AAiNS/8AjVH/AA0xpX/Qi/Er/wAIjUv/AI1Xt9FAHiH/AA0xpX/Qi/Er/wAIjUv/AI1VWH9oPw9b6hc38Xw7+Isd7cokc1wvgXUQ8ipnYGPk843NjPTJr3migDxD/hpjSv8AoRfiV/4RGpf/ABqj/hpjSv8AoRfiV/4RGpf/ABqvb6KAPEP+GmNK/wChF+JX/hEal/8AGqP+GmNK/wChF+JX/hEal/8AGq9vooA8Q/4aY0r/AKEX4lf+ERqX/wAao/4aY0r/AKEX4lf+ERqX/wAar2+igDxD/hpjSv8AoRfiV/4RGpf/ABqj/hpjSv8AoRfiV/4RGpf/ABqvb6KAPEP+GmNK/wChF+JX/hEal/8AGqP+GmNK/wChF+JX/hEal/8AGq9vooA8Q/4aY0r/AKEX4lf+ERqX/wAao/4aY0n/AKET4lf+ERqX/wAar2+igDxD/hpjSv8AoRfiV/4RGpf/ABqj/hpjSv8AoRfiV/4RGpf/ABqvb6KAPEP+GmNK/wChF+JX/hEal/8AGqP+GmNK/wChF+JX/hEal/8AGq9vooA8Q/4aY0r/AKEX4lf+ERqX/wAao/4aY0r/AKEX4lf+ERqX/wAar2+igDxD/hpjSv8AoRfiV/4RGpf/ABqj/hpjSv8AoRfiV/4RGpf/ABqvb6KAPEP+GmNK/wChF+JX/hEal/8AGqP+GmNK/wChF+JX/hEal/8AGq9vooA8Q/4aY0r/AKEX4lf+ERqX/wAao/4aY0r/AKEX4lf+ERqX/wAar2+igDxD/hpjSv8AoRfiV/4RGpf/ABqqum/tCeHtGso7Ow+HfxFs7WPO2GHwLqKqMkknAh6kkk+pJNe80UAeIf8ADTGlf9CL8Sv/AAiNS/8AjVH/AA0xpX/Qi/Er/wAIjUv/AI1Xt9FAHiH/AA0xpX/Qi/Er/wAIjUv/AI1R/wANMaV/0IvxK/8ACI1L/wCNV7fRQB4h/wANMaV/0IvxK/8ACI1L/wCNUf8ADTGlf9CL8Sv/AAiNS/8AjVe30UAeIf8ADTGlf9CL8Sv/AAiNS/8AjVH/AA0xpX/Qi/Er/wAIjUv/AI1Xt9FAHiH/AA0xpX/Qi/Er/wAIjUv/AI1R/wANMaV/0IvxK/8ACI1L/wCNV7fRQB86/s6+Jri4+LvxMsbPwv4p0bwtrD2/iKzn17QbrT40vHUQ3kKmZFBLGKGYAHkyyHsa+iqKKACiiigAooooAKKKKACsDx74E0L4neDdX8K+JtOi1XQtVt2tru0mHDqe4PUMDghhyCARgit+igD5N+BvxB179nDx9p/wG+KGoS3+nXO5PAPjS6Py6pbL93T7hui3UQIUf3xtxzt3fWVcH8bPgv4a+Pnw9v8Awj4otmks7jEtvdQHZcWVwvMdxA/8EiHkHvyDkEg+Qfs+/GzxJ4P8an4HfGS6X/hPrOIvoHiRl2W/iuxXpMhPAuUAxJHnOQWGeTQB3v7UWuXtv8Mx4Y0i4e217xpfQ+GbGWM4eIXBP2iYdx5dstxJkdCgrJh/Y9+D0EMcY8E2jBFChnuJ2Y4HUkycn3p7v/wsT9qSZ/8AWaT8O9KEK+h1S/UM59zHaog9vtZr2GgDx7/hkP4P/wDQj2X/AH+m/wDi6P8AhkP4P/8AQj2X/f6b/wCLr2GigDx7/hkP4P8A/Qj2X/f6b/4uj/hkP4P/APQj2X/f6b/4uvYaKAPHv+GQ/g//ANCPZf8Af6b/AOLo/wCGQ/g//wBCPZf9/pv/AIuvYaKAPHv+GQ/g/wD9CPZf9/pv/i6P+GQ/g/8A9CPZf9/pv/i69hooA8e/4ZD+D/8A0I9l/wB/pv8A4uj/AIZD+D//AEI9l/3+m/8Ai69hooA8e/4ZD+D/AP0I9l/3+m/+Lo/4ZD+D/wD0I9l/3+m/+Lr2GkPQ44NAHj//AAyH8H/+hHsv+/03/wAXR/wyH8H/APoR7L/v9N/8XXCeBPHHxK8WftHfFH4eXHjS1g0vwpaabc2t1FosXnS/ao2dg+WIwu3AwB1r0j4f6t4usfGmoQ+IPEun+JvCd7pUOpaRqlvp4tDGQ7LKkjh2RwVaFlI28FuOM0R95J99fz/yYS91tdrfjb/NFL/hkP4P/wDQj2X/AH+m/wDi6P8AhkP4P/8AQj2X/f6b/wCLr1WLWLC4kgjivbeSSdS8KrKpMijqyjPI9xRqmsWGh24uNRvrawgLBBLdSrGpY9BliBmgDyr/AIZD+D//AEI9l/3+m/8Ai6P+GQ/g/wD9CPZf9/pv/i69auL63s7V7q4nigtkXe00jhUVfUseAKW1u4L63juLaaO4t5BuSWJgysPUEcEUAeSf8Mh/B/8A6Eey/wC/03/xdH/DIfwf/wChHsv+/wBN/wDF1X/aq+IGvfDv4Zz694V16307VdNvbET2slvFcedDPdwwMGDcpxISGHcV69qWrWOi2v2nULy3sbfIXzrmVY0yegyxAzQtVfzt+T/UOtjyn/hkP4P/APQj2X/f6b/4uj/hkP4P/wDQj2X/AH+m/wDi69Zm1G0t3hSW6hjec4iV5ADIf9nnn8Kfb3UN5CJYJY54iSA8bBlODg8j3oA8j/4ZD+D/AP0I9l/3+m/+Lo/4ZD+D/wD0I9l/3+m/+Lr1XWNWtdB0m91O+lW3srOB7ieVuiRopZmP0ANcR8M/El3d/D5/HXii8awi1W3/ALXNvcPth0yy2F4oyOgZYsNIx5Llv4QoCurNvZb/ANfJ/cx2ei7/ANf5fejB/wCGQ/g//wBCPZf9/pv/AIuj/hkP4P8A/Qj2X/f6b/4us/4beNPGH7Q+nDxXpOpS+BPh9cs39jtBaRS6rqkIJAunM6PHBE+MpH5bOVwxZc7a0vBuvePI/jvrHhDVb2DU/CekaFDqEWqNAiXd3NczukaTbAEBjFtNzGqht6kgYqrO6i9G/wDK+vb076PUm6s2tUv87fm/12G/8Mh/B/8A6Eey/wC/03/xdH/DIfwf/wChHsv+/wBN/wDF17DRSGePf8Mh/B//AKEey/7/AE3/AMXR/wAMh/B//oR7L/v9N/8AF17DRQB49/wyH8H/APoR7L/v9N/8XR/wyH8H/wDoR7L/AL/Tf/F17DXk2qfE7WPEXxc1z4eeFb7TdH1fRdLt9Tnm1nSri8jnEzMqhNksKqF2jJ3sSWICjaSV1t/W1/yH0v8A1vb82V/+GQ/g/wD9CPZf9/pv/i6P+GQ/g/8A9CPZf9/pv/i6tfs2/Guf44eB9Sv9R02PSNe0TWLvQNWtbeQyQC6t32u0TEZKMCrDPIzg5xk+pXV1DY2s1xcSpBbwoZJJZGCqigZLEnoAKbtFXb0tf5PW/wBwldu3Xb5rT8zyP/hkP4P/APQj2X/f6b/4uj/hkP4P/wDQj2X/AH+m/wDi6zPh38QfFX7RsM3iPw3qTeDPhv50kOmahFaxzanrIRirXKecrRwQFgQoaN3cDdlBgHS8P6349sfj4PBl7qMOr+ELPQW1ZtWmt40vZ5pJhFFBL5arGNuyZ9yKu4FQQNpLNJ3UXo3/AJN/LRdfTcT0TfRf52/Ni/8ADIfwf/6Eey/7/Tf/ABdH/DIfwf8A+hHsv+/03/xdew0Uhnj3/DIfwf8A+hHsv+/03/xdH/DIfwf/AOhHsv8Av9N/8XXsNFAHj3/DIfwf/wChHsv+/wBN/wDF0f8ADIfwf/6Eey/7/Tf/ABdew0UAePf8Mh/B/wD6Eey/7/Tf/F0f8Mh/B/8A6Eey/wC/03/xdbHxK+Klx4b8aeEvA2gQW934t8StPLCbzcbeytIFDT3MqqQzAbkRUBXczj5lAJrV+Hus+MdQ1TxPZeK9GgsoNPvVh0zVLYLHHqUBiVjIIvNlaPa5ZfmYE46Cha6/1pp/Xz7MHp/X9f1bujkv+GQ/g/8A9CPZf9/pv/i6P+GQ/g//ANCPZf8Af6b/AOLqPwr8crzxb+0lrfgK2sok8O6d4dTVItQOTJdzG7eByvOBGpjdenzEEjjGeh8NeJrvQ/inqvgbU7mS7juLL+3NGuZm3SGDzPLuLdm/iMUjRkE87JlHO3JI+8otfavb5N3/ACb9EEvdck+lr/O1vzSML/hkP4P/APQj2X/f6b/4uj/hkP4P/wDQj2X/AH+m/wDi69hooA8e/wCGQ/g//wBCPZf9/pv/AIuj/hkP4P8A/Qj2X/f6b/4uvYaKAPHv+GQ/g/8A9CPZf9/pv/i6P+GQ/g//ANCPZf8Af6b/AOLr2GigDx7/AIZD+D//AEI9l/3+m/8Ai6P+GQ/g/wD9CPZf9/pv/i69hooA8e/4ZD+D/wD0I9l/3+m/+Lo/4ZD+D/8A0I9l/wB/pv8A4uvYaKAPHv8AhkP4P/8AQj2X/f6b/wCLo/4ZD+D/AP0I9l/3+m/+Lr2GigDw3xJ+xj8KNY8PanYWXheHSb25tpIYNQtp5hLbSMpCyr8/VSQw+ld7+z748vPiJ8I9B1PVRs8QW6Ppusw949QtnaC5BHb95G5Hswrta8f+H7f8K9/aK8aeFW/d6X4vtU8WaavRRdR7La/jX3OLSXA7yuaAPcKKKKACiiigAooooAKKKKACvJP2n/hJ4P8Aix8KNUHi+eXSY9DifWLLxFZN5d5o00KmQXUDjBVl25IzhgMH1HrdeJ/tOSHxVY+EfhnCcyeNdWSC+VeCNLtsXF6foyokP/bwKAK37JPhLV/DfwR0fUPEt1Nf+LPEjN4g1i8uUVJZbi4AZQ6qAAyRCKPAGBs4r2WkVQqgAYA4AFLQAUUUUAFFFFABRRRQAUUUUAFFFFABRRSEZGCMigD478G+A9O8fftvftEWeo3Wr2qf2RoSBtI1i709/mt5ASTbypu9t2cfia9q0SDR9BsPD3wbuxY+IVsfCu7UYrpVl/cwiGGIyRtkYkYuRu/55n0rbj/Z6+FcN5Pdp8NPB6Xc+PNnXQbUSSY6bm8vJ/GrelfBL4daFHqsem+AfC+nR6tGsWoLa6NbRC8QHIWYKg8wA8gNms3G9L2XlZ+ekrfiym/3jn6W8tIp/kfGGhaHYaH/AME9fhZrtlbxw63FrGhzx6kqj7Qjf2pHGMP1AEZKAZxt46V7r4UjPib9tD4l2fiuJbg6XoGmHwvb3ShkS0lEn2yaEHjcZgqOw5wqA8V6m3wD+GL6LDo7fDnwm2kQymeLTzodqbdJDjLrH5e0McDkDPArZ1b4ceFddt9Ngv8Aw5pd1FpieVYrJaJ/oiYC7Ijj92u0AYXAwMdK3lJSlJ23cn98Uvwt802tCPs28kvulzHzZofhvTvDH7QPwl8BW97ea18OdN0TWZdNk1ec3IuNZiulDq7MAHeGNpdgx8o3bemag8Xa14r8I/FT9oiz+HFu32Sz8EQ6nHbWiZjg15lm2lEHAleFY3ZQPmKoSOefqLUvBPh7WNFt9HvtC0670q2KmCymtUaGEqMKUUjClexGCO1WPD/hnSPClk1poul2elWryGV4rOBYldz952CgZY92PJrGUXKHLfpLXvzX39L6f4YmkZcsua3WPytbb1tr/ifc+NvjL4d8JW/7BfhLVrOCxlupz4fu49Ufabm4uZry1M8jSn5nkfMhfJJPOeld75Wv+IP22PF9lqH9mtb2HhWyfw5b6xA80RhkeRb2SFQwG/zBGjtyduwdDz7Nq/wN+HevWl3a6j4I0C9tbt/Mnt5tOiaORi4csV24yWAYnqSBnNa2ofDjwrqmnabYXfhzS57PTF2WMTWiYtFxtxFx+744+XHHFbSkpScrbybt6x5bfL8VpoZRjyw5L9Er+jT/AB/4Op8kfEr4R6Z4f8E/CjQ7zUbLxCbX4pw2dtd29oYjY2k007Pp8TszN5aBjFw2MLjA24HvXxE8Px/An4IePNS+HEGn+Gp7W31HxBIkls9zG9x5TyOVUyAISyr6qAMba7LWvhD4E8S2um22r+CvDuq2+mjFjFfaVBMtqM5xEGQ7Of7uKg+KPw/ufHPwv1rwZo1/ZeHYNT06XSzNJYG4SCCSJoyI4lliAIBGOcDGMVhPmVGUYfE7/lFfnG/53er2hy+1jKe3/Bk/ylb/AC2XFfHq81HXP2PfG12jGTUbrwdcTO0YwWZrQs+APXJ6Vzn7YWmap4i/Yh8aWvhWOSWebQIXjjtQS72wMbSqoHXMIfgdRXtXhnwtcWPge28Pa7c2msiO0FjLJBaNbxTRBNmDG0kh5Xr83esr4R6DqngzwrF4T1NHng0MLZafqLOGF3ZqMQFuciREAR8jkruHDcbV4xqSqqOztbtpff71p2uZUZSpqlKW8b3+fL/8i/wLnw3vNBt/hb4audFurb/hG4tJt2tLhHAhFusS7W3dAAo/DFYHiT4x6b4f+H+q+KdS87S9NIuDY3UMPnSyW8UTObryzgbQFkkAJ5UJ3cLWjZ/A3wBp9891beE9MgLzG4NvHDi280nJk8j/AFe/PO7bnPOc1J8YvhzJ8VfA8vh1NRXTopru1uJjJAZo544Z0laB1DKSkgTacMOCfpRUl7STl3/C71fS9vl99rKlFU4xj0X42Xz/AK8jO1D4yaD4LvfDXh/Vb2+1XWdUiiit54LElrucxPIqlEACO6xSPjAVQPmKgjPT+CvG+m+PNMurzTTKv2S8n0+6hnQLJBcQuUljbBIJDDqpIPYmsCb4Xz33j3wZ4l1DW3vz4b068tkhe3Cme6uBEpuSQcLhI5FCgf8ALU88ct+C/wAL7v4U+G59Kutc/tsyXM10Zvswg3SSzSTSSuNzFpHeU5OQMKoCjHJu235/np+F381tZhqkl6flr+Nvx30H/F+1S70eyV9J8XasBOT5fg/U2sZ0+U8yMtxDuX2yee1eUf2NB/0Jnxv/APCtl/8AlnX0rRUWLucj8LbdbXwnGiaf4i0wea58jxTfNeXnXqZDNMdvoN/HoK5v4zfGCy8EiDw3Y6/omj+LdViZrabWryOGCxhzta6lDMNwU/djHLsMcKHZfUq4bxd8Cfhr8QNYbVvFHw88K+JNVZFiN9q+iW11OUX7q75ELYHYZ4ol73p1/r+vII+6cX8Fbz4XfBf4Q3kej+KLH/hGNJv2TUvFGoX0XlX19NseWd592xmd5lU84DfKPu1c/a803W/EH7LvxMsvDCyT6vc6DcLAlvy8qlMuqY6lk3AY65ro9a+DvhhfhjqPgrQfCPhvT9FulITSf7NhjsEdmBMpgVNhZT84G3llHI6jtdNsItL061soM+TbRLCm45O1QAP0FKtH20JQb3Vvw108ui7adB0peynGa1s7/jda+fXzOF/Z/m0OP4C+AX0GeB9Bi0GzFvLGw2CNYVByexGDn0IOaur8U9Is/C+qeKtUkTTvDkNwIbO+IaRr2M7UR40UFm3ysyxqoJf5Sud4qNPgb4Bj1K4vU8J6bHJcSm4nhSHbbyyk5Mjwj92zk87iuc85qX4pfDVPiRpeiQLeCwutG1i01q0d4fNiaWB9yrIgZdykE9CCDg9sVtUm6lRzf2n913q/Oy/rtlTh7OCgui++y09LlO4+N3h6xOq299Ffafqumww3EulXMIW5aKYOYpFAYqVPlS5JYbPLbftwavaJ8XPDniS60W10yee8u9Y0P/hIbOBbdgz2eYwGOQArMZVAVsE8+hrltZ+AK+JdJ+I76prsjeI/G2l/2Rcana2/lx2VqsciRRQxFydoMsjtlyWZ25UYCyeE/g5rOg/E5/F114jtJI30m10gabZaaYUihgE+1EZpXwpacORjOYkGccVmvP8ArSX435fLct7af1rH9Oa3yuS/Az4rap8WP+EvvbvR5tN0mz1u4sNKlkiC+bDAVhkLkO25/PSfoAAAo5610PxWt1uvC2x9N8S6oPPQ+R4Uv2srzoefMWeE7fUbu44NUPgv8L7z4T+EbTQbjXBrFvaRtHEUtfIDM0rySTP8zFpHaQknIHHAHJPoNEkrJdrfh1+YLSTfm/x/y2Pmr+xoP+hM+N//AIVsv/yzr1r4Q2qWmhXappXizSQbgny/F+pNfXDfKOUZribantuHOeO9d3RTTtcR8s/FLwPHq37eXwz1DWYRc6Be+EdSsYoJ1DQT3McySmN1PDfIwcKevl5/hqh4D1Lxda/FD4+eDvCWn3F54S0/V9LjsYbK4jh+wG4tBJfx2xkZUUg7SEBARpSwHY/T3ibwlo/jGxjtNa06HUIIpVni81fmikHSRGHzI4ycMpBGTzTvDfhbSPB+m/2fomm22l2fmNM0VtGEDyMcu7f3mY8ljkk8k1MVypReyTXreXNr+KKk7ty6u3ysrafd+Z8xeCNd1CH9uS9sIvBd5pEMHw/sbI2purUi1gF9Ntk+SUgqBxtXLcdK9L8ehn/am+Eog5kTRteafb2h/wBDHPt5hSu4t/g/4Cs/Ex8RweCPDkHiEv5p1aPSbdbvfnO7zQm/Oec561Q8L+E7y++I+s+N9Ztza3DWw0fSbNmDNBZq5eSRsEgPNJhsA8JHFnDbgKi/gT6c1/nzP85fdd+RMlrKS68tvkkvyV/uXmd9RRRSGFFFFABRRRQAUUUUAFFFFABRRRQAV43+0or+FtJ8MfEq3VvP8D6rHqF2UGWbTJQbe+X3AhkMv1gWvZKpa3o9n4i0W/0nUIVubC+t5LW4hbpJG6lXU+xBIoA245FmjV0ZXRhuVlOQQehBp1eQ/st65eXHwvXwzq07XGveC7ybwxfSP96X7MQIJj6+ZbtBJn/bNevUAFFFFABRRRQAUUUUAFfMeveNtV0X9p3xPr2q/D3xrq+m6Vo9tomhXej6Obi3kEjefeyhtw5Zxbx9OkHfNfTlFAHiH/DRTf8ARLfiV/4Tp/8AjlH/AA0U3/RLfiV/4Tp/+OV7fRQB4h/w0U3/AES34lf+E6f/AI5R/wANFN/0S34lf+E6f/jle30UAeIf8NFN/wBEt+JX/hOn/wCOUf8ADRTf9Et+JX/hOn/45Xt9FAHiH/DRTf8ARLfiV/4Tp/8AjlH/AA0U3/RLfiV/4Tp/+OVx/wAWvjprln+1x8KvBmiSMvhKx1E23iqdOjXl7p942n2xP+yIHlYf9NID6V9P0AeIf8NFN/0S34lf+E6f/jlH/DRTf9Et+JX/AITp/wDjle30UAeIf8NFN/0S34lf+E6f/jlH/DRTf9Et+JX/AITp/wDjle30UAeIf8NFN/0S34lf+E6f/jlH/DRTf9Et+JX/AITp/wDjle30UAeIf8NFN/0S34lf+E6f/jlH/DRTf9Et+JX/AITp/wDjle30UAeIf8NFN/0S34lf+E6f/jlH/DRTf9Et+JX/AITp/wDjle30UAeIf8NFN/0S34lf+E6f/jlH/DRTf9Et+JX/AITp/wDjle30UAeIf8NFN/0S34lf+E6f/jlH/DRTf9Et+JX/AITp/wDjle30UAeIf8NFN/0S34lf+E6f/jlH/DRTf9Et+JX/AITp/wDjle30UAeIf8NFN/0S34lf+E6f/jlH/DRTf9Et+JX/AITp/wDjle30UAeIf8NFN/0S34lf+E6f/jlH/DRTf9Et+JX/AITp/wDjle30UAeIf8NFN/0S34lf+E6f/jlH/DRTf9Et+JX/AITp/wDjle31W1LUrXR9Our++uI7SytYnnnuJmCpFGoLM7E9AACSfagDxn/hopv+iW/Er/wnT/8AHKP+Gim/6Jb8Sv8AwnT/APHK4XUf2ifis3g/S/ipB4f8M6T8Lr7VNPgh03UftT61Pp11fRWyXpYFYoSyTLKISr4U8vnivqmgDxD/AIaKb/olvxK/8J0//HKP+Gim/wCiW/Er/wAJ0/8Axyvb6KAPEP8Ahopv+iW/Er/wnT/8co/4aKb/AKJb8Sv/AAnT/wDHK9vooA8Q/wCGim/6Jb8Sv/CdP/xyj/hopv8AolvxK/8ACdP/AMcr2+igDxD/AIaKb/olvxK/8J0//HKP+Gim/wCiW/Er/wAJ0/8Axyvb6KAPEP8Ahopv+iW/Er/wnT/8co/4aKb/AKJb8Sv/AAnT/wDHK9vooA8Q/wCGim/6Jb8Sv/CdP/xyj/hopv8AolvxK/8ACdP/AMcr2+igDxD/AIaKb/olvxK/8J0//HKP+Gim/wCiW/Er/wAJ0/8Axyvb6KAPEP8Ahopv+iW/Er/wnT/8co/4aKb/AKJb8Sv/AAnT/wDHK9vooA8Q/wCGim/6Jb8Sv/CdP/xyj/hopv8AolvxK/8ACdP/AMcr2+igDxD/AIaKb/olvxK/8J0//HKP+Gim/wCiW/Er/wAJ0/8Axyvb6KAPEP8Ahopv+iW/Er/wnT/8co/4aKb/AKJb8Sv/AAnT/wDHK9vooA8Q/wCGim/6Jb8Sv/CdP/xyj/hopv8AolvxK/8ACdP/AMcr2+igDxD/AIaKb/olvxK/8J0//HKP+Gim/wCiW/Er/wAJ0/8Axyvb6KAPEP8Ahopv+iW/Er/wnT/8co/4aKb/AKJb8Sv/AAnT/wDHK9vooA8Q/wCGim/6Jb8Sv/CdP/xyj/hopv8AolvxK/8ACdP/AMcr2+igD5v+FPibVNQ/aU1/UbPwP4t0Dw54m0SF7+41zSmto01G1YpGwO4j95BJtP8A17oO9fSFFFABRRRQAUUUUAFFFFABRRRQAUUUUAFFFFABUdxcRWdvLPPIsUMSl3kc4VVAyST2AFSV43+11rl5pvwF8Q6VpUpi1zxQ1v4W04r94T38yWoYe6LK8nsEJoA8EFvLP+zno/xgvI2jvfEHxL0nxzJ5g+dLCbU7e0tlyecLp7Q/TLV9v143+0T8M7jVv2V/F/g3wnYtNeWmgGLRrGLBZpbZFe2jX33RIB74rOb9qaXw7Ct344+FPj7wPo5G9tXubC31G2gT+9N9hnnkiHqXQAdyKAPdaKyfCvizRfHGg2mt+HdWstc0e8Tfb32nzrNDKPVXUkHnj2rWoAK434r/ABT0f4QeEZNd1dLm6eSZLOw02wj8271G7kOIraCMfekc9B0ABJIAJHXyypBG8kjrHGgLM7HAUDqSewr5/wDhWh/aC+KUvxau1aTwXoRm0zwNA4IS5Jyl3q2O/m4MMJ/55K7D/W0ARL8WPjH4S8WeAZfHfh7wfpfhzxdrKaMdN0u8ubnUNLkktp5ojJOyrFL80OxtqKAWGCw5r6IrxD9rb/QfA/g/XTwmieOPDt5I3pG+pQ27n/vi4avb6ACiis/xB4g03wpoeoa1rF7DpulafA91dXlw4WOGJFLM7E9AACaANCivnDQ/COu/tWH/AISXxrLq3hz4Xzc6J4MtbiWxuNTgzlbvUnjZZMOMMlsCFVSDJuY4XS1D9mWb4b/8Tj4Ja1N4M1eH538P6jd3F3oOqeqTQO7GFjgfvoNrDqQ44oA99oryD4e/tKaD4m1638I+K7Wb4e/EZvkbwvrjqr3LActZz/6u7jOCQ0RJwDuVSCB6/QAUV5d8cPirqXgaHQfDvhOytdW+IPim6NnotjeMwt4lQbp7y42/MIIE+ZscszIgILgjnLX9mPUtTgS48VfGL4i6zrLgG4m0zWf7Itd/cRW9sqKiZ6Bi7Y6setAHulFeIf8ADKth2+JvxTH/AHOd3/jR/wAMk+G7z5dX8ZfEnXLfvb3njnU0jP1EMyZoA9vor5k8c+B7v9mO68K+JfBHirxAnhq68R6Xo2seGtf1OfVrI295dx2xmhe5d5oJEaVWysm08gqa+m6ACiiigArwv9qxm8WaN4P+F0DEy+Pdch0+9VThhpcAN1fn6NDD5J97gDvXuleF+Hf+K+/a68Vasf3mneAdBg0C2zyovr5lu7sj0IgisB6/OaALP7ZOmNL+yj8SxZxKr6bocuowxoMBTagXC4A6Y8kflXsen30Wp2FteQNuguIlljb1VgCD+Rrn/in4f/4Sz4Y+L9D27/7T0e8stvr5kDpj/wAern/2bPEH/CVfs7/DHWC2977wzps7n/ba1jLD8DkUAekUVwvjT48fDb4c3D2/irx/4Z8O3K9bfU9Xt4JfpsZwx/Km/D349fDf4sXctp4N8d+HvE17EpeS00vUop5lUHBYxq24LkjnGKAO8oorzH4vfGSXwJqGkeF/DWit4t+IOuq76boiTeTFHChUSXd1Ng+TboWUFsFmYhUVieAD06ivnvXvi/8AFr4N2cWufEfwn4X1fwk1zBb3eo+D9SmFxpvnTJEjvBcoomjDyLlkkDAZOzivoSgAoor52nh1P9qL4g+IbFdc1fQvhN4Xum0mVdDvHsbjxDqcbf6SGuIyJUtoD+6xGyGSTzMsVQAgH0TWD4k8feGPBqg6/wCI9J0MYznUr6K349fnYV5d/wAMY/CpuJNO8RTR94pvGOsyRt9Ua7Kn8RW74b/ZZ+D3hFjJpfwy8Kw3BOWupdKhmuGPqZZFZz+JoAztW/bI+BuizJDP8WPCU0zMqCKx1WK6fcSAAREWI5I6+tex141+074F0+5/Zc+K2k6Tp1tYNJ4Z1B4Y7OFYh5qW7vHwoH8SrXpvg3Xl8VeD9D1pCCmpWMF4COmJI1f+tAGxRRRQAUVjeKPGnh/wPpr6h4j1zTdAsEBLXWqXcdtEAOuWcgV49L+0dq/xOc2PwU8Lv4sRjtbxhrYksfD9v/tJIV8y8I/uwKVPeRaAPeWYKpZiAoGST0FLXyb8ef2XtY8c/A/x/dfEH4h6/wCNddXQL6ey06xlOk6NbXK27tCyWkDAy7XAI+0SS5r6P+G/iP8A4TD4d+FteDb/AO1NKtb7d6+bCr5/8eoA6OiiigArxX4qeO/FHin4h2nws+HWoR6PrItV1LxF4ma2W5GiWT7lhSNG+Rrqd1bYHyFSN3Kn5QfTPHnjXSvhv4L1zxTrlx9l0jR7OW+upOpEcaliAO7HGAO5IHevP/2Z/BOq6D4JvPFHim38jxx41vG8Qa1G3LWrSKqwWYJ5228CxQ49UY/xGgDiPiX+zHf2/wANfFU9l8XfilcaxDpN1JayN4maIfaFhcxsRCidGAOBgHp0r2T4M+Jm8afB/wADeIXkMz6toVjftIxyWMtujkk++6uumiSeJ4pFDxupVlPQg8EV4r+xZM//AAy/4CspGLSaTay6MxPXNncS2pH4eTj8KAPbaKztc8R6T4ZtBdaxqlnpNqW2ia+uEhQn03MQM1Z0/ULXVrKG8sbmG8tJlDxXFvIHjkU9CrDgj3FAFiiiuO+Ivxi8DfCOzgufGvi3R/C8Nw22E6peRwNKe+xWOWx3wOO9AHY0VzHgX4n+D/idp5vvCHinR/E9oPvS6TfRXIX2bYx2n2NdPQAUUUUAFFFFABRRRQAUUUUAFFFFABRRXnfx6+Ko+EXw5vdVtIF1HxHeOum6BpOfn1DUpjst4FHUgsdzEfdRXboDQB594hjv/wBpL4s614Vg1jVNG+GnguRbXWJtE1CaxuNa1V4g5tPPhZXWCCORDIFYFpJFU8RnMvgrUtW/Z9+JemfDvxBq99rngTxHlPCOtatMZriyu0VmfSric/NICil4JHJYhJEJYqpPovwQ+GKfCH4Z6P4ba6Oo6lGr3Oqakw+e+v5nMt1cN7vK7tz0BA7Va+Lfwx034weA9R8M6lLNZifZNaahanbcWF1GweC5hbtJHIqsD7YPBIoA7GvC/iJ/xcD9qD4ceEh+80/wnZXPjPUUP3fPYNZWCn3zJeSD3gBrD0f9rbTvhno8vh740ed4c+IWloY2htrGWSHxCASsdzpuxSJfNwv7ofPG7bGAwCev/Z28F63Z2/ifx54vsG03xl42v/t1xYSsryabYxr5djZEqduY4hufHHmzS9etAHsNFFFAHiPi39nu60DxFd+MvhDqlv4H8WXL+bqGmTRM+h643/T3boRskP8Az8RYkGTu8wfLUMP7RHi/SI/sXiP4GeOU11PlKeHvsepWMx9Yrkzx4U/9NVjI7ivdKKAPnvVPBXxM/aKj/s/x3aQ/DX4cy8XnhrTr8XWr6vH3hurmPEdvC3R44S7MMr5igkH3zT9PttJsbaysreK0s7aNYYLeBAkcUagBVVRwAAAAB0AqxRQB4n+2nBJJ+yz8RbmJS0um6d/aygdc2siXIP4eTXtFvOl1BHNEweKRQ6sOhBGQawviJ4Nt/iL8P/E3hS7laC013TLrS5pVUMUSeJomYA9SAxOK8W8N/HTUfgTptl4X+NWnPosOnwJbWfjrTbaWfRNRjQBVaVlDNZTEAbkm+TIJSRhwAD6Kr5211R+1F8VJ/Dq/vvhP4Jvl/tk9Ytf1iMhks/R7e2O15R0aXYhBEb0zxF8cr34/Rnwl8Ebu4uIL3MWqfENLaRNP0eDgSfZZHULc3ZBwiplUJ3ORt2n2v4f+A9E+F/g3SfC3h2zFjo+mQiGCLJZjySzux5Z2YszMeWZiTyaAOhooooA8O/a2jWy8H+CPEDKu3QfHXh+8eQjlI5L+K1kI/wCAXLD8a9xrxX9tG2km/Za+I9zCpebTNMOroB/etJEuQfwMOauftG/ES/8AD/wxg0/wnMD4x8ZTx6D4cZf4Li4U5uTjnZBCJZ2PpFjvQBifAlf+Fo/FDx38XJv3mnvM3hPwwx5A0+0lYXM6n/pvdiXnulvDXvNc98PfA+mfDPwLoHhPRo/K0vRbGGwt1P3ikaBQzerHGSe5JNdDQAUUUUAeIftqgxfsx+Nb8DnSUtNYB9Psl3Dc5/Dyc17cGDAEHIPQ159+0RoH/CVfAH4laMF3tqHhrUrZR/tPayKPxyRXC618eLnQfgP8O7rw9BDrPxA8baXZQ+G9KlY4nuJbZJGnlxyIIUJlkbsq4zllyAeh+Nvjp8OvhrrVnpHizx14d8NapeLvgtNW1OG2kdc43YdhwTwCetdtDMlxEksTrJE6hldDkMDyCD3FeZfCv9n/AMOfDvwpeWN/b2/inXtaLT+Ite1S2jkuNZuHzveXIP7vkqkX3UTCgcc8enwm8afAO+kufhAlprvguZi8/wAO9YvGt47Nj1fTLohvIUnk28gMfXYY84oA9o8YeLNM8B+E9Y8Sa1crZ6RpNpLe3c7kAJFGpZj9cCvN/wBlXwtqWh/CK11nX7drbxT4uu5/FOsRPw0Vxdt5iwn08qHyYcekQrmdR8L/ABD/AGitW0mx8c+FIvh78OtNuodRvdFuNQhv77XZ4n3wwSmBmiitldUdhudpCqrhVzn6GoAK+fPD37FPhTQdCs/D0njH4gal4Ts08q38OzeJpoLJI8kiLFuInZBnhWYjAAxivoOigDiPBPwP+Hvw3t0h8L+CdA0IL/y0stOijkY+rOF3MfdiTVT4tfAzwv8AF/Skj1K1/s/XLQ+bpfiPTgIdR0ucD5JoJgNykHGVPysOGBHFehUUAfOGn/tQX3wt0+bwt8VtD1ib4gWTC2sH8PaNcXFt4qzxFLZsimNJH/jhkdfLYMc7AGrsvgH8NdZ0T+2fHXjmOJviP4rZJtQjjkEsel2qZ+zabCw42Qqx3MOHkaR+cjHrtFAHjv7Y2ly6v+yv8VY4P+Pi38PXl9F6+ZBGZ1x77oxXquiapFrmi2GpQf6m8t47hP8AddQw/Q1m/EDQP+Er8B+JNEK7/wC0tNubPb6+ZEyY/wDHq439lnX/APhKP2afhXqjNukufC+mtKf+mgtow4/76BoAsftD/Ea8+F/wm1jVNHjW58TXRi0rQrVufP1K5kWC1XHcCSRWb/ZVj2rZ+EPw4s/hF8M/Dng+xka4i0m0WGS6k+/czHLTTv8A7UkjPI3u5rzKadfjh+0vbW8Di48HfC0me4kX5ornxBPEyJHnoTa27uzdw9yndK99oAKKKKAM/wAQ6PH4h0DU9Km/1N9ay2z5/uuhU/oa8v8A2P8AWJNc/Za+FU8//HxF4csrObPXzIYlhfPvujNewV8z+Afg18cvA/hd/Bek+NfBvhvwzb399LZ6pb6RcahqiW013LOigSSJArqsoXJSRRtHB7gHofxc+Nkvg/WLHwb4Q0pfFvxK1aIzWWiiXy4LSAHaby9lAPk26njOCzt8qAnOOdtf2Y7rxkn234q+PfEnjLUJvmk0vSdSuNF0aAn+CK2tZEd1HTM8kjHqcZxXefCf4NaD8IdPv101rvU9Z1Sb7Tq3iDVpfP1DU5gMB5pcDIA4VFCog4VQK7ugDyfwz+yf8HfCOorqOnfDfw9/aSEFb+8slu7lSO4lm3uD75r1dVCqABgDgAUtFAFfULGLVLC5s7hd8FxE0Mi+qsCCPyNeP/sZX015+yz8NIrht1xp+jx6TKf9u0JtmH5wmvaK+VPh3+yn4t1K313w58RfEqr8MrfxDq15o3hDw9NJB9vtbm+muYzqVwCHcDziBbxlUwF3lzlQAe53Hx0+G1rqzaVP8QvCsOpq21rKTWrZZgfQoX3Z/Cuon8QaXa6S2qTalZw6Yq72vZJ0WEL6lycY/GuWtfgT8NrHRk0iD4feF4tLVdgs10a38rGMY27MVy8f7HPwLh1Qagnwi8GLcq24Y0S38sH18vbt/SgDj7zW4f2uvG2l6foZN58GvDl8t/qmsqf9G8SX8LBre0t/+ettFIBJJJyjvGiLkBzX0jUVtbQ2dvFb28SQQRKEjijUKqKBgAAcAAdqloAK+Tfhp4d+NVq3jHwJ4c0y28AeGo/Fus3sXjTVlW6ne1ub2W5VLCz6E/vj+9mIQdkk7fWVFAHjfh39kn4aaXdHU9e0T/hYXiN1xNr/AI2YateP67fOBSEf7ESIo7CuR8Z+BR+yvq0nxE+Hmltb+BGbPjDwbpsR8hIMktqdlCvEc0WS0kaACWME43opP0lRQB5h8SPj94e8F/D3TfEekSx+LrvXysHhnTNJmWSTW7mRcxRwsMjb/E8n3UQMx6VT+C3wRPg6afxh4xmt/EnxT1hQ+q64yblthyRZ2e7mK2j3FQowX5d8s3Gv4N/Z5+Gnw98XXvinw54J0fR/EN4ZDJqFtbASL5hzIIz/AMswx5KptBJJI5r0SgDzXxt+zX8LPiNqY1PxF4B0HUdUzk6j9jSK6P1mTDkexNelUUUAFFFFABRRRQAUUUUAFFFFABRRRQBV1TT01bTbuyklngS5heFpbWVopUDKQWR1IKsM8MDkHBFeZeB/2bvDng3xdaeKLvWfE3jHXbCKWDTrvxXrMuof2ekgAk8hG+VGZVCmTG8jgsQTn1eigAooooAKKKKACiiigAooooAKKKKACiiigAooooAKKKKAOV+K3hd/HHwu8Y+HIkEsmsaNeaeqEgBjLA8YGTx/FXlP7P8A8F/GFrfaH41+LFxp9z4u0vRodH0fR9NdpbXRYfLUTuHb/WXMxVfMkAACqEXK5LfQFFABRRRQAUUUUAQ3lrFf2c9tMu+GZGjdfVSMEfka8n+CP7L/AIQ+BJgn0q51nXtUttNh0e21TxHfm8uLWxi+5bQcBYYgcEqiqCQM5wMevUUAFFFFABRRRQAUUUUAFFFFABRRRQAV8w+APgr8cvBfgOx+HVh4y8I+HfCtiZYINe02xuLnWFtWmd1SNJSII5AjBPMIkAxnZxX09RQBy/w1+HGh/Cfwbp/hjw9A8OnWYYmSeQyTXErsXkmlkPLyO7MzMeSWNdRRRQAUUUUAFFFFABRRRQAUUUUAFFFFABRRRQAUUUUAFFFFABRRRQAUUUUAFFFFABRRRQAUUUUAf//Z)"
      ]
    },
    {
      "cell_type": "code",
      "execution_count": null,
      "metadata": {
        "id": "FNyAhqEHnQZz"
      },
      "outputs": [],
      "source": [
        "# the first encoder layer, with relu activation\n",
        "def inenc_conv1(num_filters,\n",
        "                prev_out,\n",
        "                k_s=8,\n",
        "                s_s=4,\n",
        "                act='relu',\n",
        "                padding='valid',\n",
        "                is_first=False):\n",
        "  # double outputs each time, then set the convolution layer \n",
        "  num_filters = num_filters*2 if not is_first else num_filters\n",
        "  this_conv1 = Conv1D(filters=num_filters, \n",
        "                      kernel_size=k_s, \n",
        "                      padding=padding,\n",
        "                      strides=s_s, \n",
        "                      activation=act)(prev_out)\n",
        "  return this_conv1, num_filters\n",
        "\n",
        "# the second encoder layer. We set no activation here because we implement GLU\n",
        "# (cont.) as its own layer - functionally it's the same\n",
        "def inenc_conv2(num_filters,\n",
        "                prev_conv,\n",
        "                k_s=1, \n",
        "                s_s=1, \n",
        "                padding='valid',\n",
        "                is_first=False,\n",
        "                act=None):\n",
        "  # double input for outputs, but this value will be halved by the GLU\n",
        "  num_filters = num_filters*2\n",
        "  this_conv2 = Conv1D(filters=num_filters, \n",
        "                      kernel_size=k_s,\n",
        "                      padding=padding,\n",
        "                      strides=s_s, \n",
        "                      activation=act)(prev_conv)\n",
        "  return this_conv2, num_filters\n",
        "\n",
        "# create a block - two layers with a GLU filter after the second one\n",
        "# we return half the number of filters because that value is doubled in conv2,\n",
        "# but not halved in gokaf_glu\n",
        "def encoder_block(prev_out, num_filters, is_first=False):\n",
        "  conv1, num_filters = inenc_conv1(is_first=is_first, \n",
        "                      num_filters=num_filters, \n",
        "                      prev_out=prev_out)\n",
        "  conv2, num_filters = inenc_conv2(is_first=is_first,\n",
        "                      num_filters=num_filters,\n",
        "                      prev_conv=conv1)\n",
        "  this_glu = gokaf_glu()(inputs=conv2)\n",
        "  return this_glu, num_filters//2\n"
      ]
    },
    {
      "cell_type": "markdown",
      "metadata": {
        "id": "u7hDaAFW2TJC"
      },
      "source": [
        "## Decoder Components"
      ]
    },
    {
      "cell_type": "markdown",
      "metadata": {
        "id": "n0zkKEBJ2Odg"
      },
      "source": [
        "### Decoder Convolution Layers, Decoder Block"
      ]
    },
    {
      "cell_type": "markdown",
      "metadata": {
        "id": "OFYCiDyRIO_D"
      },
      "source": [
        "![dec 2.jpg](data:image/jpeg;base64,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)![decBlox.jpg](data:image/jpeg;base64,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)"
      ]
    },
    {
      "cell_type": "code",
      "execution_count": null,
      "metadata": {
        "id": "i5roCfwo2crG"
      },
      "outputs": [],
      "source": [
        "# the first decoder\n",
        "def outdec_conv1(num_filters,\n",
        "                prev_out,\n",
        "                k_s=3, \n",
        "                s_s=1, \n",
        "                is_last=False,\n",
        "                padding='same',\n",
        "                act=None):\n",
        "  num_filters = num_filters\n",
        "  this_conv1 = Conv1D(filters=num_filters*2, \n",
        "                      kernel_size=k_s,\n",
        "                      padding=padding,\n",
        "                      strides=s_s, \n",
        "                      activation=act)(prev_out)\n",
        "  return this_conv1, num_filters\n",
        "\n",
        "def outdec_conv2(num_filters,\n",
        "                prev_conv,\n",
        "                k_s=8,\n",
        "                s_s=4,\n",
        "                act='relu',\n",
        "                is_last=False,\n",
        "                padding='same'):\n",
        "  num_filters = num_filters//2 if not is_last else 8\n",
        "  this_conv2 = Conv1DTranspose(filters=num_filters,\n",
        "                               kernel_size=k_s,\n",
        "                               padding=padding,\n",
        "                               strides=s_s,\n",
        "                               activation=act)(prev_conv)\n",
        "  return this_conv2, num_filters\n",
        "\n",
        "def decoder_block(prev_out, num_filters, is_last=False):\n",
        "  conv1, num_filters = outdec_conv1(is_last=is_last, \n",
        "                      num_filters=num_filters, \n",
        "                      prev_out=prev_out)\n",
        "  \n",
        "  this_glu = gokaf_glu()(inputs=conv1)\n",
        "\n",
        "  conv2, num_filters = outdec_conv2(is_last=is_last,\n",
        "                      num_filters=num_filters,\n",
        "                      prev_conv=this_glu)\n",
        "  return conv2, num_filters\n"
      ]
    },
    {
      "cell_type": "markdown",
      "metadata": {
        "id": "zOhA82H7JM3G"
      },
      "source": [
        "## Whole Model Build"
      ]
    },
    {
      "cell_type": "markdown",
      "metadata": {
        "id": "v6_2118NJPME"
      },
      "source": [
        "![demucs.jpg](data:image/jpeg;base64,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)"
      ]
    },
    {
      "cell_type": "code",
      "execution_count": null,
      "metadata": {
        "id": "Me-I3_u5sjPB"
      },
      "outputs": [],
      "source": [
        "def build_model():\n",
        "  ### --- BUILD ENCODER --- ###\n",
        "  # create the input layer, the first block, and a list for layer outputs\n",
        "  input_layer = Input(shape=(None,2))\n",
        "  first_block, num_filters = encoder_block(prev_out=input_layer, \n",
        "                                          num_filters=64, \n",
        "                                          is_first=True)\n",
        "  enc_outputs = []\n",
        "  enc_outputs.append(first_block)\n",
        "\n",
        "  # declare that we are attaching new blocks to block1\n",
        "  prev_block = first_block\n",
        "\n",
        "  # for i in range 5, create a block, with the previous as input, then declare\n",
        "  # (cont.) that the current is the previous block, repeat\n",
        "  for i in range(5):\n",
        "    this_block, num_filters = encoder_block(prev_out=prev_block,\n",
        "                                            num_filters=num_filters)\n",
        "    enc_outputs.append(this_block)\n",
        "    prev_block = this_block\n",
        "\n",
        "  ### --- BUILD LSTM AND LINEAR OUT --- ###\n",
        "  # admittedly, this is the aspect of the model that I understand the least\n",
        "  lstm = Bidirectional(LSTM(2048, return_sequences=True))(prev_block)\n",
        "  lin_layer = Dense(2048)(lstm)\n",
        "  lin_layer = gokaf_padcat()([lin_layer, enc_outputs[-1]])\n",
        "\n",
        "  ### --- BUILD DECODER --- ###\n",
        "  first_dec, num_filters = decoder_block(prev_out=lin_layer,\n",
        "                                         num_filters=2048)\n",
        "  \n",
        "  # this process of concatenation is how we implement u-net skip connections\n",
        "  first_dec = gokaf_padcat()([first_dec,enc_outputs[-2]])\n",
        "  prev_block = first_dec\n",
        "\n",
        "  for i in range(4,0,-1):\n",
        "    this_block, num_filters = decoder_block(prev_out=prev_block,\n",
        "                                            num_filters=num_filters)\n",
        "    this_block = gokaf_padcat()([this_block,enc_outputs[i-1]])\n",
        "    prev_block = this_block\n",
        "\n",
        "  last_block, num_filters = decoder_block(prev_out=prev_block,\n",
        "                                         num_filters=num_filters,\n",
        "                                         is_last=True)\n",
        "\n",
        "  # a linear transformation that, hopefully, gives us our stems!\n",
        "  last_layer = Dense(8)(last_block)\n",
        "\n",
        "  # this is a clumsy way of fixing padding issues\n",
        "  last_layer = ZeroPadding1D(padding=(0,4))(last_layer)\n",
        "  return tf.keras.Model(inputs=input_layer, outputs=last_layer)"
      ]
    },
    {
      "cell_type": "markdown",
      "metadata": {
        "id": "JKN49JydLDGa"
      },
      "source": [
        "# Data Pre-processing"
      ]
    },
    {
      "cell_type": "markdown",
      "metadata": {
        "id": "PpDinOniKioi"
      },
      "source": [
        "## Imports"
      ]
    },
    {
      "cell_type": "code",
      "execution_count": null,
      "metadata": {
        "colab": {
          "base_uri": "https://localhost:8080/"
        },
        "id": "bxsQYTuhLDGb",
        "outputId": "27b063b5-136f-474c-85c9-ac497d4c8069"
      },
      "outputs": [
        {
          "name": "stdout",
          "output_type": "stream",
          "text": [
            "Looking in indexes: https://pypi.org/simple, https://us-python.pkg.dev/colab-wheels/public/simple/\n",
            "Requirement already satisfied: musdb in /usr/local/lib/python3.10/dist-packages (0.4.0)\n",
            "Requirement already satisfied: numpy>=1.7 in /usr/local/lib/python3.10/dist-packages (from musdb) (1.22.4)\n",
            "Requirement already satisfied: stempeg>=0.2.3 in /usr/local/lib/python3.10/dist-packages (from musdb) (0.2.3)\n",
            "Requirement already satisfied: pyaml in /usr/local/lib/python3.10/dist-packages (from musdb) (23.5.9)\n",
            "Requirement already satisfied: tqdm in /usr/local/lib/python3.10/dist-packages (from musdb) (4.65.0)\n",
            "Requirement already satisfied: ffmpeg-python>=0.2.0 in /usr/local/lib/python3.10/dist-packages (from stempeg>=0.2.3->musdb) (0.2.0)\n",
            "Requirement already satisfied: PyYAML in /usr/local/lib/python3.10/dist-packages (from pyaml->musdb) (6.0)\n",
            "Requirement already satisfied: future in /usr/local/lib/python3.10/dist-packages (from ffmpeg-python>=0.2.0->stempeg>=0.2.3->musdb) (0.18.3)\n"
          ]
        }
      ],
      "source": [
        "# import the os module...install and import musdb\n",
        "import os\n",
        "!pip install musdb\n",
        "import musdb\n",
        "from google.colab import files"
      ]
    },
    {
      "cell_type": "code",
      "execution_count": null,
      "metadata": {
        "colab": {
          "base_uri": "https://localhost:8080/"
        },
        "id": "C1Oq5xOhLVJT",
        "outputId": "8faa1890-f5cf-4d8c-ea1e-0530bced9213"
      },
      "outputs": [
        {
          "name": "stdout",
          "output_type": "stream",
          "text": [
            "Drive already mounted at /content/drive; to attempt to forcibly remount, call drive.mount(\"/content/drive\", force_remount=True).\n"
          ]
        }
      ],
      "source": [
        "# apologies...I don't have time to make this more generalisable. \n",
        "# what I'm doing here, however, should be pretty easy to adapt to a local kernel\n",
        "# if you replace the next part where I set paths with pathways to your local\n",
        "# drives, it should work just fine\n",
        "from google.colab import drive\n",
        "drive.mount('/content/drive')"
      ]
    },
    {
      "cell_type": "markdown",
      "metadata": {
        "id": "zDt-C33JKy5a"
      },
      "source": [
        "## Paths"
      ]
    },
    {
      "cell_type": "code",
      "execution_count": null,
      "metadata": {
        "id": "Ccb_UluFLDGc"
      },
      "outputs": [],
      "source": [
        "# assign variables and PATH environmental variable for training data directories\n",
        "data_dir = \"/content/drive/MyDrive/training_data\"\n",
        "os.environ[\"MUSDB_PATH\"] = data_dir\n",
        "train_dir = os.path.join(data_dir,\"train\")\n",
        "test_dir = os.path.join(data_dir,\"test\")\n",
        "data_root = musdb.DB(root=data_dir)"
      ]
    },
    {
      "cell_type": "code",
      "execution_count": null,
      "metadata": {
        "id": "1K_VKaJALDGc"
      },
      "outputs": [],
      "source": [
        "# set paths for training and testing datasets\n",
        "train_data = musdb.DB(subsets=\"train\")\n",
        "test_data = musdb.DB(subsets=\"test\")"
      ]
    },
    {
      "cell_type": "markdown",
      "metadata": {
        "id": "8rYKAMir62eQ"
      },
      "source": [
        "## Set Creation"
      ]
    },
    {
      "cell_type": "markdown",
      "metadata": {
        "id": "-CyVWOspJeGc"
      },
      "source": [
        "The below code:\n",
        "\n",
        "- Defines a function that extracts main mixes and stems from each item in the data set\n",
        "- Puts these mixes and stems into training and test sets\n",
        "\n",
        "I'm using google colab, so I parallelise the process to take full of my their VMs...this process takes ages otherwise. But you can this original code if you don't want to use parallel processing:\n",
        "\n",
        "\n",
        "\n",
        "```\n",
        "# empty python lists to hold data while appending\n",
        "train_mixes = []\n",
        "train_drums = []\n",
        "train_bass = []\n",
        "train_other = []\n",
        "train_vocals = []\n",
        "\n",
        "\n",
        "# use our function to make lists of song components\n",
        "for track in data_root:\n",
        "    # grab a chunk from a random point in the song of a given length.\n",
        "    # (cont.) we do 10 seconds, like the folks in the paper did\n",
        "    track.chunk_duration = 10.0\n",
        "    track.chunk_start = random.uniform(0, track.duration - track.chunk_duration)\n",
        "    \n",
        "    mix, drums, bass, other, vocals = set_creator(track)\n",
        "    train_mixes.append(mix)\n",
        "    train_drums.append(drums)\n",
        "    train_bass.append(bass)\n",
        "    train_other.append(other)\n",
        "    train_vocals.append(vocals)\n",
        "    \n",
        "# convert those lists to numpy arrays\n",
        "train_mixes = np.array(train_mixes)\n",
        "train_drums = np.array(train_drums)\n",
        "train_bass = np.array(train_bass)\n",
        "train_other = np.array(train_other)\n",
        "train_vocals = np.array(train_vocals)```\n",
        "\n"
      ]
    },
    {
      "cell_type": "code",
      "execution_count": null,
      "metadata": {
        "colab": {
          "base_uri": "https://localhost:8080/"
        },
        "id": "GdES5b_ELDGf",
        "outputId": "251ab687-2aca-4db1-e8a6-080c0952e6f0"
      },
      "outputs": [
        {
          "name": "stderr",
          "output_type": "stream",
          "text": [
            "[Parallel(n_jobs=-1)]: Using backend LokyBackend with 12 concurrent workers.\n",
            "[Parallel(n_jobs=-1)]: Done   1 tasks      | elapsed:    2.5s\n",
            "[Parallel(n_jobs=-1)]: Done   8 tasks      | elapsed:    4.2s\n",
            "[Parallel(n_jobs=-1)]: Done  17 tasks      | elapsed:    6.0s\n",
            "[Parallel(n_jobs=-1)]: Done  26 tasks      | elapsed:    8.4s\n",
            "[Parallel(n_jobs=-1)]: Done  37 tasks      | elapsed:   11.0s\n",
            "[Parallel(n_jobs=-1)]: Done  48 tasks      | elapsed:   14.2s\n",
            "[Parallel(n_jobs=-1)]: Done  61 tasks      | elapsed:   16.4s\n",
            "[Parallel(n_jobs=-1)]: Done  74 tasks      | elapsed:   20.5s\n",
            "[Parallel(n_jobs=-1)]: Done  89 tasks      | elapsed:   23.9s\n",
            "[Parallel(n_jobs=-1)]: Done 104 tasks      | elapsed:   27.7s\n",
            "[Parallel(n_jobs=-1)]: Done 121 tasks      | elapsed:   32.6s\n",
            "[Parallel(n_jobs=-1)]: Done 143 out of 150 | elapsed:   36.6s remaining:    1.8s\n",
            "[Parallel(n_jobs=-1)]: Done 150 out of 150 | elapsed:   38.5s finished\n"
          ]
        }
      ],
      "source": [
        "from joblib import Parallel, delayed\n",
        "\n",
        "# empty python lists to hold data while appending\n",
        "train_mixes = []\n",
        "train_drums = []\n",
        "train_bass = []\n",
        "train_other = []\n",
        "train_vocals = []\n",
        "\n",
        "# define a function that extracts sources and mixtures. pretty straightforward\n",
        "def set_creator(given_track):\n",
        "    mixture = given_track.audio.astype(np.float32)\n",
        "    drums = given_track.targets[\"drums\"].audio.astype(np.float32)\n",
        "    bass = given_track.targets[\"bass\"].audio.astype(np.float32)\n",
        "    other = given_track.targets[\"other\"].audio.astype(np.float32)\n",
        "    vocals = given_track.targets[\"vocals\"].audio.astype(np.float32)\n",
        "    return mixture, drums, bass, other, vocals\n",
        "\n",
        "# use our function to make lists of song components\n",
        "def process_track(track):\n",
        "  # grab a chunk from a random point in the song of a given length.\n",
        "  # (cont.) we do 10 seconds, like the folks in the paper did\n",
        "  track.chunk_duration = 10.0\n",
        "  track.chunk_start = random.uniform(0, track.duration - track.chunk_duration)\n",
        "  \n",
        "  mix, drums, bass, other, vocals = set_creator(track)\n",
        "  \n",
        "  # Specify your expected shape here:\n",
        "  expected_shape = (441000, 2)\n",
        "\n",
        "  # Check if all arrays have the expected shape\n",
        "  if (np.shape(mix) == expected_shape and\n",
        "      np.shape(drums) == expected_shape and\n",
        "      np.shape(bass) == expected_shape and\n",
        "      np.shape(other) == expected_shape and\n",
        "      np.shape(vocals) == expected_shape):\n",
        "      return mix, drums, bass, other, vocals\n",
        "  else:\n",
        "      return None\n",
        "\n",
        "# parallel process with our above function, then prune any invalid data points\n",
        "results = Parallel(n_jobs=-1, verbose=10)(delayed(process_track)(track) for track in data_root)\n",
        "results = [result for result in results if result is not None]\n",
        "\n",
        "# get the lists\n",
        "train_mixes, train_drums, train_bass, train_other, train_vocals = zip(*results)\n",
        "\n",
        "# convert those lists to numpy arrays\n",
        "train_mixes = np.array(train_mixes)\n",
        "train_drums = np.array(train_drums)\n",
        "train_bass = np.array(train_bass)\n",
        "train_other = np.array(train_other)\n",
        "train_vocals = np.array(train_vocals)"
      ]
    },
    {
      "cell_type": "code",
      "execution_count": null,
      "metadata": {
        "id": "SWzk8OUCPhQC"
      },
      "outputs": [],
      "source": [
        "# designate our inputs, and stack the labels (actual stems) in a way which \n",
        "# (cont.) our models can process\n",
        "\n",
        "x_train = train_mixes\n",
        "y_train = np.stack([train_drums, train_bass, train_other, train_vocals], axis=-1).reshape(train_mixes.shape[0],train_mixes.shape[1],8)"
      ]
    },
    {
      "cell_type": "markdown",
      "metadata": {
        "id": "q5HlLH24LDGf"
      },
      "source": [
        "# Training"
      ]
    },
    {
      "cell_type": "markdown",
      "metadata": {
        "id": "A96saQOo6qvR"
      },
      "source": [
        "## Model Build, Summary (Outline)"
      ]
    },
    {
      "cell_type": "code",
      "execution_count": null,
      "metadata": {
        "colab": {
          "base_uri": "https://localhost:8080/"
        },
        "id": "DOjJUMDBtNTS",
        "outputId": "e9b26541-a3e4-424f-8be4-c94849eec844"
      },
      "outputs": [
        {
          "name": "stdout",
          "output_type": "stream",
          "text": [
            "Model: \"model\"\n",
            "__________________________________________________________________________________________________\n",
            " Layer (type)                   Output Shape         Param #     Connected to                     \n",
            "==================================================================================================\n",
            " input_1 (InputLayer)           [(None, None, 2)]    0           []                               \n",
            "                                                                                                  \n",
            " conv1d (Conv1D)                (None, None, 64)     1088        ['input_1[0][0]']                \n",
            "                                                                                                  \n",
            " conv1d_1 (Conv1D)              (None, None, 128)    8320        ['conv1d[0][0]']                 \n",
            "                                                                                                  \n",
            " gokaf_glu (gokaf_glu)          (None, None, 64)     0           ['conv1d_1[0][0]']               \n",
            "                                                                                                  \n",
            " conv1d_2 (Conv1D)              (None, None, 128)    65664       ['gokaf_glu[0][0]']              \n",
            "                                                                                                  \n",
            " conv1d_3 (Conv1D)              (None, None, 256)    33024       ['conv1d_2[0][0]']               \n",
            "                                                                                                  \n",
            " gokaf_glu_1 (gokaf_glu)        (None, None, 128)    0           ['conv1d_3[0][0]']               \n",
            "                                                                                                  \n",
            " conv1d_4 (Conv1D)              (None, None, 256)    262400      ['gokaf_glu_1[0][0]']            \n",
            "                                                                                                  \n",
            " conv1d_5 (Conv1D)              (None, None, 512)    131584      ['conv1d_4[0][0]']               \n",
            "                                                                                                  \n",
            " gokaf_glu_2 (gokaf_glu)        (None, None, 256)    0           ['conv1d_5[0][0]']               \n",
            "                                                                                                  \n",
            " conv1d_6 (Conv1D)              (None, None, 512)    1049088     ['gokaf_glu_2[0][0]']            \n",
            "                                                                                                  \n",
            " conv1d_7 (Conv1D)              (None, None, 1024)   525312      ['conv1d_6[0][0]']               \n",
            "                                                                                                  \n",
            " gokaf_glu_3 (gokaf_glu)        (None, None, 512)    0           ['conv1d_7[0][0]']               \n",
            "                                                                                                  \n",
            " conv1d_8 (Conv1D)              (None, None, 1024)   4195328     ['gokaf_glu_3[0][0]']            \n",
            "                                                                                                  \n",
            " conv1d_9 (Conv1D)              (None, None, 2048)   2099200     ['conv1d_8[0][0]']               \n",
            "                                                                                                  \n",
            " gokaf_glu_4 (gokaf_glu)        (None, None, 1024)   0           ['conv1d_9[0][0]']               \n",
            "                                                                                                  \n",
            " conv1d_10 (Conv1D)             (None, None, 2048)   16779264    ['gokaf_glu_4[0][0]']            \n",
            "                                                                                                  \n",
            " conv1d_11 (Conv1D)             (None, None, 4096)   8392704     ['conv1d_10[0][0]']              \n",
            "                                                                                                  \n",
            " gokaf_glu_5 (gokaf_glu)        (None, None, 2048)   0           ['conv1d_11[0][0]']              \n",
            "                                                                                                  \n",
            " bidirectional (Bidirectional)  (None, None, 4096)   67125248    ['gokaf_glu_5[0][0]']            \n",
            "                                                                                                  \n",
            " dense (Dense)                  (None, None, 2048)   8390656     ['bidirectional[0][0]']          \n",
            "                                                                                                  \n",
            " gokaf_padcat (gokaf_padcat)    (None, None, 4096)   0           ['dense[0][0]',                  \n",
            "                                                                  'gokaf_glu_5[0][0]']            \n",
            "                                                                                                  \n",
            " conv1d_12 (Conv1D)             (None, None, 4096)   50335744    ['gokaf_padcat[0][0]']           \n",
            "                                                                                                  \n",
            " gokaf_glu_6 (gokaf_glu)        (None, None, 2048)   0           ['conv1d_12[0][0]']              \n",
            "                                                                                                  \n",
            " conv1d_transpose (Conv1DTransp  (None, None, 1024)  16778240    ['gokaf_glu_6[0][0]']            \n",
            " ose)                                                                                             \n",
            "                                                                                                  \n",
            " gokaf_padcat_1 (gokaf_padcat)  (None, None, 2048)   0           ['conv1d_transpose[0][0]',       \n",
            "                                                                  'gokaf_glu_4[0][0]']            \n",
            "                                                                                                  \n",
            " conv1d_13 (Conv1D)             (None, None, 2048)   12584960    ['gokaf_padcat_1[0][0]']         \n",
            "                                                                                                  \n",
            " gokaf_glu_7 (gokaf_glu)        (None, None, 1024)   0           ['conv1d_13[0][0]']              \n",
            "                                                                                                  \n",
            " conv1d_transpose_1 (Conv1DTran  (None, None, 512)   4194816     ['gokaf_glu_7[0][0]']            \n",
            " spose)                                                                                           \n",
            "                                                                                                  \n",
            " gokaf_padcat_2 (gokaf_padcat)  (None, None, 1024)   0           ['conv1d_transpose_1[0][0]',     \n",
            "                                                                  'gokaf_glu_3[0][0]']            \n",
            "                                                                                                  \n",
            " conv1d_14 (Conv1D)             (None, None, 1024)   3146752     ['gokaf_padcat_2[0][0]']         \n",
            "                                                                                                  \n",
            " gokaf_glu_8 (gokaf_glu)        (None, None, 512)    0           ['conv1d_14[0][0]']              \n",
            "                                                                                                  \n",
            " conv1d_transpose_2 (Conv1DTran  (None, None, 256)   1048832     ['gokaf_glu_8[0][0]']            \n",
            " spose)                                                                                           \n",
            "                                                                                                  \n",
            " gokaf_padcat_3 (gokaf_padcat)  (None, None, 512)    0           ['conv1d_transpose_2[0][0]',     \n",
            "                                                                  'gokaf_glu_2[0][0]']            \n",
            "                                                                                                  \n",
            " conv1d_15 (Conv1D)             (None, None, 512)    786944      ['gokaf_padcat_3[0][0]']         \n",
            "                                                                                                  \n",
            " gokaf_glu_9 (gokaf_glu)        (None, None, 256)    0           ['conv1d_15[0][0]']              \n",
            "                                                                                                  \n",
            " conv1d_transpose_3 (Conv1DTran  (None, None, 128)   262272      ['gokaf_glu_9[0][0]']            \n",
            " spose)                                                                                           \n",
            "                                                                                                  \n",
            " gokaf_padcat_4 (gokaf_padcat)  (None, None, 256)    0           ['conv1d_transpose_3[0][0]',     \n",
            "                                                                  'gokaf_glu_1[0][0]']            \n",
            "                                                                                                  \n",
            " conv1d_16 (Conv1D)             (None, None, 256)    196864      ['gokaf_padcat_4[0][0]']         \n",
            "                                                                                                  \n",
            " gokaf_glu_10 (gokaf_glu)       (None, None, 128)    0           ['conv1d_16[0][0]']              \n",
            "                                                                                                  \n",
            " conv1d_transpose_4 (Conv1DTran  (None, None, 64)    65600       ['gokaf_glu_10[0][0]']           \n",
            " spose)                                                                                           \n",
            "                                                                                                  \n",
            " gokaf_padcat_5 (gokaf_padcat)  (None, None, 128)    0           ['conv1d_transpose_4[0][0]',     \n",
            "                                                                  'gokaf_glu[0][0]']              \n",
            "                                                                                                  \n",
            " conv1d_17 (Conv1D)             (None, None, 128)    49280       ['gokaf_padcat_5[0][0]']         \n",
            "                                                                                                  \n",
            " gokaf_glu_11 (gokaf_glu)       (None, None, 64)     0           ['conv1d_17[0][0]']              \n",
            "                                                                                                  \n",
            " conv1d_transpose_5 (Conv1DTran  (None, None, 8)     4104        ['gokaf_glu_11[0][0]']           \n",
            " spose)                                                                                           \n",
            "                                                                                                  \n",
            " dense_1 (Dense)                (None, None, 8)      72          ['conv1d_transpose_5[0][0]']     \n",
            "                                                                                                  \n",
            " zero_padding1d (ZeroPadding1D)  (None, None, 8)     0           ['dense_1[0][0]']                \n",
            "                                                                                                  \n",
            "==================================================================================================\n",
            "Total params: 198,513,360\n",
            "Trainable params: 198,513,360\n",
            "Non-trainable params: 0\n",
            "__________________________________________________________________________________________________\n"
          ]
        }
      ],
      "source": [
        "test_model=build_model()\n",
        "test_model.summary()"
      ]
    },
    {
      "cell_type": "markdown",
      "metadata": {
        "id": "RxTwUTJsK4Ba"
      },
      "source": [
        "# Model Training"
      ]
    },
    {
      "cell_type": "markdown",
      "metadata": {
        "id": "08i6wVM5L_r9"
      },
      "source": [
        "## Compilation, Early Stopping"
      ]
    },
    {
      "cell_type": "code",
      "execution_count": null,
      "metadata": {
        "id": "W6BfpfddLDGg"
      },
      "outputs": [],
      "source": [
        "# compile the model to prepare for training. We use the loss functions and\n",
        "# (cont.) learning rate outlined in the paper\n",
        "test_model.compile(optimizer=keras.optimizers.Adam(learning_rate=3e-4),\n",
        "                  loss='mean_absolute_error')\n",
        "\n",
        "# outline an early stopping function for training...we go for a small delta and\n",
        "# (cont.) aim at mean absolute error because we are dealing with audio floating\n",
        "# (cont.) points...the differences are very, very minute\n",
        "e_stop = tf.keras.callbacks.EarlyStopping(\n",
        "    monitor=\"loss\",\n",
        "    min_delta=0.0001,\n",
        "    patience=100,\n",
        "    verbose=1,\n",
        "    mode=\"auto\",\n",
        "    restore_best_weights=True,\n",
        "    start_from_epoch=0,\n",
        ")"
      ]
    },
    {
      "cell_type": "markdown",
      "metadata": {
        "id": "H7UDZkK5MCrf"
      },
      "source": [
        "## Training / Fitting, Save"
      ]
    },
    {
      "cell_type": "code",
      "execution_count": null,
      "metadata": {
        "colab": {
          "base_uri": "https://localhost:8080/"
        },
        "id": "86CIPJjCL0pK",
        "outputId": "e51e1038-29de-4ada-dce1-238de3013421"
      },
      "outputs": [
        {
          "name": "stdout",
          "output_type": "stream",
          "text": [
            "Epoch 1/360\n",
            "5/5 [==============================] - 61s 4s/step - loss: 0.0384\n",
            "Epoch 2/360\n",
            "5/5 [==============================] - 3s 514ms/step - loss: 0.0383\n",
            "Epoch 3/360\n",
            "5/5 [==============================] - 3s 631ms/step - loss: 0.0383\n",
            "Epoch 4/360\n",
            "5/5 [==============================] - 3s 515ms/step - loss: 0.0382\n",
            "Epoch 5/360\n",
            "5/5 [==============================] - 3s 632ms/step - loss: 0.0382\n",
            "Epoch 6/360\n",
            "5/5 [==============================] - 3s 516ms/step - loss: 0.0381\n",
            "Epoch 7/360\n",
            "5/5 [==============================] - 3s 632ms/step - loss: 0.0381\n",
            "Epoch 8/360\n",
            "5/5 [==============================] - 3s 520ms/step - loss: 0.0380\n",
            "Epoch 9/360\n",
            "5/5 [==============================] - 3s 518ms/step - loss: 0.0380\n",
            "Epoch 10/360\n",
            "5/5 [==============================] - 3s 631ms/step - loss: 0.0379\n",
            "Epoch 11/360\n",
            "5/5 [==============================] - 3s 519ms/step - loss: 0.0379\n",
            "Epoch 12/360\n",
            "5/5 [==============================] - 3s 630ms/step - loss: 0.0378\n",
            "Epoch 13/360\n",
            "5/5 [==============================] - 3s 524ms/step - loss: 0.0377\n",
            "Epoch 14/360\n",
            "5/5 [==============================] - 3s 633ms/step - loss: 0.0376\n",
            "Epoch 15/360\n",
            "5/5 [==============================] - 3s 527ms/step - loss: 0.0376\n",
            "Epoch 16/360\n",
            "5/5 [==============================] - 3s 627ms/step - loss: 0.0375\n",
            "Epoch 17/360\n",
            "5/5 [==============================] - 3s 642ms/step - loss: 0.0374\n",
            "Epoch 18/360\n",
            "5/5 [==============================] - 3s 634ms/step - loss: 0.0373\n",
            "Epoch 19/360\n",
            "5/5 [==============================] - 3s 630ms/step - loss: 0.0372\n",
            "Epoch 20/360\n",
            "5/5 [==============================] - 3s 520ms/step - loss: 0.0371\n",
            "Epoch 21/360\n",
            "5/5 [==============================] - 3s 634ms/step - loss: 0.0370\n",
            "Epoch 22/360\n",
            "5/5 [==============================] - 3s 524ms/step - loss: 0.0369\n",
            "Epoch 23/360\n",
            "5/5 [==============================] - 3s 636ms/step - loss: 0.0368\n",
            "Epoch 24/360\n",
            "5/5 [==============================] - 3s 515ms/step - loss: 0.0367\n",
            "Epoch 25/360\n",
            "5/5 [==============================] - 3s 629ms/step - loss: 0.0367\n",
            "Epoch 26/360\n",
            "5/5 [==============================] - 3s 516ms/step - loss: 0.0366\n",
            "Epoch 27/360\n",
            "5/5 [==============================] - 3s 632ms/step - loss: 0.0366\n",
            "Epoch 28/360\n",
            "5/5 [==============================] - 3s 520ms/step - loss: 0.0365\n",
            "Epoch 29/360\n",
            "5/5 [==============================] - 3s 628ms/step - loss: 0.0364\n",
            "Epoch 30/360\n",
            "5/5 [==============================] - 3s 520ms/step - loss: 0.0363\n",
            "Epoch 31/360\n",
            "5/5 [==============================] - 3s 636ms/step - loss: 0.0362\n",
            "Epoch 32/360\n",
            "5/5 [==============================] - 3s 520ms/step - loss: 0.0363\n",
            "Epoch 33/360\n",
            "5/5 [==============================] - 3s 515ms/step - loss: 0.0362\n",
            "Epoch 34/360\n",
            "5/5 [==============================] - 3s 626ms/step - loss: 0.0361\n",
            "Epoch 35/360\n",
            "5/5 [==============================] - 3s 643ms/step - loss: 0.0359\n",
            "Epoch 36/360\n",
            "5/5 [==============================] - 3s 515ms/step - loss: 0.0358\n",
            "Epoch 37/360\n",
            "5/5 [==============================] - 3s 641ms/step - loss: 0.0357\n",
            "Epoch 38/360\n",
            "5/5 [==============================] - 3s 519ms/step - loss: 0.0356\n",
            "Epoch 39/360\n",
            "5/5 [==============================] - 3s 638ms/step - loss: 0.0355\n",
            "Epoch 40/360\n",
            "5/5 [==============================] - 3s 517ms/step - loss: 0.0355\n",
            "Epoch 41/360\n",
            "5/5 [==============================] - 3s 640ms/step - loss: 0.0354\n",
            "Epoch 42/360\n",
            "5/5 [==============================] - 3s 515ms/step - loss: 0.0353\n",
            "Epoch 43/360\n",
            "5/5 [==============================] - 3s 639ms/step - loss: 0.0352\n",
            "Epoch 44/360\n",
            "5/5 [==============================] - 3s 515ms/step - loss: 0.0352\n",
            "Epoch 45/360\n",
            "5/5 [==============================] - 3s 628ms/step - loss: 0.0351\n",
            "Epoch 46/360\n",
            "5/5 [==============================] - 3s 522ms/step - loss: 0.0350\n",
            "Epoch 47/360\n",
            "5/5 [==============================] - 3s 635ms/step - loss: 0.0350\n",
            "Epoch 48/360\n",
            "5/5 [==============================] - 3s 515ms/step - loss: 0.0349\n",
            "Epoch 49/360\n",
            "5/5 [==============================] - 3s 632ms/step - loss: 0.0348\n",
            "Epoch 50/360\n",
            "5/5 [==============================] - 3s 516ms/step - loss: 0.0348\n",
            "Epoch 51/360\n",
            "5/5 [==============================] - 3s 630ms/step - loss: 0.0347\n",
            "Epoch 52/360\n",
            "5/5 [==============================] - 3s 520ms/step - loss: 0.0347\n",
            "Epoch 53/360\n",
            "5/5 [==============================] - 3s 631ms/step - loss: 0.0346\n",
            "Epoch 54/360\n",
            "5/5 [==============================] - 3s 634ms/step - loss: 0.0345\n",
            "Epoch 55/360\n",
            "5/5 [==============================] - 3s 520ms/step - loss: 0.0344\n",
            "Epoch 56/360\n",
            "5/5 [==============================] - 3s 628ms/step - loss: 0.0343\n",
            "Epoch 57/360\n",
            "5/5 [==============================] - 3s 515ms/step - loss: 0.0343\n",
            "Epoch 58/360\n",
            "5/5 [==============================] - 3s 520ms/step - loss: 0.0342\n",
            "Epoch 59/360\n",
            "5/5 [==============================] - 3s 635ms/step - loss: 0.0341\n",
            "Epoch 60/360\n",
            "5/5 [==============================] - 3s 523ms/step - loss: 0.0341\n",
            "Epoch 61/360\n",
            "5/5 [==============================] - 3s 629ms/step - loss: 0.0340\n",
            "Epoch 62/360\n",
            "5/5 [==============================] - 3s 524ms/step - loss: 0.0340\n",
            "Epoch 63/360\n",
            "5/5 [==============================] - 3s 515ms/step - loss: 0.0339\n",
            "Epoch 64/360\n",
            "5/5 [==============================] - 3s 629ms/step - loss: 0.0339\n",
            "Epoch 65/360\n",
            "5/5 [==============================] - 3s 520ms/step - loss: 0.0339\n",
            "Epoch 66/360\n",
            "5/5 [==============================] - 3s 515ms/step - loss: 0.0338\n",
            "Epoch 67/360\n",
            "5/5 [==============================] - 3s 631ms/step - loss: 0.0337\n",
            "Epoch 68/360\n",
            "5/5 [==============================] - 3s 516ms/step - loss: 0.0337\n",
            "Epoch 69/360\n",
            "5/5 [==============================] - 3s 521ms/step - loss: 0.0337\n",
            "Epoch 70/360\n",
            "5/5 [==============================] - 3s 516ms/step - loss: 0.0336\n",
            "Epoch 71/360\n",
            "5/5 [==============================] - 3s 637ms/step - loss: 0.0336\n",
            "Epoch 72/360\n",
            "5/5 [==============================] - 3s 524ms/step - loss: 0.0336\n",
            "Epoch 73/360\n",
            "5/5 [==============================] - 3s 515ms/step - loss: 0.0335\n",
            "Epoch 74/360\n",
            "5/5 [==============================] - 3s 519ms/step - loss: 0.0335\n",
            "Epoch 75/360\n",
            "5/5 [==============================] - 3s 638ms/step - loss: 0.0335\n",
            "Epoch 76/360\n",
            "5/5 [==============================] - 3s 515ms/step - loss: 0.0334\n",
            "Epoch 77/360\n",
            "5/5 [==============================] - 3s 515ms/step - loss: 0.0334\n",
            "Epoch 78/360\n",
            "5/5 [==============================] - 3s 633ms/step - loss: 0.0334\n",
            "Epoch 79/360\n",
            "5/5 [==============================] - 3s 515ms/step - loss: 0.0333\n",
            "Epoch 80/360\n",
            "5/5 [==============================] - 3s 520ms/step - loss: 0.0333\n",
            "Epoch 81/360\n",
            "5/5 [==============================] - 3s 521ms/step - loss: 0.0333\n",
            "Epoch 82/360\n",
            "5/5 [==============================] - 3s 517ms/step - loss: 0.0333\n",
            "Epoch 83/360\n",
            "5/5 [==============================] - 3s 631ms/step - loss: 0.0333\n",
            "Epoch 84/360\n",
            "5/5 [==============================] - 3s 516ms/step - loss: 0.0332\n",
            "Epoch 85/360\n",
            "5/5 [==============================] - 3s 517ms/step - loss: 0.0333\n",
            "Epoch 86/360\n",
            "5/5 [==============================] - 3s 516ms/step - loss: 0.0332\n",
            "Epoch 87/360\n",
            "5/5 [==============================] - 3s 515ms/step - loss: 0.0332\n",
            "Epoch 88/360\n",
            "5/5 [==============================] - 3s 630ms/step - loss: 0.0331\n",
            "Epoch 89/360\n",
            "5/5 [==============================] - 3s 519ms/step - loss: 0.0331\n",
            "Epoch 90/360\n",
            "5/5 [==============================] - 3s 520ms/step - loss: 0.0330\n",
            "Epoch 91/360\n",
            "5/5 [==============================] - 3s 520ms/step - loss: 0.0331\n",
            "Epoch 92/360\n",
            "5/5 [==============================] - 3s 519ms/step - loss: 0.0331\n",
            "Epoch 93/360\n",
            "5/5 [==============================] - 3s 515ms/step - loss: 0.0330\n",
            "Epoch 94/360\n",
            "5/5 [==============================] - 3s 634ms/step - loss: 0.0329\n",
            "Epoch 95/360\n",
            "5/5 [==============================] - 3s 514ms/step - loss: 0.0329\n",
            "Epoch 96/360\n",
            "5/5 [==============================] - 3s 519ms/step - loss: 0.0329\n",
            "Epoch 97/360\n",
            "5/5 [==============================] - 3s 522ms/step - loss: 0.0331\n",
            "Epoch 98/360\n",
            "5/5 [==============================] - 3s 516ms/step - loss: 0.0330\n",
            "Epoch 99/360\n",
            "5/5 [==============================] - 3s 517ms/step - loss: 0.0330\n",
            "Epoch 100/360\n",
            "5/5 [==============================] - 3s 518ms/step - loss: 0.0329\n",
            "Epoch 101/360\n",
            "5/5 [==============================] - 3s 515ms/step - loss: 0.0329\n",
            "Epoch 102/360\n",
            "5/5 [==============================] - 3s 629ms/step - loss: 0.0328\n",
            "Epoch 103/360\n",
            "5/5 [==============================] - 3s 521ms/step - loss: 0.0328\n",
            "Epoch 104/360\n",
            "5/5 [==============================] - 3s 519ms/step - loss: 0.0328\n",
            "Epoch 105/360\n",
            "5/5 [==============================] - 3s 517ms/step - loss: 0.0328\n",
            "Epoch 106/360\n",
            "5/5 [==============================] - 3s 515ms/step - loss: 0.0328\n",
            "Epoch 107/360\n",
            "5/5 [==============================] - 3s 527ms/step - loss: 0.0328\n",
            "Epoch 108/360\n",
            "5/5 [==============================] - 3s 516ms/step - loss: 0.0327\n",
            "Epoch 109/360\n",
            "5/5 [==============================] - 3s 630ms/step - loss: 0.0325\n",
            "Epoch 110/360\n",
            "5/5 [==============================] - 3s 517ms/step - loss: 0.0325\n",
            "Epoch 111/360\n",
            "5/5 [==============================] - 3s 527ms/step - loss: 0.0325\n",
            "Epoch 112/360\n",
            "5/5 [==============================] - 3s 515ms/step - loss: 0.0324\n",
            "Epoch 113/360\n",
            "5/5 [==============================] - 3s 520ms/step - loss: 0.0325\n",
            "Epoch 114/360\n",
            "5/5 [==============================] - 3s 635ms/step - loss: 0.0324\n",
            "Epoch 115/360\n",
            "5/5 [==============================] - 3s 524ms/step - loss: 0.0323\n",
            "Epoch 116/360\n",
            "5/5 [==============================] - 3s 520ms/step - loss: 0.0324\n",
            "Epoch 117/360\n",
            "5/5 [==============================] - 3s 516ms/step - loss: 0.0323\n",
            "Epoch 118/360\n",
            "5/5 [==============================] - 3s 515ms/step - loss: 0.0324\n",
            "Epoch 119/360\n",
            "5/5 [==============================] - 3s 524ms/step - loss: 0.0323\n",
            "Epoch 120/360\n",
            "5/5 [==============================] - 3s 634ms/step - loss: 0.0323\n",
            "Epoch 121/360\n",
            "5/5 [==============================] - 3s 520ms/step - loss: 0.0323\n",
            "Epoch 122/360\n",
            "5/5 [==============================] - 3s 520ms/step - loss: 0.0327\n",
            "Epoch 123/360\n",
            "5/5 [==============================] - 3s 515ms/step - loss: 0.0324\n",
            "Epoch 124/360\n",
            "5/5 [==============================] - 3s 521ms/step - loss: 0.0324\n",
            "Epoch 125/360\n",
            "5/5 [==============================] - 3s 517ms/step - loss: 0.0324\n",
            "Epoch 126/360\n",
            "5/5 [==============================] - 3s 515ms/step - loss: 0.0323\n",
            "Epoch 127/360\n",
            "5/5 [==============================] - 3s 515ms/step - loss: 0.0322\n",
            "Epoch 128/360\n",
            "5/5 [==============================] - 3s 633ms/step - loss: 0.0322\n",
            "Epoch 129/360\n",
            "5/5 [==============================] - 3s 516ms/step - loss: 0.0321\n",
            "Epoch 130/360\n",
            "5/5 [==============================] - 3s 634ms/step - loss: 0.0321\n",
            "Epoch 131/360\n",
            "5/5 [==============================] - 3s 519ms/step - loss: 0.0321\n",
            "Epoch 132/360\n",
            "5/5 [==============================] - 3s 515ms/step - loss: 0.0321\n",
            "Epoch 133/360\n",
            "5/5 [==============================] - 3s 515ms/step - loss: 0.0322\n",
            "Epoch 134/360\n",
            "5/5 [==============================] - 3s 516ms/step - loss: 0.0321\n",
            "Epoch 135/360\n",
            "5/5 [==============================] - 3s 515ms/step - loss: 0.0320\n",
            "Epoch 136/360\n",
            "5/5 [==============================] - 3s 516ms/step - loss: 0.0320\n",
            "Epoch 137/360\n",
            "5/5 [==============================] - 3s 516ms/step - loss: 0.0320\n",
            "Epoch 138/360\n",
            "5/5 [==============================] - 3s 631ms/step - loss: 0.0319\n",
            "Epoch 139/360\n",
            "5/5 [==============================] - 3s 524ms/step - loss: 0.0318\n",
            "Epoch 140/360\n",
            "5/5 [==============================] - 3s 516ms/step - loss: 0.0318\n",
            "Epoch 141/360\n",
            "5/5 [==============================] - 3s 517ms/step - loss: 0.0318\n",
            "Epoch 142/360\n",
            "5/5 [==============================] - 3s 516ms/step - loss: 0.0318\n",
            "Epoch 143/360\n",
            "5/5 [==============================] - 3s 631ms/step - loss: 0.0318\n",
            "Epoch 144/360\n",
            "5/5 [==============================] - 3s 528ms/step - loss: 0.0317\n",
            "Epoch 145/360\n",
            "5/5 [==============================] - 3s 636ms/step - loss: 0.0316\n",
            "Epoch 146/360\n",
            "5/5 [==============================] - 3s 518ms/step - loss: 0.0317\n",
            "Epoch 147/360\n",
            "5/5 [==============================] - 3s 515ms/step - loss: 0.0316\n",
            "Epoch 148/360\n",
            "5/5 [==============================] - 3s 632ms/step - loss: 0.0315\n",
            "Epoch 149/360\n",
            "5/5 [==============================] - 3s 515ms/step - loss: 0.0314\n",
            "Epoch 150/360\n",
            "5/5 [==============================] - 3s 515ms/step - loss: 0.0314\n",
            "Epoch 151/360\n",
            "5/5 [==============================] - 3s 516ms/step - loss: 0.0314\n",
            "Epoch 152/360\n",
            "5/5 [==============================] - 3s 632ms/step - loss: 0.0313\n",
            "Epoch 153/360\n",
            "5/5 [==============================] - 3s 519ms/step - loss: 0.0313\n",
            "Epoch 154/360\n",
            "5/5 [==============================] - 3s 631ms/step - loss: 0.0312\n",
            "Epoch 155/360\n",
            "5/5 [==============================] - 3s 515ms/step - loss: 0.0311\n",
            "Epoch 156/360\n",
            "5/5 [==============================] - 3s 515ms/step - loss: 0.0311\n",
            "Epoch 157/360\n",
            "5/5 [==============================] - 3s 517ms/step - loss: 0.0311\n",
            "Epoch 158/360\n",
            "5/5 [==============================] - 3s 633ms/step - loss: 0.0310\n",
            "Epoch 159/360\n",
            "5/5 [==============================] - 3s 522ms/step - loss: 0.0310\n",
            "Epoch 160/360\n",
            "5/5 [==============================] - 3s 630ms/step - loss: 0.0308\n",
            "Epoch 161/360\n",
            "5/5 [==============================] - 3s 518ms/step - loss: 0.0310\n",
            "Epoch 162/360\n",
            "5/5 [==============================] - 3s 516ms/step - loss: 0.0308\n",
            "Epoch 163/360\n",
            "5/5 [==============================] - 3s 632ms/step - loss: 0.0307\n",
            "Epoch 164/360\n",
            "5/5 [==============================] - 3s 533ms/step - loss: 0.0307\n",
            "Epoch 165/360\n",
            "5/5 [==============================] - 3s 515ms/step - loss: 0.0308\n",
            "Epoch 166/360\n",
            "5/5 [==============================] - 3s 519ms/step - loss: 0.0308\n",
            "Epoch 167/360\n",
            "5/5 [==============================] - 3s 521ms/step - loss: 0.0307\n",
            "Epoch 168/360\n",
            "5/5 [==============================] - 3s 630ms/step - loss: 0.0306\n",
            "Epoch 169/360\n",
            "5/5 [==============================] - 3s 632ms/step - loss: 0.0304\n",
            "Epoch 170/360\n",
            "5/5 [==============================] - 3s 629ms/step - loss: 0.0303\n",
            "Epoch 171/360\n",
            "5/5 [==============================] - 3s 521ms/step - loss: 0.0303\n",
            "Epoch 172/360\n",
            "5/5 [==============================] - 3s 522ms/step - loss: 0.0302\n",
            "Epoch 173/360\n",
            "5/5 [==============================] - 3s 632ms/step - loss: 0.0301\n",
            "Epoch 174/360\n",
            "5/5 [==============================] - 3s 517ms/step - loss: 0.0301\n",
            "Epoch 175/360\n",
            "5/5 [==============================] - 3s 518ms/step - loss: 0.0300\n",
            "Epoch 176/360\n",
            "5/5 [==============================] - 3s 516ms/step - loss: 0.0302\n",
            "Epoch 177/360\n",
            "5/5 [==============================] - 3s 515ms/step - loss: 0.0302\n",
            "Epoch 178/360\n",
            "5/5 [==============================] - 3s 516ms/step - loss: 0.0303\n",
            "Epoch 179/360\n",
            "5/5 [==============================] - 3s 522ms/step - loss: 0.0301\n",
            "Epoch 180/360\n",
            "5/5 [==============================] - 3s 515ms/step - loss: 0.0300\n",
            "Epoch 181/360\n",
            "5/5 [==============================] - 3s 638ms/step - loss: 0.0299\n",
            "Epoch 182/360\n",
            "5/5 [==============================] - 3s 522ms/step - loss: 0.0299\n",
            "Epoch 183/360\n",
            "5/5 [==============================] - 3s 633ms/step - loss: 0.0298\n",
            "Epoch 184/360\n",
            "5/5 [==============================] - 3s 520ms/step - loss: 0.0298\n",
            "Epoch 185/360\n",
            "5/5 [==============================] - 3s 520ms/step - loss: 0.0297\n",
            "Epoch 186/360\n",
            "5/5 [==============================] - 3s 516ms/step - loss: 0.0297\n",
            "Epoch 187/360\n",
            "5/5 [==============================] - 3s 633ms/step - loss: 0.0297\n",
            "Epoch 188/360\n",
            "5/5 [==============================] - 3s 640ms/step - loss: 0.0295\n",
            "Epoch 189/360\n",
            "5/5 [==============================] - 3s 514ms/step - loss: 0.0294\n",
            "Epoch 190/360\n",
            "5/5 [==============================] - 3s 632ms/step - loss: 0.0294\n",
            "Epoch 191/360\n",
            "5/5 [==============================] - 3s 515ms/step - loss: 0.0294\n",
            "Epoch 192/360\n",
            "5/5 [==============================] - 3s 520ms/step - loss: 0.0293\n",
            "Epoch 193/360\n",
            "5/5 [==============================] - 3s 519ms/step - loss: 0.0294\n",
            "Epoch 194/360\n",
            "5/5 [==============================] - 3s 634ms/step - loss: 0.0292\n",
            "Epoch 195/360\n",
            "5/5 [==============================] - 3s 522ms/step - loss: 0.0292\n",
            "Epoch 196/360\n",
            "5/5 [==============================] - 3s 629ms/step - loss: 0.0291\n",
            "Epoch 197/360\n",
            "5/5 [==============================] - 3s 531ms/step - loss: 0.0291\n",
            "Epoch 198/360\n",
            "5/5 [==============================] - 3s 637ms/step - loss: 0.0290\n",
            "Epoch 199/360\n",
            "5/5 [==============================] - 3s 515ms/step - loss: 0.0290\n",
            "Epoch 200/360\n",
            "5/5 [==============================] - 3s 520ms/step - loss: 0.0290\n",
            "Epoch 201/360\n",
            "5/5 [==============================] - 3s 520ms/step - loss: 0.0289\n",
            "Epoch 202/360\n",
            "5/5 [==============================] - 3s 633ms/step - loss: 0.0288\n",
            "Epoch 203/360\n",
            "5/5 [==============================] - 3s 515ms/step - loss: 0.0287\n",
            "Epoch 204/360\n",
            "5/5 [==============================] - 3s 632ms/step - loss: 0.0287\n",
            "Epoch 205/360\n",
            "5/5 [==============================] - 3s 517ms/step - loss: 0.0287\n",
            "Epoch 206/360\n",
            "5/5 [==============================] - 3s 519ms/step - loss: 0.0288\n",
            "Epoch 207/360\n",
            "5/5 [==============================] - 3s 515ms/step - loss: 0.0286\n",
            "Epoch 208/360\n",
            "5/5 [==============================] - 3s 627ms/step - loss: 0.0286\n",
            "Epoch 209/360\n",
            "5/5 [==============================] - 3s 519ms/step - loss: 0.0285\n",
            "Epoch 210/360\n",
            "5/5 [==============================] - 3s 633ms/step - loss: 0.0284\n",
            "Epoch 211/360\n",
            "5/5 [==============================] - 3s 519ms/step - loss: 0.0283\n",
            "Epoch 212/360\n",
            "5/5 [==============================] - 3s 518ms/step - loss: 0.0283\n",
            "Epoch 213/360\n",
            "5/5 [==============================] - 3s 516ms/step - loss: 0.0284\n",
            "Epoch 214/360\n",
            "5/5 [==============================] - 3s 631ms/step - loss: 0.0283\n",
            "Epoch 215/360\n",
            "5/5 [==============================] - 3s 517ms/step - loss: 0.0282\n",
            "Epoch 216/360\n",
            "5/5 [==============================] - 3s 640ms/step - loss: 0.0281\n",
            "Epoch 217/360\n",
            "5/5 [==============================] - 3s 516ms/step - loss: 0.0282\n",
            "Epoch 218/360\n",
            "5/5 [==============================] - 3s 635ms/step - loss: 0.0280\n",
            "Epoch 219/360\n",
            "5/5 [==============================] - 3s 515ms/step - loss: 0.0280\n",
            "Epoch 220/360\n",
            "5/5 [==============================] - 3s 525ms/step - loss: 0.0280\n",
            "Epoch 221/360\n",
            "5/5 [==============================] - 3s 640ms/step - loss: 0.0278\n",
            "Epoch 222/360\n",
            "5/5 [==============================] - 3s 515ms/step - loss: 0.0277\n",
            "Epoch 223/360\n",
            "5/5 [==============================] - 3s 627ms/step - loss: 0.0277\n",
            "Epoch 224/360\n",
            "5/5 [==============================] - 3s 514ms/step - loss: 0.0276\n",
            "Epoch 225/360\n",
            "5/5 [==============================] - 3s 515ms/step - loss: 0.0277\n",
            "Epoch 226/360\n",
            "5/5 [==============================] - 3s 520ms/step - loss: 0.0278\n",
            "Epoch 227/360\n",
            "5/5 [==============================] - 3s 521ms/step - loss: 0.0282\n",
            "Epoch 228/360\n",
            "5/5 [==============================] - 3s 522ms/step - loss: 0.0280\n",
            "Epoch 229/360\n",
            "5/5 [==============================] - 3s 516ms/step - loss: 0.0279\n",
            "Epoch 230/360\n",
            "5/5 [==============================] - 3s 520ms/step - loss: 0.0277\n",
            "Epoch 231/360\n",
            "5/5 [==============================] - 3s 516ms/step - loss: 0.0276\n",
            "Epoch 232/360\n",
            "5/5 [==============================] - 3s 519ms/step - loss: 0.0276\n",
            "Epoch 233/360\n",
            "5/5 [==============================] - 3s 640ms/step - loss: 0.0274\n",
            "Epoch 234/360\n",
            "5/5 [==============================] - 3s 628ms/step - loss: 0.0272\n",
            "Epoch 235/360\n",
            "5/5 [==============================] - 3s 516ms/step - loss: 0.0271\n",
            "Epoch 236/360\n",
            "5/5 [==============================] - 3s 521ms/step - loss: 0.0272\n",
            "Epoch 237/360\n",
            "5/5 [==============================] - 3s 628ms/step - loss: 0.0271\n",
            "Epoch 238/360\n",
            "5/5 [==============================] - 3s 519ms/step - loss: 0.0271\n",
            "Epoch 239/360\n",
            "5/5 [==============================] - 3s 630ms/step - loss: 0.0270\n",
            "Epoch 240/360\n",
            "5/5 [==============================] - 3s 515ms/step - loss: 0.0270\n",
            "Epoch 241/360\n",
            "5/5 [==============================] - 3s 519ms/step - loss: 0.0269\n",
            "Epoch 242/360\n",
            "5/5 [==============================] - 3s 516ms/step - loss: 0.0269\n",
            "Epoch 243/360\n",
            "5/5 [==============================] - 3s 631ms/step - loss: 0.0268\n",
            "Epoch 244/360\n",
            "5/5 [==============================] - 3s 626ms/step - loss: 0.0266\n",
            "Epoch 245/360\n",
            "5/5 [==============================] - 3s 633ms/step - loss: 0.0265\n",
            "Epoch 246/360\n",
            "5/5 [==============================] - 3s 630ms/step - loss: 0.0264\n",
            "Epoch 247/360\n",
            "5/5 [==============================] - 3s 521ms/step - loss: 0.0263\n",
            "Epoch 248/360\n",
            "5/5 [==============================] - 3s 637ms/step - loss: 0.0263\n",
            "Epoch 249/360\n",
            "5/5 [==============================] - 3s 628ms/step - loss: 0.0261\n",
            "Epoch 250/360\n",
            "5/5 [==============================] - 3s 521ms/step - loss: 0.0260\n",
            "Epoch 251/360\n",
            "5/5 [==============================] - 3s 636ms/step - loss: 0.0260\n",
            "Epoch 252/360\n",
            "5/5 [==============================] - 3s 515ms/step - loss: 0.0261\n",
            "Epoch 253/360\n",
            "5/5 [==============================] - 3s 516ms/step - loss: 0.0260\n",
            "Epoch 254/360\n",
            "5/5 [==============================] - 3s 515ms/step - loss: 0.0259\n",
            "Epoch 255/360\n",
            "5/5 [==============================] - 3s 516ms/step - loss: 0.0260\n",
            "Epoch 256/360\n",
            "5/5 [==============================] - 3s 522ms/step - loss: 0.0259\n",
            "Epoch 257/360\n",
            "5/5 [==============================] - 3s 630ms/step - loss: 0.0258\n",
            "Epoch 258/360\n",
            "5/5 [==============================] - 3s 521ms/step - loss: 0.0258\n",
            "Epoch 259/360\n",
            "5/5 [==============================] - 3s 521ms/step - loss: 0.0258\n",
            "Epoch 260/360\n",
            "5/5 [==============================] - 3s 515ms/step - loss: 0.0261\n",
            "Epoch 261/360\n",
            "5/5 [==============================] - 3s 515ms/step - loss: 0.0261\n",
            "Epoch 262/360\n",
            "5/5 [==============================] - 3s 520ms/step - loss: 0.0259\n",
            "Epoch 263/360\n",
            "5/5 [==============================] - 3s 632ms/step - loss: 0.0256\n",
            "Epoch 264/360\n",
            "5/5 [==============================] - 3s 515ms/step - loss: 0.0256\n",
            "Epoch 265/360\n",
            "5/5 [==============================] - 3s 627ms/step - loss: 0.0255\n",
            "Epoch 266/360\n",
            "5/5 [==============================] - 3s 516ms/step - loss: 0.0256\n",
            "Epoch 267/360\n",
            "5/5 [==============================] - 3s 515ms/step - loss: 0.0254\n",
            "Epoch 268/360\n",
            "5/5 [==============================] - 3s 633ms/step - loss: 0.0253\n",
            "Epoch 269/360\n",
            "5/5 [==============================] - 3s 626ms/step - loss: 0.0251\n",
            "Epoch 270/360\n",
            "5/5 [==============================] - 3s 629ms/step - loss: 0.0249\n",
            "Epoch 271/360\n",
            "5/5 [==============================] - 3s 629ms/step - loss: 0.0247\n",
            "Epoch 272/360\n",
            "5/5 [==============================] - 3s 630ms/step - loss: 0.0245\n",
            "Epoch 273/360\n",
            "5/5 [==============================] - 3s 632ms/step - loss: 0.0243\n",
            "Epoch 274/360\n",
            "5/5 [==============================] - 3s 632ms/step - loss: 0.0242\n",
            "Epoch 275/360\n",
            "5/5 [==============================] - 3s 626ms/step - loss: 0.0241\n",
            "Epoch 276/360\n",
            "5/5 [==============================] - 3s 636ms/step - loss: 0.0239\n",
            "Epoch 277/360\n",
            "5/5 [==============================] - 3s 516ms/step - loss: 0.0239\n",
            "Epoch 278/360\n",
            "5/5 [==============================] - 3s 515ms/step - loss: 0.0238\n",
            "Epoch 279/360\n",
            "5/5 [==============================] - 3s 516ms/step - loss: 0.0239\n",
            "Epoch 280/360\n",
            "5/5 [==============================] - 3s 515ms/step - loss: 0.0239\n",
            "Epoch 281/360\n",
            "5/5 [==============================] - 3s 631ms/step - loss: 0.0237\n",
            "Epoch 282/360\n",
            "5/5 [==============================] - 3s 631ms/step - loss: 0.0236\n",
            "Epoch 283/360\n",
            "5/5 [==============================] - 3s 527ms/step - loss: 0.0238\n",
            "Epoch 284/360\n",
            "5/5 [==============================] - 3s 515ms/step - loss: 0.0239\n",
            "Epoch 285/360\n",
            "5/5 [==============================] - 3s 520ms/step - loss: 0.0236\n",
            "Epoch 286/360\n",
            "5/5 [==============================] - 3s 520ms/step - loss: 0.0235\n",
            "Epoch 287/360\n",
            "5/5 [==============================] - 3s 522ms/step - loss: 0.0237\n",
            "Epoch 288/360\n",
            "5/5 [==============================] - 3s 519ms/step - loss: 0.0236\n",
            "Epoch 289/360\n",
            "5/5 [==============================] - 3s 629ms/step - loss: 0.0233\n",
            "Epoch 290/360\n",
            "5/5 [==============================] - 3s 631ms/step - loss: 0.0230\n",
            "Epoch 291/360\n",
            "5/5 [==============================] - 3s 632ms/step - loss: 0.0228\n",
            "Epoch 292/360\n",
            "5/5 [==============================] - 3s 632ms/step - loss: 0.0226\n",
            "Epoch 293/360\n",
            "5/5 [==============================] - 3s 634ms/step - loss: 0.0224\n",
            "Epoch 294/360\n",
            "5/5 [==============================] - 3s 637ms/step - loss: 0.0223\n",
            "Epoch 295/360\n",
            "5/5 [==============================] - 3s 515ms/step - loss: 0.0222\n",
            "Epoch 296/360\n",
            "5/5 [==============================] - 3s 626ms/step - loss: 0.0220\n",
            "Epoch 297/360\n",
            "5/5 [==============================] - 3s 515ms/step - loss: 0.0220\n",
            "Epoch 298/360\n",
            "5/5 [==============================] - 3s 527ms/step - loss: 0.0219\n",
            "Epoch 299/360\n",
            "5/5 [==============================] - 3s 635ms/step - loss: 0.0219\n",
            "Epoch 300/360\n",
            "5/5 [==============================] - 3s 517ms/step - loss: 0.0218\n",
            "Epoch 301/360\n",
            "5/5 [==============================] - 3s 627ms/step - loss: 0.0217\n",
            "Epoch 302/360\n",
            "5/5 [==============================] - 3s 630ms/step - loss: 0.0216\n",
            "Epoch 303/360\n",
            "5/5 [==============================] - 3s 521ms/step - loss: 0.0215\n",
            "Epoch 304/360\n",
            "5/5 [==============================] - 3s 634ms/step - loss: 0.0214\n",
            "Epoch 305/360\n",
            "5/5 [==============================] - 3s 525ms/step - loss: 0.0213\n",
            "Epoch 306/360\n",
            "5/5 [==============================] - 3s 629ms/step - loss: 0.0212\n",
            "Epoch 307/360\n",
            "5/5 [==============================] - 3s 525ms/step - loss: 0.0213\n",
            "Epoch 308/360\n",
            "5/5 [==============================] - 3s 515ms/step - loss: 0.0214\n",
            "Epoch 309/360\n",
            "5/5 [==============================] - 3s 516ms/step - loss: 0.0214\n",
            "Epoch 310/360\n",
            "5/5 [==============================] - 3s 514ms/step - loss: 0.0214\n",
            "Epoch 311/360\n",
            "5/5 [==============================] - 3s 516ms/step - loss: 0.0212\n",
            "Epoch 312/360\n",
            "5/5 [==============================] - 3s 626ms/step - loss: 0.0211\n",
            "Epoch 313/360\n",
            "5/5 [==============================] - 3s 634ms/step - loss: 0.0210\n",
            "Epoch 314/360\n",
            "5/5 [==============================] - 3s 525ms/step - loss: 0.0209\n",
            "Epoch 315/360\n",
            "5/5 [==============================] - 3s 519ms/step - loss: 0.0211\n",
            "Epoch 316/360\n",
            "5/5 [==============================] - 3s 515ms/step - loss: 0.0210\n",
            "Epoch 317/360\n",
            "5/5 [==============================] - 3s 629ms/step - loss: 0.0208\n",
            "Epoch 318/360\n",
            "5/5 [==============================] - 3s 632ms/step - loss: 0.0207\n",
            "Epoch 319/360\n",
            "5/5 [==============================] - 3s 515ms/step - loss: 0.0206\n",
            "Epoch 320/360\n",
            "5/5 [==============================] - 3s 519ms/step - loss: 0.0206\n",
            "Epoch 321/360\n",
            "5/5 [==============================] - 3s 524ms/step - loss: 0.0206\n",
            "Epoch 322/360\n",
            "5/5 [==============================] - 3s 632ms/step - loss: 0.0205\n",
            "Epoch 323/360\n",
            "5/5 [==============================] - 3s 637ms/step - loss: 0.0204\n",
            "Epoch 324/360\n",
            "5/5 [==============================] - 3s 514ms/step - loss: 0.0203\n",
            "Epoch 325/360\n",
            "5/5 [==============================] - 3s 524ms/step - loss: 0.0203\n",
            "Epoch 326/360\n",
            "5/5 [==============================] - 3s 634ms/step - loss: 0.0203\n",
            "Epoch 327/360\n",
            "5/5 [==============================] - 3s 632ms/step - loss: 0.0202\n",
            "Epoch 328/360\n",
            "5/5 [==============================] - 3s 520ms/step - loss: 0.0201\n",
            "Epoch 329/360\n",
            "5/5 [==============================] - 3s 637ms/step - loss: 0.0200\n",
            "Epoch 330/360\n",
            "5/5 [==============================] - 3s 521ms/step - loss: 0.0199\n",
            "Epoch 331/360\n",
            "5/5 [==============================] - 3s 515ms/step - loss: 0.0200\n",
            "Epoch 332/360\n",
            "5/5 [==============================] - 3s 514ms/step - loss: 0.0199\n",
            "Epoch 333/360\n",
            "5/5 [==============================] - 3s 639ms/step - loss: 0.0199\n",
            "Epoch 334/360\n",
            "5/5 [==============================] - 3s 521ms/step - loss: 0.0200\n",
            "Epoch 335/360\n",
            "5/5 [==============================] - 3s 520ms/step - loss: 0.0200\n",
            "Epoch 336/360\n",
            "5/5 [==============================] - 3s 515ms/step - loss: 0.0201\n",
            "Epoch 337/360\n",
            "5/5 [==============================] - 3s 515ms/step - loss: 0.0199\n",
            "Epoch 338/360\n",
            "5/5 [==============================] - 3s 515ms/step - loss: 0.0199\n",
            "Epoch 339/360\n",
            "5/5 [==============================] - 3s 519ms/step - loss: 0.0199\n",
            "Epoch 340/360\n",
            "5/5 [==============================] - 3s 515ms/step - loss: 0.0199\n",
            "Epoch 341/360\n",
            "5/5 [==============================] - 3s 635ms/step - loss: 0.0197\n",
            "Epoch 342/360\n",
            "5/5 [==============================] - 3s 523ms/step - loss: 0.0197\n",
            "Epoch 343/360\n",
            "5/5 [==============================] - 3s 514ms/step - loss: 0.0198\n",
            "Epoch 344/360\n",
            "5/5 [==============================] - 3s 515ms/step - loss: 0.0197\n",
            "Epoch 345/360\n",
            "5/5 [==============================] - 3s 635ms/step - loss: 0.0195\n",
            "Epoch 346/360\n",
            "5/5 [==============================] - 3s 637ms/step - loss: 0.0194\n",
            "Epoch 347/360\n",
            "5/5 [==============================] - 3s 516ms/step - loss: 0.0196\n",
            "Epoch 348/360\n",
            "5/5 [==============================] - 3s 521ms/step - loss: 0.0195\n",
            "Epoch 349/360\n",
            "5/5 [==============================] - 3s 519ms/step - loss: 0.0196\n",
            "Epoch 350/360\n",
            "5/5 [==============================] - 3s 519ms/step - loss: 0.0195\n",
            "Epoch 351/360\n",
            "5/5 [==============================] - 3s 515ms/step - loss: 0.0193\n",
            "Epoch 352/360\n",
            "5/5 [==============================] - 3s 632ms/step - loss: 0.0192\n",
            "Epoch 353/360\n",
            "5/5 [==============================] - 3s 521ms/step - loss: 0.0191\n",
            "Epoch 354/360\n",
            "5/5 [==============================] - 3s 628ms/step - loss: 0.0189\n",
            "Epoch 355/360\n",
            "5/5 [==============================] - 3s 519ms/step - loss: 0.0189\n",
            "Epoch 356/360\n",
            "5/5 [==============================] - 3s 632ms/step - loss: 0.0188\n",
            "Epoch 357/360\n",
            "5/5 [==============================] - 3s 516ms/step - loss: 0.0188\n",
            "Epoch 358/360\n",
            "5/5 [==============================] - 3s 515ms/step - loss: 0.0187\n",
            "Epoch 359/360\n",
            "5/5 [==============================] - 3s 626ms/step - loss: 0.0187\n",
            "Epoch 360/360\n",
            "5/5 [==============================] - 3s 514ms/step - loss: 0.0186\n"
          ]
        }
      ],
      "source": [
        "# finally, train the model on our training set\n",
        "history = test_model.fit(x_train, y_train,\n",
        "                         epochs=360, batch_size=32,\n",
        "                         callbacks=[e_stop])\n",
        "\n",
        "\n",
        "# save the model \n",
        "test_model.save('test_model.h5')"
      ]
    },
    {
      "cell_type": "markdown",
      "metadata": {
        "id": "d1yECRIT7abs"
      },
      "source": [
        "# Model Testing"
      ]
    },
    {
      "cell_type": "markdown",
      "metadata": {
        "id": "HyoCif-EE99L"
      },
      "source": [
        "While model output is not brilliantly clear, we can see that the model succeeds to some degree in seperating out audio."
      ]
    },
    {
      "cell_type": "markdown",
      "metadata": {
        "id": "tShEPwvc7g0f"
      },
      "source": [
        "## Imports"
      ]
    },
    {
      "cell_type": "code",
      "execution_count": null,
      "metadata": {
        "id": "ipNrOUwQ7ikc"
      },
      "outputs": [],
      "source": [
        "import soundfile as sf\n",
        "from IPython.display import Audio\n",
        "from IPython.display import display"
      ]
    },
    {
      "cell_type": "markdown",
      "metadata": {
        "id": "Y9XYa_fG7b7p"
      },
      "source": [
        "## Function Definitions"
      ]
    },
    {
      "cell_type": "code",
      "execution_count": null,
      "metadata": {
        "id": "JZj53gj4MlX1"
      },
      "outputs": [],
      "source": [
        "# get a .wav (44.1Khz, stereo) and load it as a numpy array.\n",
        "# transpose it so the shape matches model input expectations\n",
        "def preprocess_wav(given_wav):\n",
        "  track, sr = librosa.load(given_wav, sr=44100, mono=False)\n",
        "  return track.T"
      ]
    },
    {
      "cell_type": "markdown",
      "metadata": {
        "id": "6qANvc0YQ75l"
      },
      "source": [
        "## Testing\n"
      ]
    },
    {
      "cell_type": "code",
      "execution_count": 43,
      "metadata": {
        "id": "2Rp2KSsOGa09"
      },
      "outputs": [],
      "source": [
        "def show_preds(prediction):\n",
        "  labels = [\"drums\",\"vocals\",\"bass\",\"other\"]\n",
        "  for i in range(4):\n",
        "    output_file = f\"train_test{labels[i]+str(np.random.randint(9999))}.wav\"\n",
        "    stereo_phrase = i*2\n",
        "    print(labels[i])\n",
        "    sf.write(f'{output_file}', prediction[0,:,stereo_phrase:stereo_phrase+2], 44100)\n",
        "    display(Audio(output_file))"
      ]
    },
    {
      "cell_type": "code",
      "execution_count": null,
      "metadata": {
        "colab": {
          "base_uri": "https://localhost:8080/"
        },
        "id": "BPiisvA0jH0X",
        "outputId": "a352e7d6-5903-44f5-d4c8-6c1f47f154f3"
      },
      "outputs": [
        {
          "name": "stdout",
          "output_type": "stream",
          "text": [
            "1/1 [==============================] - 0s 51ms/step\n"
          ]
        }
      ],
      "source": [
        "prediction = test_model.predict(x_train[50][np.newaxis, ...])"
      ]
    },
    {
      "cell_type": "code",
      "execution_count": null,
      "metadata": {
        "id": "Y6vi1Ll9mbq2"
      },
      "outputs": [],
      "source": [
        "show_preds(prediction)"
      ]
    },
    {
      "cell_type": "markdown",
      "metadata": {
        "id": "BFYx2MlcEUla"
      },
      "source": [
        "https://www.researchgate.net/publication/345316071_Rethinking_the_Design_of_Sequence-to-Sequence_Models_for_Efficient_Machine_Translation/figures?lo=1&utm_source=google&utm_medium=organic"
      ]
    }
  ],
  "metadata": {
    "accelerator": "GPU",
    "colab": {
      "machine_shape": "hm",
      "provenance": []
    },
    "kernelspec": {
      "display_name": "Python 3",
      "name": "python3"
    },
    "language_info": {
      "name": "python"
    }
  },
  "nbformat": 4,
  "nbformat_minor": 0
}